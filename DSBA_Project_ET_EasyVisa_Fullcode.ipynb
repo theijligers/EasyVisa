{
 "cells": [
  {
   "cell_type": "markdown",
   "id": "dad14690",
   "metadata": {},
   "source": [
    "# EasyVisa Project\n",
    "\n",
    "## Context:\n",
    "\n",
    "Business communities in the United States are facing high demand for human resources, but one of the constant challenges is identifying and attracting the right talent, which is perhaps the most important element in remaining competitive. Companies in the United States look for hard-working, talented, and qualified individuals both locally as well as abroad.\n",
    "\n",
    "The Immigration and Nationality Act (INA) of the US permits foreign workers to come to the United States to work on either a temporary or permanent basis. The act also protects US workers against adverse impacts on their wages or working conditions by ensuring US employers' compliance with statutory requirements when they hire foreign workers to fill workforce shortages. The immigration programs are administered by the Office of Foreign Labor Certification (OFLC).\n",
    "\n",
    "OFLC processes job certification applications for employers seeking to bring foreign workers into the United States and grants certifications in those cases where employers can demonstrate that there are not sufficient US workers available to perform the work at wages that meet or exceed the wage paid for the occupation in the area of intended employment.\n",
    "\n",
    "## Objective:\n",
    "\n",
    "In FY 2016, the OFLC processed 775,979 employer applications for 1,699,957 positions for temporary and permanent labor certifications. This was a nine percent increase in the overall number of processed applications from the previous year. The process of reviewing every case is becoming a tedious task as the number of applicants is increasing every year.\n",
    "\n",
    "The increasing number of applicants every year calls for a Machine Learning based solution that can help in shortlisting the candidates having higher chances of VISA approval. OFLC has hired your firm EasyVisa for data-driven solutions. You as a data scientist have to analyze the data provided and, with the help of a classification model:\n",
    "\n",
    "* Facilitate the process of visa approvals.\n",
    "* Recommend a suitable profile for the applicants for whom the visa should be certified or denied based on the drivers that significantly influence the case status. \n",
    "\n",
    "\n",
    "## Data Description\n",
    "\n",
    "The data contains the different attributes of the employee and the employer. The detailed data dictionary is given below.\n",
    "\n",
    "* case_id: ID of each visa application\n",
    "* continent: Information of continent the employee\n",
    "* education_of_employee: Information of education of the employee\n",
    "* has_job_experience: Does the employee has any job experience? Y= Yes; N = No\n",
    "* requires_job_training: Does the employee require any job training? Y = Yes; N = No \n",
    "* no_of_employees: Number of employees in the employer's company\n",
    "* yr_of_estab: Year in which the employer's company was established\n",
    "* region_of_employment: Information of foreign worker's intended region of employment in the US.\n",
    "* prevailing_wage:  Average wage paid to similarly employed workers in a specific occupation in the area of intended employment. The purpose of the prevailing wage is to ensure that the foreign worker is not underpaid compared to other workers offering the same or similar service in the same area of employment. \n",
    "* unit_of_wage: Unit of prevailing wage. Values include Hourly, Weekly, Monthly, and Yearly.\n",
    "* full_time_position: Is the position of work full-time? Y = Full Time Position; N = Part Time Position\n",
    "* case_status:  Flag indicating if the Visa was certified or denied"
   ]
  },
  {
   "cell_type": "markdown",
   "id": "22c540b5",
   "metadata": {},
   "source": [
    "## Importing necessary libraries and data"
   ]
  },
  {
   "cell_type": "code",
   "execution_count": 1,
   "id": "645e7767",
   "metadata": {},
   "outputs": [
    {
     "data": {
      "application/javascript": [
       "\n",
       "            setTimeout(function() {\n",
       "                var nbb_cell_id = 1;\n",
       "                var nbb_unformatted_code = \"# this will help in making the Python code more structured automatically (good coding practice)\\n%load_ext nb_black\\n\\nimport warnings\\n\\nwarnings.filterwarnings(\\\"ignore\\\")\\n\\n# Libraries to help with reading and manipulating data\\nimport numpy as np\\nimport pandas as pd\\n\\n# Library to split data\\nfrom sklearn.model_selection import train_test_split\\n\\n# libaries to help with data visualization\\nimport matplotlib.pyplot as plt\\nimport seaborn as sns\\n\\n# Removes the limit for the number of displayed columns\\npd.set_option(\\\"display.max_columns\\\", None)\\n# Sets the limit for the number of displayed rows\\npd.set_option(\\\"display.max_rows\\\", 100)\\n\\n\\n# Libraries different ensemble classifiers\\nfrom sklearn.ensemble import (\\n    BaggingClassifier,\\n    RandomForestClassifier,\\n    AdaBoostClassifier,\\n    GradientBoostingClassifier,\\n    StackingClassifier,\\n)\\n\\nfrom xgboost import XGBClassifier\\nfrom sklearn.tree import DecisionTreeClassifier\\n\\n# Libraries to get different metric scores\\nfrom sklearn import metrics\\nfrom sklearn.metrics import (\\n    confusion_matrix,\\n    accuracy_score,\\n    precision_score,\\n    recall_score,\\n    f1_score,\\n)\\n\\n# To tune different models\\nfrom sklearn.model_selection import GridSearchCV\";\n",
       "                var nbb_formatted_code = \"# this will help in making the Python code more structured automatically (good coding practice)\\n%load_ext nb_black\\n\\nimport warnings\\n\\nwarnings.filterwarnings(\\\"ignore\\\")\\n\\n# Libraries to help with reading and manipulating data\\nimport numpy as np\\nimport pandas as pd\\n\\n# Library to split data\\nfrom sklearn.model_selection import train_test_split\\n\\n# libaries to help with data visualization\\nimport matplotlib.pyplot as plt\\nimport seaborn as sns\\n\\n# Removes the limit for the number of displayed columns\\npd.set_option(\\\"display.max_columns\\\", None)\\n# Sets the limit for the number of displayed rows\\npd.set_option(\\\"display.max_rows\\\", 100)\\n\\n\\n# Libraries different ensemble classifiers\\nfrom sklearn.ensemble import (\\n    BaggingClassifier,\\n    RandomForestClassifier,\\n    AdaBoostClassifier,\\n    GradientBoostingClassifier,\\n    StackingClassifier,\\n)\\n\\nfrom xgboost import XGBClassifier\\nfrom sklearn.tree import DecisionTreeClassifier\\n\\n# Libraries to get different metric scores\\nfrom sklearn import metrics\\nfrom sklearn.metrics import (\\n    confusion_matrix,\\n    accuracy_score,\\n    precision_score,\\n    recall_score,\\n    f1_score,\\n)\\n\\n# To tune different models\\nfrom sklearn.model_selection import GridSearchCV\";\n",
       "                var nbb_cells = Jupyter.notebook.get_cells();\n",
       "                for (var i = 0; i < nbb_cells.length; ++i) {\n",
       "                    if (nbb_cells[i].input_prompt_number == nbb_cell_id) {\n",
       "                        if (nbb_cells[i].get_text() == nbb_unformatted_code) {\n",
       "                             nbb_cells[i].set_text(nbb_formatted_code);\n",
       "                        }\n",
       "                        break;\n",
       "                    }\n",
       "                }\n",
       "            }, 500);\n",
       "            "
      ],
      "text/plain": [
       "<IPython.core.display.Javascript object>"
      ]
     },
     "metadata": {},
     "output_type": "display_data"
    }
   ],
   "source": [
    "# this will help in making the Python code more structured automatically (good coding practice)\n",
    "%load_ext nb_black\n",
    "\n",
    "import warnings\n",
    "\n",
    "warnings.filterwarnings(\"ignore\")\n",
    "\n",
    "# Libraries to help with reading and manipulating data\n",
    "import numpy as np\n",
    "import pandas as pd\n",
    "\n",
    "# Library to split data\n",
    "from sklearn.model_selection import train_test_split\n",
    "\n",
    "# libaries to help with data visualization\n",
    "import matplotlib.pyplot as plt\n",
    "import seaborn as sns\n",
    "\n",
    "# Removes the limit for the number of displayed columns\n",
    "pd.set_option(\"display.max_columns\", None)\n",
    "# Sets the limit for the number of displayed rows\n",
    "pd.set_option(\"display.max_rows\", 100)\n",
    "\n",
    "\n",
    "# Libraries different ensemble classifiers\n",
    "from sklearn.ensemble import (\n",
    "    BaggingClassifier,\n",
    "    RandomForestClassifier,\n",
    "    AdaBoostClassifier,\n",
    "    GradientBoostingClassifier,\n",
    "    StackingClassifier,\n",
    ")\n",
    "\n",
    "from xgboost import XGBClassifier\n",
    "from sklearn.tree import DecisionTreeClassifier\n",
    "\n",
    "# Libraries to get different metric scores\n",
    "from sklearn import metrics\n",
    "from sklearn.metrics import (\n",
    "    confusion_matrix,\n",
    "    accuracy_score,\n",
    "    precision_score,\n",
    "    recall_score,\n",
    "    f1_score,\n",
    ")\n",
    "\n",
    "# To tune different models\n",
    "from sklearn.model_selection import GridSearchCV"
   ]
  },
  {
   "cell_type": "code",
   "execution_count": 2,
   "id": "579a454e",
   "metadata": {},
   "outputs": [
    {
     "data": {
      "application/javascript": [
       "\n",
       "            setTimeout(function() {\n",
       "                var nbb_cell_id = 2;\n",
       "                var nbb_unformatted_code = \"visa = pd.read_csv(\\\"EasyVisa.csv\\\")  #  reads the data\";\n",
       "                var nbb_formatted_code = \"visa = pd.read_csv(\\\"EasyVisa.csv\\\")  #  reads the data\";\n",
       "                var nbb_cells = Jupyter.notebook.get_cells();\n",
       "                for (var i = 0; i < nbb_cells.length; ++i) {\n",
       "                    if (nbb_cells[i].input_prompt_number == nbb_cell_id) {\n",
       "                        if (nbb_cells[i].get_text() == nbb_unformatted_code) {\n",
       "                             nbb_cells[i].set_text(nbb_formatted_code);\n",
       "                        }\n",
       "                        break;\n",
       "                    }\n",
       "                }\n",
       "            }, 500);\n",
       "            "
      ],
      "text/plain": [
       "<IPython.core.display.Javascript object>"
      ]
     },
     "metadata": {},
     "output_type": "display_data"
    }
   ],
   "source": [
    "visa = pd.read_csv(\"EasyVisa.csv\")  #  reads the data"
   ]
  },
  {
   "cell_type": "code",
   "execution_count": 3,
   "id": "abe1da45",
   "metadata": {},
   "outputs": [
    {
     "data": {
      "application/javascript": [
       "\n",
       "            setTimeout(function() {\n",
       "                var nbb_cell_id = 3;\n",
       "                var nbb_unformatted_code = \"# copying data to another variable to avoid any changes to original data\\ndata = visa.copy()\";\n",
       "                var nbb_formatted_code = \"# copying data to another variable to avoid any changes to original data\\ndata = visa.copy()\";\n",
       "                var nbb_cells = Jupyter.notebook.get_cells();\n",
       "                for (var i = 0; i < nbb_cells.length; ++i) {\n",
       "                    if (nbb_cells[i].input_prompt_number == nbb_cell_id) {\n",
       "                        if (nbb_cells[i].get_text() == nbb_unformatted_code) {\n",
       "                             nbb_cells[i].set_text(nbb_formatted_code);\n",
       "                        }\n",
       "                        break;\n",
       "                    }\n",
       "                }\n",
       "            }, 500);\n",
       "            "
      ],
      "text/plain": [
       "<IPython.core.display.Javascript object>"
      ]
     },
     "metadata": {},
     "output_type": "display_data"
    }
   ],
   "source": [
    "# copying data to another variable to avoid any changes to original data\n",
    "data = visa.copy()"
   ]
  },
  {
   "cell_type": "code",
   "execution_count": 4,
   "id": "d8866b7e",
   "metadata": {},
   "outputs": [
    {
     "data": {
      "text/html": [
       "<div>\n",
       "<style scoped>\n",
       "    .dataframe tbody tr th:only-of-type {\n",
       "        vertical-align: middle;\n",
       "    }\n",
       "\n",
       "    .dataframe tbody tr th {\n",
       "        vertical-align: top;\n",
       "    }\n",
       "\n",
       "    .dataframe thead th {\n",
       "        text-align: right;\n",
       "    }\n",
       "</style>\n",
       "<table border=\"1\" class=\"dataframe\">\n",
       "  <thead>\n",
       "    <tr style=\"text-align: right;\">\n",
       "      <th></th>\n",
       "      <th>case_id</th>\n",
       "      <th>continent</th>\n",
       "      <th>education_of_employee</th>\n",
       "      <th>has_job_experience</th>\n",
       "      <th>requires_job_training</th>\n",
       "      <th>no_of_employees</th>\n",
       "      <th>yr_of_estab</th>\n",
       "      <th>region_of_employment</th>\n",
       "      <th>prevailing_wage</th>\n",
       "      <th>unit_of_wage</th>\n",
       "      <th>full_time_position</th>\n",
       "      <th>case_status</th>\n",
       "    </tr>\n",
       "  </thead>\n",
       "  <tbody>\n",
       "    <tr>\n",
       "      <th>0</th>\n",
       "      <td>EZYV01</td>\n",
       "      <td>Asia</td>\n",
       "      <td>High School</td>\n",
       "      <td>N</td>\n",
       "      <td>N</td>\n",
       "      <td>14513</td>\n",
       "      <td>2007</td>\n",
       "      <td>West</td>\n",
       "      <td>592.2029</td>\n",
       "      <td>Hour</td>\n",
       "      <td>Y</td>\n",
       "      <td>Denied</td>\n",
       "    </tr>\n",
       "    <tr>\n",
       "      <th>1</th>\n",
       "      <td>EZYV02</td>\n",
       "      <td>Asia</td>\n",
       "      <td>Master's</td>\n",
       "      <td>Y</td>\n",
       "      <td>N</td>\n",
       "      <td>2412</td>\n",
       "      <td>2002</td>\n",
       "      <td>Northeast</td>\n",
       "      <td>83425.6500</td>\n",
       "      <td>Year</td>\n",
       "      <td>Y</td>\n",
       "      <td>Certified</td>\n",
       "    </tr>\n",
       "    <tr>\n",
       "      <th>2</th>\n",
       "      <td>EZYV03</td>\n",
       "      <td>Asia</td>\n",
       "      <td>Bachelor's</td>\n",
       "      <td>N</td>\n",
       "      <td>Y</td>\n",
       "      <td>44444</td>\n",
       "      <td>2008</td>\n",
       "      <td>West</td>\n",
       "      <td>122996.8600</td>\n",
       "      <td>Year</td>\n",
       "      <td>Y</td>\n",
       "      <td>Denied</td>\n",
       "    </tr>\n",
       "    <tr>\n",
       "      <th>3</th>\n",
       "      <td>EZYV04</td>\n",
       "      <td>Asia</td>\n",
       "      <td>Bachelor's</td>\n",
       "      <td>N</td>\n",
       "      <td>N</td>\n",
       "      <td>98</td>\n",
       "      <td>1897</td>\n",
       "      <td>West</td>\n",
       "      <td>83434.0300</td>\n",
       "      <td>Year</td>\n",
       "      <td>Y</td>\n",
       "      <td>Denied</td>\n",
       "    </tr>\n",
       "    <tr>\n",
       "      <th>4</th>\n",
       "      <td>EZYV05</td>\n",
       "      <td>Africa</td>\n",
       "      <td>Master's</td>\n",
       "      <td>Y</td>\n",
       "      <td>N</td>\n",
       "      <td>1082</td>\n",
       "      <td>2005</td>\n",
       "      <td>South</td>\n",
       "      <td>149907.3900</td>\n",
       "      <td>Year</td>\n",
       "      <td>Y</td>\n",
       "      <td>Certified</td>\n",
       "    </tr>\n",
       "  </tbody>\n",
       "</table>\n",
       "</div>"
      ],
      "text/plain": [
       "  case_id continent education_of_employee has_job_experience  \\\n",
       "0  EZYV01      Asia           High School                  N   \n",
       "1  EZYV02      Asia              Master's                  Y   \n",
       "2  EZYV03      Asia            Bachelor's                  N   \n",
       "3  EZYV04      Asia            Bachelor's                  N   \n",
       "4  EZYV05    Africa              Master's                  Y   \n",
       "\n",
       "  requires_job_training  no_of_employees  yr_of_estab region_of_employment  \\\n",
       "0                     N            14513         2007                 West   \n",
       "1                     N             2412         2002            Northeast   \n",
       "2                     Y            44444         2008                 West   \n",
       "3                     N               98         1897                 West   \n",
       "4                     N             1082         2005                South   \n",
       "\n",
       "   prevailing_wage unit_of_wage full_time_position case_status  \n",
       "0         592.2029         Hour                  Y      Denied  \n",
       "1       83425.6500         Year                  Y   Certified  \n",
       "2      122996.8600         Year                  Y      Denied  \n",
       "3       83434.0300         Year                  Y      Denied  \n",
       "4      149907.3900         Year                  Y   Certified  "
      ]
     },
     "execution_count": 4,
     "metadata": {},
     "output_type": "execute_result"
    },
    {
     "data": {
      "application/javascript": [
       "\n",
       "            setTimeout(function() {\n",
       "                var nbb_cell_id = 4;\n",
       "                var nbb_unformatted_code = \"data.head()  # view top 5 rows of the data\";\n",
       "                var nbb_formatted_code = \"data.head()  # view top 5 rows of the data\";\n",
       "                var nbb_cells = Jupyter.notebook.get_cells();\n",
       "                for (var i = 0; i < nbb_cells.length; ++i) {\n",
       "                    if (nbb_cells[i].input_prompt_number == nbb_cell_id) {\n",
       "                        if (nbb_cells[i].get_text() == nbb_unformatted_code) {\n",
       "                             nbb_cells[i].set_text(nbb_formatted_code);\n",
       "                        }\n",
       "                        break;\n",
       "                    }\n",
       "                }\n",
       "            }, 500);\n",
       "            "
      ],
      "text/plain": [
       "<IPython.core.display.Javascript object>"
      ]
     },
     "metadata": {},
     "output_type": "display_data"
    }
   ],
   "source": [
    "data.head()  # view top 5 rows of the data"
   ]
  },
  {
   "cell_type": "code",
   "execution_count": 5,
   "id": "4bb9656f",
   "metadata": {},
   "outputs": [
    {
     "data": {
      "text/html": [
       "<div>\n",
       "<style scoped>\n",
       "    .dataframe tbody tr th:only-of-type {\n",
       "        vertical-align: middle;\n",
       "    }\n",
       "\n",
       "    .dataframe tbody tr th {\n",
       "        vertical-align: top;\n",
       "    }\n",
       "\n",
       "    .dataframe thead th {\n",
       "        text-align: right;\n",
       "    }\n",
       "</style>\n",
       "<table border=\"1\" class=\"dataframe\">\n",
       "  <thead>\n",
       "    <tr style=\"text-align: right;\">\n",
       "      <th></th>\n",
       "      <th>case_id</th>\n",
       "      <th>continent</th>\n",
       "      <th>education_of_employee</th>\n",
       "      <th>has_job_experience</th>\n",
       "      <th>requires_job_training</th>\n",
       "      <th>no_of_employees</th>\n",
       "      <th>yr_of_estab</th>\n",
       "      <th>region_of_employment</th>\n",
       "      <th>prevailing_wage</th>\n",
       "      <th>unit_of_wage</th>\n",
       "      <th>full_time_position</th>\n",
       "      <th>case_status</th>\n",
       "    </tr>\n",
       "  </thead>\n",
       "  <tbody>\n",
       "    <tr>\n",
       "      <th>25475</th>\n",
       "      <td>EZYV25476</td>\n",
       "      <td>Asia</td>\n",
       "      <td>Bachelor's</td>\n",
       "      <td>Y</td>\n",
       "      <td>Y</td>\n",
       "      <td>2601</td>\n",
       "      <td>2008</td>\n",
       "      <td>South</td>\n",
       "      <td>77092.57</td>\n",
       "      <td>Year</td>\n",
       "      <td>Y</td>\n",
       "      <td>Certified</td>\n",
       "    </tr>\n",
       "    <tr>\n",
       "      <th>25476</th>\n",
       "      <td>EZYV25477</td>\n",
       "      <td>Asia</td>\n",
       "      <td>High School</td>\n",
       "      <td>Y</td>\n",
       "      <td>N</td>\n",
       "      <td>3274</td>\n",
       "      <td>2006</td>\n",
       "      <td>Northeast</td>\n",
       "      <td>279174.79</td>\n",
       "      <td>Year</td>\n",
       "      <td>Y</td>\n",
       "      <td>Certified</td>\n",
       "    </tr>\n",
       "    <tr>\n",
       "      <th>25477</th>\n",
       "      <td>EZYV25478</td>\n",
       "      <td>Asia</td>\n",
       "      <td>Master's</td>\n",
       "      <td>Y</td>\n",
       "      <td>N</td>\n",
       "      <td>1121</td>\n",
       "      <td>1910</td>\n",
       "      <td>South</td>\n",
       "      <td>146298.85</td>\n",
       "      <td>Year</td>\n",
       "      <td>N</td>\n",
       "      <td>Certified</td>\n",
       "    </tr>\n",
       "    <tr>\n",
       "      <th>25478</th>\n",
       "      <td>EZYV25479</td>\n",
       "      <td>Asia</td>\n",
       "      <td>Master's</td>\n",
       "      <td>Y</td>\n",
       "      <td>Y</td>\n",
       "      <td>1918</td>\n",
       "      <td>1887</td>\n",
       "      <td>West</td>\n",
       "      <td>86154.77</td>\n",
       "      <td>Year</td>\n",
       "      <td>Y</td>\n",
       "      <td>Certified</td>\n",
       "    </tr>\n",
       "    <tr>\n",
       "      <th>25479</th>\n",
       "      <td>EZYV25480</td>\n",
       "      <td>Asia</td>\n",
       "      <td>Bachelor's</td>\n",
       "      <td>Y</td>\n",
       "      <td>N</td>\n",
       "      <td>3195</td>\n",
       "      <td>1960</td>\n",
       "      <td>Midwest</td>\n",
       "      <td>70876.91</td>\n",
       "      <td>Year</td>\n",
       "      <td>Y</td>\n",
       "      <td>Certified</td>\n",
       "    </tr>\n",
       "  </tbody>\n",
       "</table>\n",
       "</div>"
      ],
      "text/plain": [
       "         case_id continent education_of_employee has_job_experience  \\\n",
       "25475  EZYV25476      Asia            Bachelor's                  Y   \n",
       "25476  EZYV25477      Asia           High School                  Y   \n",
       "25477  EZYV25478      Asia              Master's                  Y   \n",
       "25478  EZYV25479      Asia              Master's                  Y   \n",
       "25479  EZYV25480      Asia            Bachelor's                  Y   \n",
       "\n",
       "      requires_job_training  no_of_employees  yr_of_estab  \\\n",
       "25475                     Y             2601         2008   \n",
       "25476                     N             3274         2006   \n",
       "25477                     N             1121         1910   \n",
       "25478                     Y             1918         1887   \n",
       "25479                     N             3195         1960   \n",
       "\n",
       "      region_of_employment  prevailing_wage unit_of_wage full_time_position  \\\n",
       "25475                South         77092.57         Year                  Y   \n",
       "25476            Northeast        279174.79         Year                  Y   \n",
       "25477                South        146298.85         Year                  N   \n",
       "25478                 West         86154.77         Year                  Y   \n",
       "25479              Midwest         70876.91         Year                  Y   \n",
       "\n",
       "      case_status  \n",
       "25475   Certified  \n",
       "25476   Certified  \n",
       "25477   Certified  \n",
       "25478   Certified  \n",
       "25479   Certified  "
      ]
     },
     "execution_count": 5,
     "metadata": {},
     "output_type": "execute_result"
    },
    {
     "data": {
      "application/javascript": [
       "\n",
       "            setTimeout(function() {\n",
       "                var nbb_cell_id = 5;\n",
       "                var nbb_unformatted_code = \"data.tail()  # view top 5 rows of the data\";\n",
       "                var nbb_formatted_code = \"data.tail()  # view top 5 rows of the data\";\n",
       "                var nbb_cells = Jupyter.notebook.get_cells();\n",
       "                for (var i = 0; i < nbb_cells.length; ++i) {\n",
       "                    if (nbb_cells[i].input_prompt_number == nbb_cell_id) {\n",
       "                        if (nbb_cells[i].get_text() == nbb_unformatted_code) {\n",
       "                             nbb_cells[i].set_text(nbb_formatted_code);\n",
       "                        }\n",
       "                        break;\n",
       "                    }\n",
       "                }\n",
       "            }, 500);\n",
       "            "
      ],
      "text/plain": [
       "<IPython.core.display.Javascript object>"
      ]
     },
     "metadata": {},
     "output_type": "display_data"
    }
   ],
   "source": [
    "data.tail()  # view top 5 rows of the data"
   ]
  },
  {
   "cell_type": "code",
   "execution_count": 6,
   "id": "7f78eefc",
   "metadata": {},
   "outputs": [
    {
     "data": {
      "text/plain": [
       "(25480, 12)"
      ]
     },
     "execution_count": 6,
     "metadata": {},
     "output_type": "execute_result"
    },
    {
     "data": {
      "application/javascript": [
       "\n",
       "            setTimeout(function() {\n",
       "                var nbb_cell_id = 6;\n",
       "                var nbb_unformatted_code = \"data.shape  # view dimensions of the data\";\n",
       "                var nbb_formatted_code = \"data.shape  # view dimensions of the data\";\n",
       "                var nbb_cells = Jupyter.notebook.get_cells();\n",
       "                for (var i = 0; i < nbb_cells.length; ++i) {\n",
       "                    if (nbb_cells[i].input_prompt_number == nbb_cell_id) {\n",
       "                        if (nbb_cells[i].get_text() == nbb_unformatted_code) {\n",
       "                             nbb_cells[i].set_text(nbb_formatted_code);\n",
       "                        }\n",
       "                        break;\n",
       "                    }\n",
       "                }\n",
       "            }, 500);\n",
       "            "
      ],
      "text/plain": [
       "<IPython.core.display.Javascript object>"
      ]
     },
     "metadata": {},
     "output_type": "display_data"
    }
   ],
   "source": [
    "data.shape  # view dimensions of the data"
   ]
  },
  {
   "cell_type": "markdown",
   "id": "fc6f6e41",
   "metadata": {},
   "source": [
    "### Data types of the columns for the dataset"
   ]
  },
  {
   "cell_type": "code",
   "execution_count": 7,
   "id": "a0f8bb40",
   "metadata": {},
   "outputs": [
    {
     "name": "stdout",
     "output_type": "stream",
     "text": [
      "<class 'pandas.core.frame.DataFrame'>\n",
      "RangeIndex: 25480 entries, 0 to 25479\n",
      "Data columns (total 12 columns):\n",
      " #   Column                 Non-Null Count  Dtype  \n",
      "---  ------                 --------------  -----  \n",
      " 0   case_id                25480 non-null  object \n",
      " 1   continent              25480 non-null  object \n",
      " 2   education_of_employee  25480 non-null  object \n",
      " 3   has_job_experience     25480 non-null  object \n",
      " 4   requires_job_training  25480 non-null  object \n",
      " 5   no_of_employees        25480 non-null  int64  \n",
      " 6   yr_of_estab            25480 non-null  int64  \n",
      " 7   region_of_employment   25480 non-null  object \n",
      " 8   prevailing_wage        25480 non-null  float64\n",
      " 9   unit_of_wage           25480 non-null  object \n",
      " 10  full_time_position     25480 non-null  object \n",
      " 11  case_status            25480 non-null  object \n",
      "dtypes: float64(1), int64(2), object(9)\n",
      "memory usage: 2.3+ MB\n"
     ]
    },
    {
     "data": {
      "application/javascript": [
       "\n",
       "            setTimeout(function() {\n",
       "                var nbb_cell_id = 7;\n",
       "                var nbb_unformatted_code = \"data.info()\";\n",
       "                var nbb_formatted_code = \"data.info()\";\n",
       "                var nbb_cells = Jupyter.notebook.get_cells();\n",
       "                for (var i = 0; i < nbb_cells.length; ++i) {\n",
       "                    if (nbb_cells[i].input_prompt_number == nbb_cell_id) {\n",
       "                        if (nbb_cells[i].get_text() == nbb_unformatted_code) {\n",
       "                             nbb_cells[i].set_text(nbb_formatted_code);\n",
       "                        }\n",
       "                        break;\n",
       "                    }\n",
       "                }\n",
       "            }, 500);\n",
       "            "
      ],
      "text/plain": [
       "<IPython.core.display.Javascript object>"
      ]
     },
     "metadata": {},
     "output_type": "display_data"
    }
   ],
   "source": [
    "data.info()"
   ]
  },
  {
   "cell_type": "code",
   "execution_count": 8,
   "id": "5cbfaa05",
   "metadata": {},
   "outputs": [
    {
     "data": {
      "text/plain": [
       "case_id                  25480\n",
       "continent                    6\n",
       "education_of_employee        4\n",
       "has_job_experience           2\n",
       "requires_job_training        2\n",
       "no_of_employees           7105\n",
       "yr_of_estab                199\n",
       "region_of_employment         5\n",
       "prevailing_wage          25454\n",
       "unit_of_wage                 4\n",
       "full_time_position           2\n",
       "case_status                  2\n",
       "dtype: int64"
      ]
     },
     "execution_count": 8,
     "metadata": {},
     "output_type": "execute_result"
    },
    {
     "data": {
      "application/javascript": [
       "\n",
       "            setTimeout(function() {\n",
       "                var nbb_cell_id = 8;\n",
       "                var nbb_unformatted_code = \"data.nunique()\";\n",
       "                var nbb_formatted_code = \"data.nunique()\";\n",
       "                var nbb_cells = Jupyter.notebook.get_cells();\n",
       "                for (var i = 0; i < nbb_cells.length; ++i) {\n",
       "                    if (nbb_cells[i].input_prompt_number == nbb_cell_id) {\n",
       "                        if (nbb_cells[i].get_text() == nbb_unformatted_code) {\n",
       "                             nbb_cells[i].set_text(nbb_formatted_code);\n",
       "                        }\n",
       "                        break;\n",
       "                    }\n",
       "                }\n",
       "            }, 500);\n",
       "            "
      ],
      "text/plain": [
       "<IPython.core.display.Javascript object>"
      ]
     },
     "metadata": {},
     "output_type": "display_data"
    }
   ],
   "source": [
    "data.nunique()"
   ]
  },
  {
   "cell_type": "markdown",
   "id": "92e4a9b9",
   "metadata": {},
   "source": [
    "#### Observations:\n",
    "- prevailing_wage has a high number of values.\n",
    "- case_id has no duplicates, due to each case being uniique."
   ]
  },
  {
   "cell_type": "code",
   "execution_count": 9,
   "id": "0b5dcc37",
   "metadata": {},
   "outputs": [
    {
     "data": {
      "text/plain": [
       "127.8900       2\n",
       "74645.9200     2\n",
       "110.5100       2\n",
       "6036.6700      2\n",
       "58770.0500     2\n",
       "              ..\n",
       "122622.0800    1\n",
       "182.8141       1\n",
       "103387.5500    1\n",
       "19724.4000     1\n",
       "57734.0900     1\n",
       "Name: prevailing_wage, Length: 25454, dtype: int64"
      ]
     },
     "execution_count": 9,
     "metadata": {},
     "output_type": "execute_result"
    },
    {
     "data": {
      "application/javascript": [
       "\n",
       "            setTimeout(function() {\n",
       "                var nbb_cell_id = 9;\n",
       "                var nbb_unformatted_code = \"data.prevailing_wage.value_counts()\";\n",
       "                var nbb_formatted_code = \"data.prevailing_wage.value_counts()\";\n",
       "                var nbb_cells = Jupyter.notebook.get_cells();\n",
       "                for (var i = 0; i < nbb_cells.length; ++i) {\n",
       "                    if (nbb_cells[i].input_prompt_number == nbb_cell_id) {\n",
       "                        if (nbb_cells[i].get_text() == nbb_unformatted_code) {\n",
       "                             nbb_cells[i].set_text(nbb_formatted_code);\n",
       "                        }\n",
       "                        break;\n",
       "                    }\n",
       "                }\n",
       "            }, 500);\n",
       "            "
      ],
      "text/plain": [
       "<IPython.core.display.Javascript object>"
      ]
     },
     "metadata": {},
     "output_type": "display_data"
    }
   ],
   "source": [
    "data.prevailing_wage.value_counts()"
   ]
  },
  {
   "cell_type": "markdown",
   "id": "4b70bb32",
   "metadata": {},
   "source": [
    "#### Observations:\n",
    "- prevailing_wage is continuoes we do not need to find duplicates for it."
   ]
  },
  {
   "cell_type": "code",
   "execution_count": 10,
   "id": "74b4008b",
   "metadata": {},
   "outputs": [
    {
     "name": "stdout",
     "output_type": "stream",
     "text": [
      "continent\n",
      "Asia             16861\n",
      "Europe            3732\n",
      "North America     3292\n",
      "South America      852\n",
      "Africa             551\n",
      "Oceania            192\n",
      "Name: continent, dtype: int64\n",
      "--------------------------------------------------\n",
      "education_of_employee\n",
      "Bachelor's     10234\n",
      "Master's        9634\n",
      "High School     3420\n",
      "Doctorate       2192\n",
      "Name: education_of_employee, dtype: int64\n",
      "--------------------------------------------------\n",
      "has_job_experience\n",
      "Y    14802\n",
      "N    10678\n",
      "Name: has_job_experience, dtype: int64\n",
      "--------------------------------------------------\n",
      "requires_job_training\n",
      "N    22525\n",
      "Y     2955\n",
      "Name: requires_job_training, dtype: int64\n",
      "--------------------------------------------------\n",
      "no_of_employees\n",
      "183      18\n",
      "854      16\n",
      "724      16\n",
      "1476     15\n",
      "766      15\n",
      "         ..\n",
      "95881     1\n",
      "5749      1\n",
      "4026      1\n",
      "5715      1\n",
      "5718      1\n",
      "Name: no_of_employees, Length: 7105, dtype: int64\n",
      "--------------------------------------------------\n",
      "yr_of_estab\n",
      "1998    1134\n",
      "2005    1051\n",
      "2001    1017\n",
      "2007     994\n",
      "1999     870\n",
      "        ... \n",
      "1820       6\n",
      "1846       4\n",
      "1822       4\n",
      "1810       3\n",
      "1824       2\n",
      "Name: yr_of_estab, Length: 199, dtype: int64\n",
      "--------------------------------------------------\n",
      "region_of_employment\n",
      "Northeast    7195\n",
      "South        7017\n",
      "West         6586\n",
      "Midwest      4307\n",
      "Island        375\n",
      "Name: region_of_employment, dtype: int64\n",
      "--------------------------------------------------\n",
      "unit_of_wage\n",
      "Year     22962\n",
      "Hour      2157\n",
      "Week       272\n",
      "Month       89\n",
      "Name: unit_of_wage, dtype: int64\n",
      "--------------------------------------------------\n",
      "full_time_position\n",
      "Y    22773\n",
      "N     2707\n",
      "Name: full_time_position, dtype: int64\n",
      "--------------------------------------------------\n",
      "case_status\n",
      "Certified    17018\n",
      "Denied        8462\n",
      "Name: case_status, dtype: int64\n",
      "--------------------------------------------------\n"
     ]
    },
    {
     "data": {
      "application/javascript": [
       "\n",
       "            setTimeout(function() {\n",
       "                var nbb_cell_id = 10;\n",
       "                var nbb_unformatted_code = \"# checking for duplicate values\\nfor i in data.columns.drop([\\\"case_id\\\", \\\"prevailing_wage\\\"]):\\n    print(i)  # prints column header\\n    print(\\n        data[i].value_counts()\\n    )  # prints values counts for each value in column, showing duplicates\\n    print(\\\"-\\\" * 50)  # makes dashed line to break each section up\";\n",
       "                var nbb_formatted_code = \"# checking for duplicate values\\nfor i in data.columns.drop([\\\"case_id\\\", \\\"prevailing_wage\\\"]):\\n    print(i)  # prints column header\\n    print(\\n        data[i].value_counts()\\n    )  # prints values counts for each value in column, showing duplicates\\n    print(\\\"-\\\" * 50)  # makes dashed line to break each section up\";\n",
       "                var nbb_cells = Jupyter.notebook.get_cells();\n",
       "                for (var i = 0; i < nbb_cells.length; ++i) {\n",
       "                    if (nbb_cells[i].input_prompt_number == nbb_cell_id) {\n",
       "                        if (nbb_cells[i].get_text() == nbb_unformatted_code) {\n",
       "                             nbb_cells[i].set_text(nbb_formatted_code);\n",
       "                        }\n",
       "                        break;\n",
       "                    }\n",
       "                }\n",
       "            }, 500);\n",
       "            "
      ],
      "text/plain": [
       "<IPython.core.display.Javascript object>"
      ]
     },
     "metadata": {},
     "output_type": "display_data"
    }
   ],
   "source": [
    "# checking for duplicate values\n",
    "for i in data.columns.drop([\"case_id\", \"prevailing_wage\"]):\n",
    "    print(i)  # prints column header\n",
    "    print(\n",
    "        data[i].value_counts()\n",
    "    )  # prints values counts for each value in column, showing duplicates\n",
    "    print(\"-\" * 50)  # makes dashed line to break each section up"
   ]
  },
  {
   "cell_type": "code",
   "execution_count": 11,
   "id": "fb85332f",
   "metadata": {},
   "outputs": [
    {
     "data": {
      "text/html": [
       "<div>\n",
       "<style scoped>\n",
       "    .dataframe tbody tr th:only-of-type {\n",
       "        vertical-align: middle;\n",
       "    }\n",
       "\n",
       "    .dataframe tbody tr th {\n",
       "        vertical-align: top;\n",
       "    }\n",
       "\n",
       "    .dataframe thead th {\n",
       "        text-align: right;\n",
       "    }\n",
       "</style>\n",
       "<table border=\"1\" class=\"dataframe\">\n",
       "  <thead>\n",
       "    <tr style=\"text-align: right;\">\n",
       "      <th></th>\n",
       "      <th>case_id</th>\n",
       "      <th>continent</th>\n",
       "      <th>education_of_employee</th>\n",
       "      <th>has_job_experience</th>\n",
       "      <th>requires_job_training</th>\n",
       "      <th>no_of_employees</th>\n",
       "      <th>yr_of_estab</th>\n",
       "      <th>region_of_employment</th>\n",
       "      <th>prevailing_wage</th>\n",
       "      <th>unit_of_wage</th>\n",
       "      <th>full_time_position</th>\n",
       "      <th>case_status</th>\n",
       "    </tr>\n",
       "  </thead>\n",
       "  <tbody>\n",
       "    <tr>\n",
       "      <th>count</th>\n",
       "      <td>25480</td>\n",
       "      <td>25480</td>\n",
       "      <td>25480</td>\n",
       "      <td>25480</td>\n",
       "      <td>25480</td>\n",
       "      <td>25480.000000</td>\n",
       "      <td>25480.000000</td>\n",
       "      <td>25480</td>\n",
       "      <td>25480.000000</td>\n",
       "      <td>25480</td>\n",
       "      <td>25480</td>\n",
       "      <td>25480</td>\n",
       "    </tr>\n",
       "    <tr>\n",
       "      <th>unique</th>\n",
       "      <td>25480</td>\n",
       "      <td>6</td>\n",
       "      <td>4</td>\n",
       "      <td>2</td>\n",
       "      <td>2</td>\n",
       "      <td>NaN</td>\n",
       "      <td>NaN</td>\n",
       "      <td>5</td>\n",
       "      <td>NaN</td>\n",
       "      <td>4</td>\n",
       "      <td>2</td>\n",
       "      <td>2</td>\n",
       "    </tr>\n",
       "    <tr>\n",
       "      <th>top</th>\n",
       "      <td>EZYV14775</td>\n",
       "      <td>Asia</td>\n",
       "      <td>Bachelor's</td>\n",
       "      <td>Y</td>\n",
       "      <td>N</td>\n",
       "      <td>NaN</td>\n",
       "      <td>NaN</td>\n",
       "      <td>Northeast</td>\n",
       "      <td>NaN</td>\n",
       "      <td>Year</td>\n",
       "      <td>Y</td>\n",
       "      <td>Certified</td>\n",
       "    </tr>\n",
       "    <tr>\n",
       "      <th>freq</th>\n",
       "      <td>1</td>\n",
       "      <td>16861</td>\n",
       "      <td>10234</td>\n",
       "      <td>14802</td>\n",
       "      <td>22525</td>\n",
       "      <td>NaN</td>\n",
       "      <td>NaN</td>\n",
       "      <td>7195</td>\n",
       "      <td>NaN</td>\n",
       "      <td>22962</td>\n",
       "      <td>22773</td>\n",
       "      <td>17018</td>\n",
       "    </tr>\n",
       "    <tr>\n",
       "      <th>mean</th>\n",
       "      <td>NaN</td>\n",
       "      <td>NaN</td>\n",
       "      <td>NaN</td>\n",
       "      <td>NaN</td>\n",
       "      <td>NaN</td>\n",
       "      <td>5667.043210</td>\n",
       "      <td>1979.409929</td>\n",
       "      <td>NaN</td>\n",
       "      <td>74455.814592</td>\n",
       "      <td>NaN</td>\n",
       "      <td>NaN</td>\n",
       "      <td>NaN</td>\n",
       "    </tr>\n",
       "    <tr>\n",
       "      <th>std</th>\n",
       "      <td>NaN</td>\n",
       "      <td>NaN</td>\n",
       "      <td>NaN</td>\n",
       "      <td>NaN</td>\n",
       "      <td>NaN</td>\n",
       "      <td>22877.928848</td>\n",
       "      <td>42.366929</td>\n",
       "      <td>NaN</td>\n",
       "      <td>52815.942327</td>\n",
       "      <td>NaN</td>\n",
       "      <td>NaN</td>\n",
       "      <td>NaN</td>\n",
       "    </tr>\n",
       "    <tr>\n",
       "      <th>min</th>\n",
       "      <td>NaN</td>\n",
       "      <td>NaN</td>\n",
       "      <td>NaN</td>\n",
       "      <td>NaN</td>\n",
       "      <td>NaN</td>\n",
       "      <td>-26.000000</td>\n",
       "      <td>1800.000000</td>\n",
       "      <td>NaN</td>\n",
       "      <td>2.136700</td>\n",
       "      <td>NaN</td>\n",
       "      <td>NaN</td>\n",
       "      <td>NaN</td>\n",
       "    </tr>\n",
       "    <tr>\n",
       "      <th>25%</th>\n",
       "      <td>NaN</td>\n",
       "      <td>NaN</td>\n",
       "      <td>NaN</td>\n",
       "      <td>NaN</td>\n",
       "      <td>NaN</td>\n",
       "      <td>1022.000000</td>\n",
       "      <td>1976.000000</td>\n",
       "      <td>NaN</td>\n",
       "      <td>34015.480000</td>\n",
       "      <td>NaN</td>\n",
       "      <td>NaN</td>\n",
       "      <td>NaN</td>\n",
       "    </tr>\n",
       "    <tr>\n",
       "      <th>50%</th>\n",
       "      <td>NaN</td>\n",
       "      <td>NaN</td>\n",
       "      <td>NaN</td>\n",
       "      <td>NaN</td>\n",
       "      <td>NaN</td>\n",
       "      <td>2109.000000</td>\n",
       "      <td>1997.000000</td>\n",
       "      <td>NaN</td>\n",
       "      <td>70308.210000</td>\n",
       "      <td>NaN</td>\n",
       "      <td>NaN</td>\n",
       "      <td>NaN</td>\n",
       "    </tr>\n",
       "    <tr>\n",
       "      <th>75%</th>\n",
       "      <td>NaN</td>\n",
       "      <td>NaN</td>\n",
       "      <td>NaN</td>\n",
       "      <td>NaN</td>\n",
       "      <td>NaN</td>\n",
       "      <td>3504.000000</td>\n",
       "      <td>2005.000000</td>\n",
       "      <td>NaN</td>\n",
       "      <td>107735.512500</td>\n",
       "      <td>NaN</td>\n",
       "      <td>NaN</td>\n",
       "      <td>NaN</td>\n",
       "    </tr>\n",
       "    <tr>\n",
       "      <th>max</th>\n",
       "      <td>NaN</td>\n",
       "      <td>NaN</td>\n",
       "      <td>NaN</td>\n",
       "      <td>NaN</td>\n",
       "      <td>NaN</td>\n",
       "      <td>602069.000000</td>\n",
       "      <td>2016.000000</td>\n",
       "      <td>NaN</td>\n",
       "      <td>319210.270000</td>\n",
       "      <td>NaN</td>\n",
       "      <td>NaN</td>\n",
       "      <td>NaN</td>\n",
       "    </tr>\n",
       "  </tbody>\n",
       "</table>\n",
       "</div>"
      ],
      "text/plain": [
       "          case_id continent education_of_employee has_job_experience  \\\n",
       "count       25480     25480                 25480              25480   \n",
       "unique      25480         6                     4                  2   \n",
       "top     EZYV14775      Asia            Bachelor's                  Y   \n",
       "freq            1     16861                 10234              14802   \n",
       "mean          NaN       NaN                   NaN                NaN   \n",
       "std           NaN       NaN                   NaN                NaN   \n",
       "min           NaN       NaN                   NaN                NaN   \n",
       "25%           NaN       NaN                   NaN                NaN   \n",
       "50%           NaN       NaN                   NaN                NaN   \n",
       "75%           NaN       NaN                   NaN                NaN   \n",
       "max           NaN       NaN                   NaN                NaN   \n",
       "\n",
       "       requires_job_training  no_of_employees   yr_of_estab  \\\n",
       "count                  25480     25480.000000  25480.000000   \n",
       "unique                     2              NaN           NaN   \n",
       "top                        N              NaN           NaN   \n",
       "freq                   22525              NaN           NaN   \n",
       "mean                     NaN      5667.043210   1979.409929   \n",
       "std                      NaN     22877.928848     42.366929   \n",
       "min                      NaN       -26.000000   1800.000000   \n",
       "25%                      NaN      1022.000000   1976.000000   \n",
       "50%                      NaN      2109.000000   1997.000000   \n",
       "75%                      NaN      3504.000000   2005.000000   \n",
       "max                      NaN    602069.000000   2016.000000   \n",
       "\n",
       "       region_of_employment  prevailing_wage unit_of_wage full_time_position  \\\n",
       "count                 25480     25480.000000        25480              25480   \n",
       "unique                    5              NaN            4                  2   \n",
       "top               Northeast              NaN         Year                  Y   \n",
       "freq                   7195              NaN        22962              22773   \n",
       "mean                    NaN     74455.814592          NaN                NaN   \n",
       "std                     NaN     52815.942327          NaN                NaN   \n",
       "min                     NaN         2.136700          NaN                NaN   \n",
       "25%                     NaN     34015.480000          NaN                NaN   \n",
       "50%                     NaN     70308.210000          NaN                NaN   \n",
       "75%                     NaN    107735.512500          NaN                NaN   \n",
       "max                     NaN    319210.270000          NaN                NaN   \n",
       "\n",
       "       case_status  \n",
       "count        25480  \n",
       "unique           2  \n",
       "top      Certified  \n",
       "freq         17018  \n",
       "mean           NaN  \n",
       "std            NaN  \n",
       "min            NaN  \n",
       "25%            NaN  \n",
       "50%            NaN  \n",
       "75%            NaN  \n",
       "max            NaN  "
      ]
     },
     "execution_count": 11,
     "metadata": {},
     "output_type": "execute_result"
    },
    {
     "data": {
      "application/javascript": [
       "\n",
       "            setTimeout(function() {\n",
       "                var nbb_cell_id = 11;\n",
       "                var nbb_unformatted_code = \"data.describe(include=\\\"all\\\")  # Print the statistical summary of the data\";\n",
       "                var nbb_formatted_code = \"data.describe(include=\\\"all\\\")  # Print the statistical summary of the data\";\n",
       "                var nbb_cells = Jupyter.notebook.get_cells();\n",
       "                for (var i = 0; i < nbb_cells.length; ++i) {\n",
       "                    if (nbb_cells[i].input_prompt_number == nbb_cell_id) {\n",
       "                        if (nbb_cells[i].get_text() == nbb_unformatted_code) {\n",
       "                             nbb_cells[i].set_text(nbb_formatted_code);\n",
       "                        }\n",
       "                        break;\n",
       "                    }\n",
       "                }\n",
       "            }, 500);\n",
       "            "
      ],
      "text/plain": [
       "<IPython.core.display.Javascript object>"
      ]
     },
     "metadata": {},
     "output_type": "display_data"
    }
   ],
   "source": [
    "data.describe(include=\"all\")  # Print the statistical summary of the data"
   ]
  },
  {
   "cell_type": "markdown",
   "id": "f827490d",
   "metadata": {},
   "source": [
    "#### Observations:\n",
    "- prevailing_wage has negative values. The entries must have accidentally been sunmitted with a negative symbol in front."
   ]
  },
  {
   "cell_type": "code",
   "execution_count": 12,
   "id": "5212d9de",
   "metadata": {},
   "outputs": [
    {
     "data": {
      "text/plain": [
       "(33, 12)"
      ]
     },
     "execution_count": 12,
     "metadata": {},
     "output_type": "execute_result"
    },
    {
     "data": {
      "application/javascript": [
       "\n",
       "            setTimeout(function() {\n",
       "                var nbb_cell_id = 12;\n",
       "                var nbb_unformatted_code = \"data[data[\\\"no_of_employees\\\"] < 0].shape  # Check negative values in the employee column\";\n",
       "                var nbb_formatted_code = \"data[data[\\\"no_of_employees\\\"] < 0].shape  # Check negative values in the employee column\";\n",
       "                var nbb_cells = Jupyter.notebook.get_cells();\n",
       "                for (var i = 0; i < nbb_cells.length; ++i) {\n",
       "                    if (nbb_cells[i].input_prompt_number == nbb_cell_id) {\n",
       "                        if (nbb_cells[i].get_text() == nbb_unformatted_code) {\n",
       "                             nbb_cells[i].set_text(nbb_formatted_code);\n",
       "                        }\n",
       "                        break;\n",
       "                    }\n",
       "                }\n",
       "            }, 500);\n",
       "            "
      ],
      "text/plain": [
       "<IPython.core.display.Javascript object>"
      ]
     },
     "metadata": {},
     "output_type": "display_data"
    }
   ],
   "source": [
    "data[data[\"no_of_employees\"] < 0].shape  # Check negative values in the employee column"
   ]
  },
  {
   "cell_type": "markdown",
   "id": "f120cb2b",
   "metadata": {},
   "source": [
    "#### Observations:\n",
    "- prevailing_wage's negative values are only a small part of the dataset, so incorrectly changing them from negative to positive will not do much damage if the above assumption is incorrect. Leaving it will however have negative consequences on the predicitive models.\n",
    "- chnaging the column to the absolute value of all values in the column will make all numbers positive and yield correct outcome."
   ]
  },
  {
   "cell_type": "markdown",
   "id": "60184495",
   "metadata": {},
   "source": [
    "**Fixing the negative values in number of employees columns**"
   ]
  },
  {
   "cell_type": "code",
   "execution_count": 13,
   "id": "8fa85799",
   "metadata": {},
   "outputs": [
    {
     "data": {
      "application/javascript": [
       "\n",
       "            setTimeout(function() {\n",
       "                var nbb_cell_id = 13;\n",
       "                var nbb_unformatted_code = \"# Taking the absolute values for number of employees\\ndata[\\\"no_of_employees\\\"] = abs(\\n    data[\\\"no_of_employees\\\"]\\n)  # Convert the values to a positive number\";\n",
       "                var nbb_formatted_code = \"# Taking the absolute values for number of employees\\ndata[\\\"no_of_employees\\\"] = abs(\\n    data[\\\"no_of_employees\\\"]\\n)  # Convert the values to a positive number\";\n",
       "                var nbb_cells = Jupyter.notebook.get_cells();\n",
       "                for (var i = 0; i < nbb_cells.length; ++i) {\n",
       "                    if (nbb_cells[i].input_prompt_number == nbb_cell_id) {\n",
       "                        if (nbb_cells[i].get_text() == nbb_unformatted_code) {\n",
       "                             nbb_cells[i].set_text(nbb_formatted_code);\n",
       "                        }\n",
       "                        break;\n",
       "                    }\n",
       "                }\n",
       "            }, 500);\n",
       "            "
      ],
      "text/plain": [
       "<IPython.core.display.Javascript object>"
      ]
     },
     "metadata": {},
     "output_type": "display_data"
    }
   ],
   "source": [
    "# Taking the absolute values for number of employees\n",
    "data[\"no_of_employees\"] = abs(\n",
    "    data[\"no_of_employees\"]\n",
    ")  # Convert the values to a positive number"
   ]
  },
  {
   "cell_type": "code",
   "execution_count": 14,
   "id": "2f0faf28",
   "metadata": {},
   "outputs": [
    {
     "data": {
      "text/plain": [
       "(0, 12)"
      ]
     },
     "execution_count": 14,
     "metadata": {},
     "output_type": "execute_result"
    },
    {
     "data": {
      "application/javascript": [
       "\n",
       "            setTimeout(function() {\n",
       "                var nbb_cell_id = 14;\n",
       "                var nbb_unformatted_code = \"data[data[\\\"no_of_employees\\\"] < 0].shape  # Check negative values in the employee column\";\n",
       "                var nbb_formatted_code = \"data[data[\\\"no_of_employees\\\"] < 0].shape  # Check negative values in the employee column\";\n",
       "                var nbb_cells = Jupyter.notebook.get_cells();\n",
       "                for (var i = 0; i < nbb_cells.length; ++i) {\n",
       "                    if (nbb_cells[i].input_prompt_number == nbb_cell_id) {\n",
       "                        if (nbb_cells[i].get_text() == nbb_unformatted_code) {\n",
       "                             nbb_cells[i].set_text(nbb_formatted_code);\n",
       "                        }\n",
       "                        break;\n",
       "                    }\n",
       "                }\n",
       "            }, 500);\n",
       "            "
      ],
      "text/plain": [
       "<IPython.core.display.Javascript object>"
      ]
     },
     "metadata": {},
     "output_type": "display_data"
    }
   ],
   "source": [
    "data[data[\"no_of_employees\"] < 0].shape  # Check negative values in the employee column"
   ]
  },
  {
   "cell_type": "markdown",
   "id": "bec490f0",
   "metadata": {},
   "source": [
    "**Let's check the count of each unique category in each of the categorical variables.** "
   ]
  },
  {
   "cell_type": "code",
   "execution_count": 15,
   "id": "446c675c",
   "metadata": {},
   "outputs": [
    {
     "name": "stdout",
     "output_type": "stream",
     "text": [
      "case_id \n",
      "\n",
      "EZYV14775    1\n",
      "EZYV20382    1\n",
      "EZYV17963    1\n",
      "EZYV18429    1\n",
      "EZYV16037    1\n",
      "            ..\n",
      "EZYV17583    1\n",
      "EZYV13198    1\n",
      "EZYV14148    1\n",
      "EZYV951      1\n",
      "EZYV20476    1\n",
      "Name: case_id, Length: 25480, dtype: int64\n",
      "--------------------------------------------------\n",
      "continent \n",
      "\n",
      "Asia             16861\n",
      "Europe            3732\n",
      "North America     3292\n",
      "South America      852\n",
      "Africa             551\n",
      "Oceania            192\n",
      "Name: continent, dtype: int64\n",
      "--------------------------------------------------\n",
      "education_of_employee \n",
      "\n",
      "Bachelor's     10234\n",
      "Master's        9634\n",
      "High School     3420\n",
      "Doctorate       2192\n",
      "Name: education_of_employee, dtype: int64\n",
      "--------------------------------------------------\n",
      "has_job_experience \n",
      "\n",
      "Y    14802\n",
      "N    10678\n",
      "Name: has_job_experience, dtype: int64\n",
      "--------------------------------------------------\n",
      "requires_job_training \n",
      "\n",
      "N    22525\n",
      "Y     2955\n",
      "Name: requires_job_training, dtype: int64\n",
      "--------------------------------------------------\n",
      "region_of_employment \n",
      "\n",
      "Northeast    7195\n",
      "South        7017\n",
      "West         6586\n",
      "Midwest      4307\n",
      "Island        375\n",
      "Name: region_of_employment, dtype: int64\n",
      "--------------------------------------------------\n",
      "unit_of_wage \n",
      "\n",
      "Year     22962\n",
      "Hour      2157\n",
      "Week       272\n",
      "Month       89\n",
      "Name: unit_of_wage, dtype: int64\n",
      "--------------------------------------------------\n",
      "full_time_position \n",
      "\n",
      "Y    22773\n",
      "N     2707\n",
      "Name: full_time_position, dtype: int64\n",
      "--------------------------------------------------\n",
      "case_status \n",
      "\n",
      "Certified    17018\n",
      "Denied        8462\n",
      "Name: case_status, dtype: int64\n",
      "--------------------------------------------------\n"
     ]
    },
    {
     "data": {
      "application/javascript": [
       "\n",
       "            setTimeout(function() {\n",
       "                var nbb_cell_id = 15;\n",
       "                var nbb_unformatted_code = \"# Making a list of all catrgorical variables\\ncat_col = list(data.select_dtypes(\\\"object\\\").columns)\\n\\n# Printing number of count of each unique value in each column\\nfor column in cat_col:\\n    print(column, \\\"\\\\n\\\")  # print column header\\n    print(data[column].value_counts())  # print the count of each value in said column\\n    print(\\\"-\\\" * 50)  # adds break of dashed line from section to section\";\n",
       "                var nbb_formatted_code = \"# Making a list of all catrgorical variables\\ncat_col = list(data.select_dtypes(\\\"object\\\").columns)\\n\\n# Printing number of count of each unique value in each column\\nfor column in cat_col:\\n    print(column, \\\"\\\\n\\\")  # print column header\\n    print(data[column].value_counts())  # print the count of each value in said column\\n    print(\\\"-\\\" * 50)  # adds break of dashed line from section to section\";\n",
       "                var nbb_cells = Jupyter.notebook.get_cells();\n",
       "                for (var i = 0; i < nbb_cells.length; ++i) {\n",
       "                    if (nbb_cells[i].input_prompt_number == nbb_cell_id) {\n",
       "                        if (nbb_cells[i].get_text() == nbb_unformatted_code) {\n",
       "                             nbb_cells[i].set_text(nbb_formatted_code);\n",
       "                        }\n",
       "                        break;\n",
       "                    }\n",
       "                }\n",
       "            }, 500);\n",
       "            "
      ],
      "text/plain": [
       "<IPython.core.display.Javascript object>"
      ]
     },
     "metadata": {},
     "output_type": "display_data"
    }
   ],
   "source": [
    "# Making a list of all catrgorical variables\n",
    "cat_col = list(data.select_dtypes(\"object\").columns)\n",
    "\n",
    "# Printing number of count of each unique value in each column\n",
    "for column in cat_col:\n",
    "    print(column, \"\\n\")  # print column header\n",
    "    print(data[column].value_counts())  # print the count of each value in said column\n",
    "    print(\"-\" * 50)  # adds break of dashed line from section to section"
   ]
  },
  {
   "cell_type": "code",
   "execution_count": 16,
   "id": "c98af151",
   "metadata": {},
   "outputs": [
    {
     "data": {
      "text/plain": [
       "25480"
      ]
     },
     "execution_count": 16,
     "metadata": {},
     "output_type": "execute_result"
    },
    {
     "data": {
      "application/javascript": [
       "\n",
       "            setTimeout(function() {\n",
       "                var nbb_cell_id = 16;\n",
       "                var nbb_unformatted_code = \"# checking the number of unique values\\ndata[\\\"case_id\\\"].nunique()  # Check unique values in the mentioned column\";\n",
       "                var nbb_formatted_code = \"# checking the number of unique values\\ndata[\\\"case_id\\\"].nunique()  # Check unique values in the mentioned column\";\n",
       "                var nbb_cells = Jupyter.notebook.get_cells();\n",
       "                for (var i = 0; i < nbb_cells.length; ++i) {\n",
       "                    if (nbb_cells[i].input_prompt_number == nbb_cell_id) {\n",
       "                        if (nbb_cells[i].get_text() == nbb_unformatted_code) {\n",
       "                             nbb_cells[i].set_text(nbb_formatted_code);\n",
       "                        }\n",
       "                        break;\n",
       "                    }\n",
       "                }\n",
       "            }, 500);\n",
       "            "
      ],
      "text/plain": [
       "<IPython.core.display.Javascript object>"
      ]
     },
     "metadata": {},
     "output_type": "display_data"
    }
   ],
   "source": [
    "# checking the number of unique values\n",
    "data[\"case_id\"].nunique()  # Check unique values in the mentioned column"
   ]
  },
  {
   "cell_type": "code",
   "execution_count": 17,
   "id": "088235e2",
   "metadata": {},
   "outputs": [
    {
     "data": {
      "text/html": [
       "<div>\n",
       "<style scoped>\n",
       "    .dataframe tbody tr th:only-of-type {\n",
       "        vertical-align: middle;\n",
       "    }\n",
       "\n",
       "    .dataframe tbody tr th {\n",
       "        vertical-align: top;\n",
       "    }\n",
       "\n",
       "    .dataframe thead th {\n",
       "        text-align: right;\n",
       "    }\n",
       "</style>\n",
       "<table border=\"1\" class=\"dataframe\">\n",
       "  <thead>\n",
       "    <tr style=\"text-align: right;\">\n",
       "      <th></th>\n",
       "      <th>continent</th>\n",
       "      <th>education_of_employee</th>\n",
       "      <th>has_job_experience</th>\n",
       "      <th>requires_job_training</th>\n",
       "      <th>no_of_employees</th>\n",
       "      <th>yr_of_estab</th>\n",
       "      <th>region_of_employment</th>\n",
       "      <th>prevailing_wage</th>\n",
       "      <th>unit_of_wage</th>\n",
       "      <th>full_time_position</th>\n",
       "      <th>case_status</th>\n",
       "    </tr>\n",
       "  </thead>\n",
       "  <tbody>\n",
       "    <tr>\n",
       "      <th>0</th>\n",
       "      <td>Asia</td>\n",
       "      <td>High School</td>\n",
       "      <td>N</td>\n",
       "      <td>N</td>\n",
       "      <td>14513</td>\n",
       "      <td>2007</td>\n",
       "      <td>West</td>\n",
       "      <td>592.2029</td>\n",
       "      <td>Hour</td>\n",
       "      <td>Y</td>\n",
       "      <td>Denied</td>\n",
       "    </tr>\n",
       "    <tr>\n",
       "      <th>1</th>\n",
       "      <td>Asia</td>\n",
       "      <td>Master's</td>\n",
       "      <td>Y</td>\n",
       "      <td>N</td>\n",
       "      <td>2412</td>\n",
       "      <td>2002</td>\n",
       "      <td>Northeast</td>\n",
       "      <td>83425.6500</td>\n",
       "      <td>Year</td>\n",
       "      <td>Y</td>\n",
       "      <td>Certified</td>\n",
       "    </tr>\n",
       "    <tr>\n",
       "      <th>2</th>\n",
       "      <td>Asia</td>\n",
       "      <td>Bachelor's</td>\n",
       "      <td>N</td>\n",
       "      <td>Y</td>\n",
       "      <td>44444</td>\n",
       "      <td>2008</td>\n",
       "      <td>West</td>\n",
       "      <td>122996.8600</td>\n",
       "      <td>Year</td>\n",
       "      <td>Y</td>\n",
       "      <td>Denied</td>\n",
       "    </tr>\n",
       "    <tr>\n",
       "      <th>3</th>\n",
       "      <td>Asia</td>\n",
       "      <td>Bachelor's</td>\n",
       "      <td>N</td>\n",
       "      <td>N</td>\n",
       "      <td>98</td>\n",
       "      <td>1897</td>\n",
       "      <td>West</td>\n",
       "      <td>83434.0300</td>\n",
       "      <td>Year</td>\n",
       "      <td>Y</td>\n",
       "      <td>Denied</td>\n",
       "    </tr>\n",
       "    <tr>\n",
       "      <th>4</th>\n",
       "      <td>Africa</td>\n",
       "      <td>Master's</td>\n",
       "      <td>Y</td>\n",
       "      <td>N</td>\n",
       "      <td>1082</td>\n",
       "      <td>2005</td>\n",
       "      <td>South</td>\n",
       "      <td>149907.3900</td>\n",
       "      <td>Year</td>\n",
       "      <td>Y</td>\n",
       "      <td>Certified</td>\n",
       "    </tr>\n",
       "  </tbody>\n",
       "</table>\n",
       "</div>"
      ],
      "text/plain": [
       "  continent education_of_employee has_job_experience requires_job_training  \\\n",
       "0      Asia           High School                  N                     N   \n",
       "1      Asia              Master's                  Y                     N   \n",
       "2      Asia            Bachelor's                  N                     Y   \n",
       "3      Asia            Bachelor's                  N                     N   \n",
       "4    Africa              Master's                  Y                     N   \n",
       "\n",
       "   no_of_employees  yr_of_estab region_of_employment  prevailing_wage  \\\n",
       "0            14513         2007                 West         592.2029   \n",
       "1             2412         2002            Northeast       83425.6500   \n",
       "2            44444         2008                 West      122996.8600   \n",
       "3               98         1897                 West       83434.0300   \n",
       "4             1082         2005                South      149907.3900   \n",
       "\n",
       "  unit_of_wage full_time_position case_status  \n",
       "0         Hour                  Y      Denied  \n",
       "1         Year                  Y   Certified  \n",
       "2         Year                  Y      Denied  \n",
       "3         Year                  Y      Denied  \n",
       "4         Year                  Y   Certified  "
      ]
     },
     "execution_count": 17,
     "metadata": {},
     "output_type": "execute_result"
    },
    {
     "data": {
      "application/javascript": [
       "\n",
       "            setTimeout(function() {\n",
       "                var nbb_cell_id = 17;\n",
       "                var nbb_unformatted_code = \"data.drop(\\\"case_id\\\", axis=1, inplace=True)  # Drop 'case_id' column from the data\\ndata.head()\";\n",
       "                var nbb_formatted_code = \"data.drop(\\\"case_id\\\", axis=1, inplace=True)  # Drop 'case_id' column from the data\\ndata.head()\";\n",
       "                var nbb_cells = Jupyter.notebook.get_cells();\n",
       "                for (var i = 0; i < nbb_cells.length; ++i) {\n",
       "                    if (nbb_cells[i].input_prompt_number == nbb_cell_id) {\n",
       "                        if (nbb_cells[i].get_text() == nbb_unformatted_code) {\n",
       "                             nbb_cells[i].set_text(nbb_formatted_code);\n",
       "                        }\n",
       "                        break;\n",
       "                    }\n",
       "                }\n",
       "            }, 500);\n",
       "            "
      ],
      "text/plain": [
       "<IPython.core.display.Javascript object>"
      ]
     },
     "metadata": {},
     "output_type": "display_data"
    }
   ],
   "source": [
    "data.drop(\"case_id\", axis=1, inplace=True)  # Drop 'case_id' column from the data\n",
    "data.head()"
   ]
  },
  {
   "cell_type": "markdown",
   "id": "be418496",
   "metadata": {},
   "source": [
    "## Data Overview\n",
    "\n",
    "- The prevailing wage regarding the unit of wage seems unfinished. There must be a better way of combining the unit of wage and the prevailing wage, as the hourly and yearly wages are currently bundled together. However, without fully knowing how many hours the hourly employees work there is no way to transfer the hourly to annually, or vice versa.\n",
    "- The minimum prevailing wage may also not be below the minimum wage of the said country, but i am not sure how to determine each countries economic structure. Meaning, that they make money with tips such as a waiter in the United States, or some other form of payment unknown to me."
   ]
  },
  {
   "cell_type": "markdown",
   "id": "5d258085",
   "metadata": {},
   "source": [
    "## Exploratory Data Analysis (EDA)\n",
    "\n",
    "- EDA is an important part of any project involving data.\n",
    "- It is important to investigate and understand the data better before building a model with it.\n",
    "- A few questions have been mentioned below which will help you approach the analysis in the right manner and generate insights from the data.\n",
    "- A thorough analysis of the data, in addition to the questions mentioned below, should be done."
   ]
  },
  {
   "cell_type": "markdown",
   "id": "668abfda",
   "metadata": {},
   "source": [
    "### Univariate Analysis"
   ]
  },
  {
   "cell_type": "code",
   "execution_count": 18,
   "id": "3c7a49b8",
   "metadata": {},
   "outputs": [
    {
     "data": {
      "application/javascript": [
       "\n",
       "            setTimeout(function() {\n",
       "                var nbb_cell_id = 18;\n",
       "                var nbb_unformatted_code = \"# function to plot a boxplot and a histogram along the same scale.\\n\\n\\ndef histogram_boxplot(data, feature, figsize=(12, 7), kde=False, bins=None):\\n    \\\"\\\"\\\"\\n    Boxplot and histogram combined\\n\\n    data: dataframe\\n    feature: dataframe column\\n    figsize: size of figure (default (12,7))\\n    kde: whether to the show density curve (default False)\\n    bins: number of bins for histogram (default None)\\n    \\\"\\\"\\\"\\n    f2, (ax_box2, ax_hist2) = plt.subplots(\\n        nrows=2,  # Number of rows of the subplot grid= 2\\n        sharex=True,  # x-axis will be shared among all subplots\\n        gridspec_kw={\\\"height_ratios\\\": (0.25, 0.75)},\\n        figsize=figsize,\\n    )  # creating the 2 subplots\\n    sns.boxplot(\\n        data=data, x=feature, ax=ax_box2, showmeans=True, color=\\\"violet\\\"\\n    )  # boxplot will be created and a star will indicate the mean value of the column\\n    sns.histplot(\\n        data=data, x=feature, kde=kde, ax=ax_hist2, bins=bins, palette=\\\"winter\\\"\\n    ) if bins else sns.histplot(\\n        data=data, x=feature, kde=kde, ax=ax_hist2\\n    )  # For histogram\\n    ax_hist2.axvline(\\n        data[feature].mean(), color=\\\"green\\\", linestyle=\\\"--\\\"\\n    )  # Add mean to the histogram\\n    ax_hist2.axvline(\\n        data[feature].median(), color=\\\"black\\\", linestyle=\\\"-\\\"\\n    )  # Add median to the histogram\";\n",
       "                var nbb_formatted_code = \"# function to plot a boxplot and a histogram along the same scale.\\n\\n\\ndef histogram_boxplot(data, feature, figsize=(12, 7), kde=False, bins=None):\\n    \\\"\\\"\\\"\\n    Boxplot and histogram combined\\n\\n    data: dataframe\\n    feature: dataframe column\\n    figsize: size of figure (default (12,7))\\n    kde: whether to the show density curve (default False)\\n    bins: number of bins for histogram (default None)\\n    \\\"\\\"\\\"\\n    f2, (ax_box2, ax_hist2) = plt.subplots(\\n        nrows=2,  # Number of rows of the subplot grid= 2\\n        sharex=True,  # x-axis will be shared among all subplots\\n        gridspec_kw={\\\"height_ratios\\\": (0.25, 0.75)},\\n        figsize=figsize,\\n    )  # creating the 2 subplots\\n    sns.boxplot(\\n        data=data, x=feature, ax=ax_box2, showmeans=True, color=\\\"violet\\\"\\n    )  # boxplot will be created and a star will indicate the mean value of the column\\n    sns.histplot(\\n        data=data, x=feature, kde=kde, ax=ax_hist2, bins=bins, palette=\\\"winter\\\"\\n    ) if bins else sns.histplot(\\n        data=data, x=feature, kde=kde, ax=ax_hist2\\n    )  # For histogram\\n    ax_hist2.axvline(\\n        data[feature].mean(), color=\\\"green\\\", linestyle=\\\"--\\\"\\n    )  # Add mean to the histogram\\n    ax_hist2.axvline(\\n        data[feature].median(), color=\\\"black\\\", linestyle=\\\"-\\\"\\n    )  # Add median to the histogram\";\n",
       "                var nbb_cells = Jupyter.notebook.get_cells();\n",
       "                for (var i = 0; i < nbb_cells.length; ++i) {\n",
       "                    if (nbb_cells[i].input_prompt_number == nbb_cell_id) {\n",
       "                        if (nbb_cells[i].get_text() == nbb_unformatted_code) {\n",
       "                             nbb_cells[i].set_text(nbb_formatted_code);\n",
       "                        }\n",
       "                        break;\n",
       "                    }\n",
       "                }\n",
       "            }, 500);\n",
       "            "
      ],
      "text/plain": [
       "<IPython.core.display.Javascript object>"
      ]
     },
     "metadata": {},
     "output_type": "display_data"
    }
   ],
   "source": [
    "# function to plot a boxplot and a histogram along the same scale.\n",
    "\n",
    "\n",
    "def histogram_boxplot(data, feature, figsize=(12, 7), kde=False, bins=None):\n",
    "    \"\"\"\n",
    "    Boxplot and histogram combined\n",
    "\n",
    "    data: dataframe\n",
    "    feature: dataframe column\n",
    "    figsize: size of figure (default (12,7))\n",
    "    kde: whether to the show density curve (default False)\n",
    "    bins: number of bins for histogram (default None)\n",
    "    \"\"\"\n",
    "    f2, (ax_box2, ax_hist2) = plt.subplots(\n",
    "        nrows=2,  # Number of rows of the subplot grid= 2\n",
    "        sharex=True,  # x-axis will be shared among all subplots\n",
    "        gridspec_kw={\"height_ratios\": (0.25, 0.75)},\n",
    "        figsize=figsize,\n",
    "    )  # creating the 2 subplots\n",
    "    sns.boxplot(\n",
    "        data=data, x=feature, ax=ax_box2, showmeans=True, color=\"violet\"\n",
    "    )  # boxplot will be created and a star will indicate the mean value of the column\n",
    "    sns.histplot(\n",
    "        data=data, x=feature, kde=kde, ax=ax_hist2, bins=bins, palette=\"winter\"\n",
    "    ) if bins else sns.histplot(\n",
    "        data=data, x=feature, kde=kde, ax=ax_hist2\n",
    "    )  # For histogram\n",
    "    ax_hist2.axvline(\n",
    "        data[feature].mean(), color=\"green\", linestyle=\"--\"\n",
    "    )  # Add mean to the histogram\n",
    "    ax_hist2.axvline(\n",
    "        data[feature].median(), color=\"black\", linestyle=\"-\"\n",
    "    )  # Add median to the histogram"
   ]
  },
  {
   "cell_type": "markdown",
   "id": "baa3063c",
   "metadata": {},
   "source": [
    "### Number of employees"
   ]
  },
  {
   "cell_type": "code",
   "execution_count": 19,
   "id": "3a53a669",
   "metadata": {},
   "outputs": [
    {
     "data": {
      "image/png": "[encoded data removed]",
      "text/plain": [
       "<Figure size 864x504 with 2 Axes>"
      ]
     },
     "metadata": {
      "needs_background": "light"
     },
     "output_type": "display_data"
    },
    {
     "data": {
      "application/javascript": [
       "\n",
       "            setTimeout(function() {\n",
       "                var nbb_cell_id = 19;\n",
       "                var nbb_unformatted_code = \"histogram_boxplot(data, \\\"no_of_employees\\\")  # histogram_boxplot for number of employees\";\n",
       "                var nbb_formatted_code = \"histogram_boxplot(data, \\\"no_of_employees\\\")  # histogram_boxplot for number of employees\";\n",
       "                var nbb_cells = Jupyter.notebook.get_cells();\n",
       "                for (var i = 0; i < nbb_cells.length; ++i) {\n",
       "                    if (nbb_cells[i].input_prompt_number == nbb_cell_id) {\n",
       "                        if (nbb_cells[i].get_text() == nbb_unformatted_code) {\n",
       "                             nbb_cells[i].set_text(nbb_formatted_code);\n",
       "                        }\n",
       "                        break;\n",
       "                    }\n",
       "                }\n",
       "            }, 500);\n",
       "            "
      ],
      "text/plain": [
       "<IPython.core.display.Javascript object>"
      ]
     },
     "metadata": {},
     "output_type": "display_data"
    }
   ],
   "source": [
    "histogram_boxplot(data, \"no_of_employees\")  # histogram_boxplot for number of employees"
   ]
  },
  {
   "cell_type": "code",
   "execution_count": 20,
   "id": "d7708b51",
   "metadata": {},
   "outputs": [
    {
     "data": {
      "text/html": [
       "<div>\n",
       "<style scoped>\n",
       "    .dataframe tbody tr th:only-of-type {\n",
       "        vertical-align: middle;\n",
       "    }\n",
       "\n",
       "    .dataframe tbody tr th {\n",
       "        vertical-align: top;\n",
       "    }\n",
       "\n",
       "    .dataframe thead th {\n",
       "        text-align: right;\n",
       "    }\n",
       "</style>\n",
       "<table border=\"1\" class=\"dataframe\">\n",
       "  <thead>\n",
       "    <tr style=\"text-align: right;\">\n",
       "      <th></th>\n",
       "      <th>continent</th>\n",
       "      <th>education_of_employee</th>\n",
       "      <th>has_job_experience</th>\n",
       "      <th>requires_job_training</th>\n",
       "      <th>no_of_employees</th>\n",
       "      <th>yr_of_estab</th>\n",
       "      <th>region_of_employment</th>\n",
       "      <th>prevailing_wage</th>\n",
       "      <th>unit_of_wage</th>\n",
       "      <th>full_time_position</th>\n",
       "      <th>case_status</th>\n",
       "    </tr>\n",
       "  </thead>\n",
       "  <tbody>\n",
       "    <tr>\n",
       "      <th>12</th>\n",
       "      <td>Asia</td>\n",
       "      <td>Bachelor's</td>\n",
       "      <td>Y</td>\n",
       "      <td>N</td>\n",
       "      <td>123876</td>\n",
       "      <td>1963</td>\n",
       "      <td>Northeast</td>\n",
       "      <td>28663.0500</td>\n",
       "      <td>Year</td>\n",
       "      <td>Y</td>\n",
       "      <td>Certified</td>\n",
       "    </tr>\n",
       "    <tr>\n",
       "      <th>16</th>\n",
       "      <td>Europe</td>\n",
       "      <td>Master's</td>\n",
       "      <td>Y</td>\n",
       "      <td>N</td>\n",
       "      <td>76638</td>\n",
       "      <td>1991</td>\n",
       "      <td>Midwest</td>\n",
       "      <td>3706.7900</td>\n",
       "      <td>Year</td>\n",
       "      <td>Y</td>\n",
       "      <td>Certified</td>\n",
       "    </tr>\n",
       "    <tr>\n",
       "      <th>99</th>\n",
       "      <td>Asia</td>\n",
       "      <td>Master's</td>\n",
       "      <td>N</td>\n",
       "      <td>N</td>\n",
       "      <td>107535</td>\n",
       "      <td>1970</td>\n",
       "      <td>West</td>\n",
       "      <td>159645.5100</td>\n",
       "      <td>Year</td>\n",
       "      <td>Y</td>\n",
       "      <td>Denied</td>\n",
       "    </tr>\n",
       "    <tr>\n",
       "      <th>134</th>\n",
       "      <td>Asia</td>\n",
       "      <td>Doctorate</td>\n",
       "      <td>Y</td>\n",
       "      <td>Y</td>\n",
       "      <td>113282</td>\n",
       "      <td>2011</td>\n",
       "      <td>Midwest</td>\n",
       "      <td>164893.0000</td>\n",
       "      <td>Year</td>\n",
       "      <td>Y</td>\n",
       "      <td>Certified</td>\n",
       "    </tr>\n",
       "    <tr>\n",
       "      <th>141</th>\n",
       "      <td>Asia</td>\n",
       "      <td>Master's</td>\n",
       "      <td>Y</td>\n",
       "      <td>N</td>\n",
       "      <td>73909</td>\n",
       "      <td>2004</td>\n",
       "      <td>Midwest</td>\n",
       "      <td>60821.7500</td>\n",
       "      <td>Year</td>\n",
       "      <td>Y</td>\n",
       "      <td>Certified</td>\n",
       "    </tr>\n",
       "    <tr>\n",
       "      <th>...</th>\n",
       "      <td>...</td>\n",
       "      <td>...</td>\n",
       "      <td>...</td>\n",
       "      <td>...</td>\n",
       "      <td>...</td>\n",
       "      <td>...</td>\n",
       "      <td>...</td>\n",
       "      <td>...</td>\n",
       "      <td>...</td>\n",
       "      <td>...</td>\n",
       "      <td>...</td>\n",
       "    </tr>\n",
       "    <tr>\n",
       "      <th>25308</th>\n",
       "      <td>North America</td>\n",
       "      <td>Master's</td>\n",
       "      <td>N</td>\n",
       "      <td>N</td>\n",
       "      <td>82953</td>\n",
       "      <td>1977</td>\n",
       "      <td>Northeast</td>\n",
       "      <td>42.7705</td>\n",
       "      <td>Hour</td>\n",
       "      <td>Y</td>\n",
       "      <td>Denied</td>\n",
       "    </tr>\n",
       "    <tr>\n",
       "      <th>25343</th>\n",
       "      <td>Asia</td>\n",
       "      <td>Master's</td>\n",
       "      <td>Y</td>\n",
       "      <td>N</td>\n",
       "      <td>53376</td>\n",
       "      <td>1875</td>\n",
       "      <td>South</td>\n",
       "      <td>58641.8900</td>\n",
       "      <td>Year</td>\n",
       "      <td>Y</td>\n",
       "      <td>Certified</td>\n",
       "    </tr>\n",
       "    <tr>\n",
       "      <th>25349</th>\n",
       "      <td>Asia</td>\n",
       "      <td>High School</td>\n",
       "      <td>Y</td>\n",
       "      <td>N</td>\n",
       "      <td>89016</td>\n",
       "      <td>1965</td>\n",
       "      <td>South</td>\n",
       "      <td>223.0344</td>\n",
       "      <td>Hour</td>\n",
       "      <td>Y</td>\n",
       "      <td>Certified</td>\n",
       "    </tr>\n",
       "    <tr>\n",
       "      <th>25379</th>\n",
       "      <td>North America</td>\n",
       "      <td>Master's</td>\n",
       "      <td>Y</td>\n",
       "      <td>N</td>\n",
       "      <td>96022</td>\n",
       "      <td>1999</td>\n",
       "      <td>Northeast</td>\n",
       "      <td>80519.6500</td>\n",
       "      <td>Year</td>\n",
       "      <td>Y</td>\n",
       "      <td>Certified</td>\n",
       "    </tr>\n",
       "    <tr>\n",
       "      <th>25443</th>\n",
       "      <td>Africa</td>\n",
       "      <td>Bachelor's</td>\n",
       "      <td>N</td>\n",
       "      <td>N</td>\n",
       "      <td>72892</td>\n",
       "      <td>2007</td>\n",
       "      <td>Northeast</td>\n",
       "      <td>215.1000</td>\n",
       "      <td>Hour</td>\n",
       "      <td>Y</td>\n",
       "      <td>Certified</td>\n",
       "    </tr>\n",
       "  </tbody>\n",
       "</table>\n",
       "<p>574 rows × 11 columns</p>\n",
       "</div>"
      ],
      "text/plain": [
       "           continent education_of_employee has_job_experience  \\\n",
       "12              Asia            Bachelor's                  Y   \n",
       "16            Europe              Master's                  Y   \n",
       "99              Asia              Master's                  N   \n",
       "134             Asia             Doctorate                  Y   \n",
       "141             Asia              Master's                  Y   \n",
       "...              ...                   ...                ...   \n",
       "25308  North America              Master's                  N   \n",
       "25343           Asia              Master's                  Y   \n",
       "25349           Asia           High School                  Y   \n",
       "25379  North America              Master's                  Y   \n",
       "25443         Africa            Bachelor's                  N   \n",
       "\n",
       "      requires_job_training  no_of_employees  yr_of_estab  \\\n",
       "12                        N           123876         1963   \n",
       "16                        N            76638         1991   \n",
       "99                        N           107535         1970   \n",
       "134                       Y           113282         2011   \n",
       "141                       N            73909         2004   \n",
       "...                     ...              ...          ...   \n",
       "25308                     N            82953         1977   \n",
       "25343                     N            53376         1875   \n",
       "25349                     N            89016         1965   \n",
       "25379                     N            96022         1999   \n",
       "25443                     N            72892         2007   \n",
       "\n",
       "      region_of_employment  prevailing_wage unit_of_wage full_time_position  \\\n",
       "12               Northeast       28663.0500         Year                  Y   \n",
       "16                 Midwest        3706.7900         Year                  Y   \n",
       "99                    West      159645.5100         Year                  Y   \n",
       "134                Midwest      164893.0000         Year                  Y   \n",
       "141                Midwest       60821.7500         Year                  Y   \n",
       "...                    ...              ...          ...                ...   \n",
       "25308            Northeast          42.7705         Hour                  Y   \n",
       "25343                South       58641.8900         Year                  Y   \n",
       "25349                South         223.0344         Hour                  Y   \n",
       "25379            Northeast       80519.6500         Year                  Y   \n",
       "25443            Northeast         215.1000         Hour                  Y   \n",
       "\n",
       "      case_status  \n",
       "12      Certified  \n",
       "16      Certified  \n",
       "99         Denied  \n",
       "134     Certified  \n",
       "141     Certified  \n",
       "...           ...  \n",
       "25308      Denied  \n",
       "25343   Certified  \n",
       "25349   Certified  \n",
       "25379   Certified  \n",
       "25443   Certified  \n",
       "\n",
       "[574 rows x 11 columns]"
      ]
     },
     "execution_count": 20,
     "metadata": {},
     "output_type": "execute_result"
    },
    {
     "data": {
      "application/javascript": [
       "\n",
       "            setTimeout(function() {\n",
       "                var nbb_cell_id = 20;\n",
       "                var nbb_unformatted_code = \"data[data.no_of_employees > 50000]  # shows rows with employees greater than 50,000\";\n",
       "                var nbb_formatted_code = \"data[data.no_of_employees > 50000]  # shows rows with employees greater than 50,000\";\n",
       "                var nbb_cells = Jupyter.notebook.get_cells();\n",
       "                for (var i = 0; i < nbb_cells.length; ++i) {\n",
       "                    if (nbb_cells[i].input_prompt_number == nbb_cell_id) {\n",
       "                        if (nbb_cells[i].get_text() == nbb_unformatted_code) {\n",
       "                             nbb_cells[i].set_text(nbb_formatted_code);\n",
       "                        }\n",
       "                        break;\n",
       "                    }\n",
       "                }\n",
       "            }, 500);\n",
       "            "
      ],
      "text/plain": [
       "<IPython.core.display.Javascript object>"
      ]
     },
     "metadata": {},
     "output_type": "display_data"
    }
   ],
   "source": [
    "data[data.no_of_employees > 50000]  # shows rows with employees greater than 50,000"
   ]
  },
  {
   "cell_type": "code",
   "execution_count": 21,
   "id": "93913712",
   "metadata": {},
   "outputs": [
    {
     "data": {
      "text/plain": [
       "21339    602069\n",
       "1345     594472\n",
       "20345    581468\n",
       "11317    579004\n",
       "9587     547172\n",
       "2783     517884\n",
       "15268    499720\n",
       "8626     461527\n",
       "24071    459450\n",
       "23176    453142\n",
       "13144    437064\n",
       "3731     428773\n",
       "4120     421062\n",
       "3864     412207\n",
       "4137     404715\n",
       "15925    403959\n",
       "4749     397360\n",
       "979      394921\n",
       "15089    389595\n",
       "19456    386278\n",
       "Name: no_of_employees, dtype: int64"
      ]
     },
     "execution_count": 21,
     "metadata": {},
     "output_type": "execute_result"
    },
    {
     "data": {
      "application/javascript": [
       "\n",
       "            setTimeout(function() {\n",
       "                var nbb_cell_id = 21;\n",
       "                var nbb_unformatted_code = \"data.no_of_employees.nlargest(\\n    20\\n)  # shows top 20 number of employees and their corresponding case_id\";\n",
       "                var nbb_formatted_code = \"data.no_of_employees.nlargest(\\n    20\\n)  # shows top 20 number of employees and their corresponding case_id\";\n",
       "                var nbb_cells = Jupyter.notebook.get_cells();\n",
       "                for (var i = 0; i < nbb_cells.length; ++i) {\n",
       "                    if (nbb_cells[i].input_prompt_number == nbb_cell_id) {\n",
       "                        if (nbb_cells[i].get_text() == nbb_unformatted_code) {\n",
       "                             nbb_cells[i].set_text(nbb_formatted_code);\n",
       "                        }\n",
       "                        break;\n",
       "                    }\n",
       "                }\n",
       "            }, 500);\n",
       "            "
      ],
      "text/plain": [
       "<IPython.core.display.Javascript object>"
      ]
     },
     "metadata": {},
     "output_type": "display_data"
    }
   ],
   "source": [
    "data.no_of_employees.nlargest(\n",
    "    20\n",
    ")  # shows top 20 number of employees and their corresponding case_id"
   ]
  },
  {
   "cell_type": "markdown",
   "id": "497e6590",
   "metadata": {},
   "source": [
    "#### Observations:\n",
    "- Many outliers, but are probably valid. Meaning most companies are small, but some have a large amount of employees"
   ]
  },
  {
   "cell_type": "markdown",
   "id": "a9c22eb2",
   "metadata": {},
   "source": [
    "### Prevailing wage"
   ]
  },
  {
   "cell_type": "code",
   "execution_count": 22,
   "id": "e376b0df",
   "metadata": {},
   "outputs": [
    {
     "data": {
      "image/png": "[encoded data removed]",
      "text/plain": [
       "<Figure size 864x504 with 2 Axes>"
      ]
     },
     "metadata": {
      "needs_background": "light"
     },
     "output_type": "display_data"
    },
    {
     "data": {
      "application/javascript": [
       "\n",
       "            setTimeout(function() {\n",
       "                var nbb_cell_id = 22;\n",
       "                var nbb_unformatted_code = \"histogram_boxplot(\\n    data, \\\"prevailing_wage\\\", bins=100\\n)  # histogram_boxplot for prevailing wage\";\n",
       "                var nbb_formatted_code = \"histogram_boxplot(\\n    data, \\\"prevailing_wage\\\", bins=100\\n)  # histogram_boxplot for prevailing wage\";\n",
       "                var nbb_cells = Jupyter.notebook.get_cells();\n",
       "                for (var i = 0; i < nbb_cells.length; ++i) {\n",
       "                    if (nbb_cells[i].input_prompt_number == nbb_cell_id) {\n",
       "                        if (nbb_cells[i].get_text() == nbb_unformatted_code) {\n",
       "                             nbb_cells[i].set_text(nbb_formatted_code);\n",
       "                        }\n",
       "                        break;\n",
       "                    }\n",
       "                }\n",
       "            }, 500);\n",
       "            "
      ],
      "text/plain": [
       "<IPython.core.display.Javascript object>"
      ]
     },
     "metadata": {},
     "output_type": "display_data"
    }
   ],
   "source": [
    "histogram_boxplot(\n",
    "    data, \"prevailing_wage\", bins=100\n",
    ")  # histogram_boxplot for prevailing wage"
   ]
  },
  {
   "cell_type": "code",
   "execution_count": 23,
   "id": "e466dd52",
   "metadata": {},
   "outputs": [
    {
     "data": {
      "text/plain": [
       "21077    319210.27\n",
       "14810    318446.05\n",
       "12215    315497.60\n",
       "16223    314156.06\n",
       "20957    311734.49\n",
       "14816    307716.10\n",
       "5354     307410.02\n",
       "15589    306982.28\n",
       "11124    306206.67\n",
       "4757     306021.96\n",
       "5829     304543.67\n",
       "18276    302513.77\n",
       "6330     298520.02\n",
       "17625    297589.88\n",
       "17385    294945.51\n",
       "13891    294807.32\n",
       "8407     294258.80\n",
       "2366     292106.59\n",
       "10150    289878.68\n",
       "1607     288318.91\n",
       "Name: prevailing_wage, dtype: float64"
      ]
     },
     "execution_count": 23,
     "metadata": {},
     "output_type": "execute_result"
    },
    {
     "data": {
      "application/javascript": [
       "\n",
       "            setTimeout(function() {\n",
       "                var nbb_cell_id = 23;\n",
       "                var nbb_unformatted_code = \"data.prevailing_wage.nlargest(\\n    20\\n)  # shows top 20 prevailing wages and their corresponding case_id\";\n",
       "                var nbb_formatted_code = \"data.prevailing_wage.nlargest(\\n    20\\n)  # shows top 20 prevailing wages and their corresponding case_id\";\n",
       "                var nbb_cells = Jupyter.notebook.get_cells();\n",
       "                for (var i = 0; i < nbb_cells.length; ++i) {\n",
       "                    if (nbb_cells[i].input_prompt_number == nbb_cell_id) {\n",
       "                        if (nbb_cells[i].get_text() == nbb_unformatted_code) {\n",
       "                             nbb_cells[i].set_text(nbb_formatted_code);\n",
       "                        }\n",
       "                        break;\n",
       "                    }\n",
       "                }\n",
       "            }, 500);\n",
       "            "
      ],
      "text/plain": [
       "<IPython.core.display.Javascript object>"
      ]
     },
     "metadata": {},
     "output_type": "display_data"
    }
   ],
   "source": [
    "data.prevailing_wage.nlargest(\n",
    "    20\n",
    ")  # shows top 20 prevailing wages and their corresponding case_id"
   ]
  },
  {
   "cell_type": "code",
   "execution_count": 24,
   "id": "ddc94392",
   "metadata": {},
   "outputs": [
    {
     "data": {
      "text/plain": [
       "Hour    176\n",
       "Name: unit_of_wage, dtype: int64"
      ]
     },
     "execution_count": 24,
     "metadata": {},
     "output_type": "execute_result"
    },
    {
     "data": {
      "application/javascript": [
       "\n",
       "            setTimeout(function() {\n",
       "                var nbb_cell_id = 24;\n",
       "                var nbb_unformatted_code = \"data.loc[\\n    data[\\\"prevailing_wage\\\"] < 100, \\\"unit_of_wage\\\"\\n].value_counts()  # the count of the values in the prevailing wages column below 100 and sorted by unit of wage\";\n",
       "                var nbb_formatted_code = \"data.loc[\\n    data[\\\"prevailing_wage\\\"] < 100, \\\"unit_of_wage\\\"\\n].value_counts()  # the count of the values in the prevailing wages column below 100 and sorted by unit of wage\";\n",
       "                var nbb_cells = Jupyter.notebook.get_cells();\n",
       "                for (var i = 0; i < nbb_cells.length; ++i) {\n",
       "                    if (nbb_cells[i].input_prompt_number == nbb_cell_id) {\n",
       "                        if (nbb_cells[i].get_text() == nbb_unformatted_code) {\n",
       "                             nbb_cells[i].set_text(nbb_formatted_code);\n",
       "                        }\n",
       "                        break;\n",
       "                    }\n",
       "                }\n",
       "            }, 500);\n",
       "            "
      ],
      "text/plain": [
       "<IPython.core.display.Javascript object>"
      ]
     },
     "metadata": {},
     "output_type": "display_data"
    }
   ],
   "source": [
    "data.loc[\n",
    "    data[\"prevailing_wage\"] < 100, \"unit_of_wage\"\n",
    "].value_counts()  # the count of the values in the prevailing wages column below 100 and sorted by unit of wage"
   ]
  },
  {
   "cell_type": "code",
   "execution_count": 25,
   "id": "545e744c",
   "metadata": {},
   "outputs": [
    {
     "data": {
      "text/html": [
       "<div>\n",
       "<style scoped>\n",
       "    .dataframe tbody tr th:only-of-type {\n",
       "        vertical-align: middle;\n",
       "    }\n",
       "\n",
       "    .dataframe tbody tr th {\n",
       "        vertical-align: top;\n",
       "    }\n",
       "\n",
       "    .dataframe thead th {\n",
       "        text-align: right;\n",
       "    }\n",
       "</style>\n",
       "<table border=\"1\" class=\"dataframe\">\n",
       "  <thead>\n",
       "    <tr style=\"text-align: right;\">\n",
       "      <th></th>\n",
       "      <th>continent</th>\n",
       "      <th>education_of_employee</th>\n",
       "      <th>has_job_experience</th>\n",
       "      <th>requires_job_training</th>\n",
       "      <th>no_of_employees</th>\n",
       "      <th>yr_of_estab</th>\n",
       "      <th>region_of_employment</th>\n",
       "      <th>prevailing_wage</th>\n",
       "      <th>unit_of_wage</th>\n",
       "      <th>full_time_position</th>\n",
       "      <th>case_status</th>\n",
       "    </tr>\n",
       "  </thead>\n",
       "  <tbody>\n",
       "    <tr>\n",
       "      <th>20575</th>\n",
       "      <td>North America</td>\n",
       "      <td>Master's</td>\n",
       "      <td>N</td>\n",
       "      <td>N</td>\n",
       "      <td>1552</td>\n",
       "      <td>2004</td>\n",
       "      <td>Northeast</td>\n",
       "      <td>2.1367</td>\n",
       "      <td>Hour</td>\n",
       "      <td>Y</td>\n",
       "      <td>Certified</td>\n",
       "    </tr>\n",
       "    <tr>\n",
       "      <th>22855</th>\n",
       "      <td>North America</td>\n",
       "      <td>High School</td>\n",
       "      <td>Y</td>\n",
       "      <td>N</td>\n",
       "      <td>564</td>\n",
       "      <td>1991</td>\n",
       "      <td>South</td>\n",
       "      <td>2.9561</td>\n",
       "      <td>Hour</td>\n",
       "      <td>Y</td>\n",
       "      <td>Denied</td>\n",
       "    </tr>\n",
       "    <tr>\n",
       "      <th>17448</th>\n",
       "      <td>South America</td>\n",
       "      <td>Master's</td>\n",
       "      <td>Y</td>\n",
       "      <td>N</td>\n",
       "      <td>4421</td>\n",
       "      <td>1999</td>\n",
       "      <td>Northeast</td>\n",
       "      <td>3.0031</td>\n",
       "      <td>Hour</td>\n",
       "      <td>Y</td>\n",
       "      <td>Denied</td>\n",
       "    </tr>\n",
       "    <tr>\n",
       "      <th>634</th>\n",
       "      <td>Asia</td>\n",
       "      <td>Master's</td>\n",
       "      <td>N</td>\n",
       "      <td>N</td>\n",
       "      <td>834</td>\n",
       "      <td>1977</td>\n",
       "      <td>Northeast</td>\n",
       "      <td>3.3188</td>\n",
       "      <td>Hour</td>\n",
       "      <td>Y</td>\n",
       "      <td>Denied</td>\n",
       "    </tr>\n",
       "    <tr>\n",
       "      <th>5455</th>\n",
       "      <td>North America</td>\n",
       "      <td>Doctorate</td>\n",
       "      <td>Y</td>\n",
       "      <td>Y</td>\n",
       "      <td>2038</td>\n",
       "      <td>2007</td>\n",
       "      <td>Northeast</td>\n",
       "      <td>3.4889</td>\n",
       "      <td>Hour</td>\n",
       "      <td>Y</td>\n",
       "      <td>Certified</td>\n",
       "    </tr>\n",
       "    <tr>\n",
       "      <th>13544</th>\n",
       "      <td>North America</td>\n",
       "      <td>High School</td>\n",
       "      <td>Y</td>\n",
       "      <td>N</td>\n",
       "      <td>3191</td>\n",
       "      <td>2003</td>\n",
       "      <td>Northeast</td>\n",
       "      <td>5.0899</td>\n",
       "      <td>Hour</td>\n",
       "      <td>Y</td>\n",
       "      <td>Denied</td>\n",
       "    </tr>\n",
       "    <tr>\n",
       "      <th>19425</th>\n",
       "      <td>North America</td>\n",
       "      <td>Bachelor's</td>\n",
       "      <td>Y</td>\n",
       "      <td>N</td>\n",
       "      <td>2051</td>\n",
       "      <td>2004</td>\n",
       "      <td>Northeast</td>\n",
       "      <td>5.1868</td>\n",
       "      <td>Hour</td>\n",
       "      <td>Y</td>\n",
       "      <td>Denied</td>\n",
       "    </tr>\n",
       "    <tr>\n",
       "      <th>19593</th>\n",
       "      <td>Asia</td>\n",
       "      <td>Master's</td>\n",
       "      <td>N</td>\n",
       "      <td>N</td>\n",
       "      <td>528</td>\n",
       "      <td>2004</td>\n",
       "      <td>Northeast</td>\n",
       "      <td>5.4108</td>\n",
       "      <td>Hour</td>\n",
       "      <td>Y</td>\n",
       "      <td>Certified</td>\n",
       "    </tr>\n",
       "    <tr>\n",
       "      <th>8914</th>\n",
       "      <td>Asia</td>\n",
       "      <td>Bachelor's</td>\n",
       "      <td>N</td>\n",
       "      <td>N</td>\n",
       "      <td>4427</td>\n",
       "      <td>1998</td>\n",
       "      <td>Northeast</td>\n",
       "      <td>5.6396</td>\n",
       "      <td>Hour</td>\n",
       "      <td>Y</td>\n",
       "      <td>Denied</td>\n",
       "    </tr>\n",
       "    <tr>\n",
       "      <th>20482</th>\n",
       "      <td>North America</td>\n",
       "      <td>Bachelor's</td>\n",
       "      <td>N</td>\n",
       "      <td>N</td>\n",
       "      <td>2584</td>\n",
       "      <td>1900</td>\n",
       "      <td>South</td>\n",
       "      <td>6.3305</td>\n",
       "      <td>Hour</td>\n",
       "      <td>Y</td>\n",
       "      <td>Denied</td>\n",
       "    </tr>\n",
       "    <tr>\n",
       "      <th>17033</th>\n",
       "      <td>Asia</td>\n",
       "      <td>Master's</td>\n",
       "      <td>Y</td>\n",
       "      <td>N</td>\n",
       "      <td>2587</td>\n",
       "      <td>1989</td>\n",
       "      <td>South</td>\n",
       "      <td>7.0647</td>\n",
       "      <td>Hour</td>\n",
       "      <td>Y</td>\n",
       "      <td>Certified</td>\n",
       "    </tr>\n",
       "    <tr>\n",
       "      <th>5384</th>\n",
       "      <td>North America</td>\n",
       "      <td>Master's</td>\n",
       "      <td>N</td>\n",
       "      <td>N</td>\n",
       "      <td>4405</td>\n",
       "      <td>1993</td>\n",
       "      <td>Northeast</td>\n",
       "      <td>8.5186</td>\n",
       "      <td>Hour</td>\n",
       "      <td>Y</td>\n",
       "      <td>Denied</td>\n",
       "    </tr>\n",
       "    <tr>\n",
       "      <th>23416</th>\n",
       "      <td>Europe</td>\n",
       "      <td>Bachelor's</td>\n",
       "      <td>N</td>\n",
       "      <td>N</td>\n",
       "      <td>1456</td>\n",
       "      <td>2008</td>\n",
       "      <td>Northeast</td>\n",
       "      <td>9.1753</td>\n",
       "      <td>Hour</td>\n",
       "      <td>Y</td>\n",
       "      <td>Denied</td>\n",
       "    </tr>\n",
       "    <tr>\n",
       "      <th>10006</th>\n",
       "      <td>North America</td>\n",
       "      <td>Master's</td>\n",
       "      <td>N</td>\n",
       "      <td>N</td>\n",
       "      <td>2816</td>\n",
       "      <td>1974</td>\n",
       "      <td>Northeast</td>\n",
       "      <td>9.5331</td>\n",
       "      <td>Hour</td>\n",
       "      <td>Y</td>\n",
       "      <td>Denied</td>\n",
       "    </tr>\n",
       "    <tr>\n",
       "      <th>2010</th>\n",
       "      <td>Asia</td>\n",
       "      <td>Bachelor's</td>\n",
       "      <td>N</td>\n",
       "      <td>N</td>\n",
       "      <td>709</td>\n",
       "      <td>2005</td>\n",
       "      <td>West</td>\n",
       "      <td>10.1111</td>\n",
       "      <td>Hour</td>\n",
       "      <td>Y</td>\n",
       "      <td>Denied</td>\n",
       "    </tr>\n",
       "    <tr>\n",
       "      <th>1215</th>\n",
       "      <td>Asia</td>\n",
       "      <td>Bachelor's</td>\n",
       "      <td>N</td>\n",
       "      <td>N</td>\n",
       "      <td>1814</td>\n",
       "      <td>2002</td>\n",
       "      <td>Northeast</td>\n",
       "      <td>10.5551</td>\n",
       "      <td>Hour</td>\n",
       "      <td>Y</td>\n",
       "      <td>Denied</td>\n",
       "    </tr>\n",
       "    <tr>\n",
       "      <th>5377</th>\n",
       "      <td>Asia</td>\n",
       "      <td>Bachelor's</td>\n",
       "      <td>N</td>\n",
       "      <td>N</td>\n",
       "      <td>141</td>\n",
       "      <td>1994</td>\n",
       "      <td>South</td>\n",
       "      <td>10.9041</td>\n",
       "      <td>Hour</td>\n",
       "      <td>Y</td>\n",
       "      <td>Denied</td>\n",
       "    </tr>\n",
       "    <tr>\n",
       "      <th>23738</th>\n",
       "      <td>Asia</td>\n",
       "      <td>High School</td>\n",
       "      <td>Y</td>\n",
       "      <td>N</td>\n",
       "      <td>2725</td>\n",
       "      <td>1992</td>\n",
       "      <td>Northeast</td>\n",
       "      <td>11.3078</td>\n",
       "      <td>Hour</td>\n",
       "      <td>Y</td>\n",
       "      <td>Denied</td>\n",
       "    </tr>\n",
       "    <tr>\n",
       "      <th>15977</th>\n",
       "      <td>Asia</td>\n",
       "      <td>Bachelor's</td>\n",
       "      <td>N</td>\n",
       "      <td>N</td>\n",
       "      <td>3034</td>\n",
       "      <td>2003</td>\n",
       "      <td>South</td>\n",
       "      <td>11.4219</td>\n",
       "      <td>Hour</td>\n",
       "      <td>Y</td>\n",
       "      <td>Certified</td>\n",
       "    </tr>\n",
       "    <tr>\n",
       "      <th>3459</th>\n",
       "      <td>Asia</td>\n",
       "      <td>Bachelor's</td>\n",
       "      <td>Y</td>\n",
       "      <td>N</td>\n",
       "      <td>2070</td>\n",
       "      <td>2001</td>\n",
       "      <td>Northeast</td>\n",
       "      <td>11.4473</td>\n",
       "      <td>Hour</td>\n",
       "      <td>Y</td>\n",
       "      <td>Certified</td>\n",
       "    </tr>\n",
       "    <tr>\n",
       "      <th>7066</th>\n",
       "      <td>Asia</td>\n",
       "      <td>High School</td>\n",
       "      <td>Y</td>\n",
       "      <td>N</td>\n",
       "      <td>412</td>\n",
       "      <td>1981</td>\n",
       "      <td>South</td>\n",
       "      <td>11.8704</td>\n",
       "      <td>Hour</td>\n",
       "      <td>Y</td>\n",
       "      <td>Denied</td>\n",
       "    </tr>\n",
       "    <tr>\n",
       "      <th>6220</th>\n",
       "      <td>Asia</td>\n",
       "      <td>Master's</td>\n",
       "      <td>Y</td>\n",
       "      <td>N</td>\n",
       "      <td>4398</td>\n",
       "      <td>1864</td>\n",
       "      <td>Northeast</td>\n",
       "      <td>12.2234</td>\n",
       "      <td>Hour</td>\n",
       "      <td>Y</td>\n",
       "      <td>Certified</td>\n",
       "    </tr>\n",
       "    <tr>\n",
       "      <th>22155</th>\n",
       "      <td>Asia</td>\n",
       "      <td>Bachelor's</td>\n",
       "      <td>N</td>\n",
       "      <td>N</td>\n",
       "      <td>548</td>\n",
       "      <td>2009</td>\n",
       "      <td>South</td>\n",
       "      <td>12.9900</td>\n",
       "      <td>Hour</td>\n",
       "      <td>Y</td>\n",
       "      <td>Denied</td>\n",
       "    </tr>\n",
       "    <tr>\n",
       "      <th>5090</th>\n",
       "      <td>Asia</td>\n",
       "      <td>High School</td>\n",
       "      <td>N</td>\n",
       "      <td>N</td>\n",
       "      <td>2722</td>\n",
       "      <td>1995</td>\n",
       "      <td>Northeast</td>\n",
       "      <td>14.9093</td>\n",
       "      <td>Hour</td>\n",
       "      <td>Y</td>\n",
       "      <td>Denied</td>\n",
       "    </tr>\n",
       "    <tr>\n",
       "      <th>3491</th>\n",
       "      <td>North America</td>\n",
       "      <td>Bachelor's</td>\n",
       "      <td>N</td>\n",
       "      <td>N</td>\n",
       "      <td>1971</td>\n",
       "      <td>1955</td>\n",
       "      <td>Northeast</td>\n",
       "      <td>15.6472</td>\n",
       "      <td>Hour</td>\n",
       "      <td>Y</td>\n",
       "      <td>Denied</td>\n",
       "    </tr>\n",
       "    <tr>\n",
       "      <th>338</th>\n",
       "      <td>Asia</td>\n",
       "      <td>Bachelor's</td>\n",
       "      <td>Y</td>\n",
       "      <td>N</td>\n",
       "      <td>2114</td>\n",
       "      <td>2012</td>\n",
       "      <td>Northeast</td>\n",
       "      <td>15.7716</td>\n",
       "      <td>Hour</td>\n",
       "      <td>Y</td>\n",
       "      <td>Certified</td>\n",
       "    </tr>\n",
       "    <tr>\n",
       "      <th>10111</th>\n",
       "      <td>Asia</td>\n",
       "      <td>Master's</td>\n",
       "      <td>N</td>\n",
       "      <td>N</td>\n",
       "      <td>2280</td>\n",
       "      <td>1977</td>\n",
       "      <td>West</td>\n",
       "      <td>16.0596</td>\n",
       "      <td>Hour</td>\n",
       "      <td>Y</td>\n",
       "      <td>Certified</td>\n",
       "    </tr>\n",
       "    <tr>\n",
       "      <th>1238</th>\n",
       "      <td>South America</td>\n",
       "      <td>Doctorate</td>\n",
       "      <td>N</td>\n",
       "      <td>N</td>\n",
       "      <td>1998</td>\n",
       "      <td>1992</td>\n",
       "      <td>West</td>\n",
       "      <td>16.4637</td>\n",
       "      <td>Hour</td>\n",
       "      <td>Y</td>\n",
       "      <td>Denied</td>\n",
       "    </tr>\n",
       "    <tr>\n",
       "      <th>14917</th>\n",
       "      <td>Asia</td>\n",
       "      <td>Master's</td>\n",
       "      <td>N</td>\n",
       "      <td>N</td>\n",
       "      <td>2613</td>\n",
       "      <td>2013</td>\n",
       "      <td>Northeast</td>\n",
       "      <td>16.7318</td>\n",
       "      <td>Hour</td>\n",
       "      <td>Y</td>\n",
       "      <td>Denied</td>\n",
       "    </tr>\n",
       "    <tr>\n",
       "      <th>10919</th>\n",
       "      <td>Asia</td>\n",
       "      <td>Doctorate</td>\n",
       "      <td>N</td>\n",
       "      <td>N</td>\n",
       "      <td>605</td>\n",
       "      <td>1996</td>\n",
       "      <td>Northeast</td>\n",
       "      <td>17.4747</td>\n",
       "      <td>Hour</td>\n",
       "      <td>Y</td>\n",
       "      <td>Certified</td>\n",
       "    </tr>\n",
       "    <tr>\n",
       "      <th>1333</th>\n",
       "      <td>Asia</td>\n",
       "      <td>Bachelor's</td>\n",
       "      <td>Y</td>\n",
       "      <td>N</td>\n",
       "      <td>3754</td>\n",
       "      <td>1963</td>\n",
       "      <td>South</td>\n",
       "      <td>17.5190</td>\n",
       "      <td>Hour</td>\n",
       "      <td>Y</td>\n",
       "      <td>Certified</td>\n",
       "    </tr>\n",
       "    <tr>\n",
       "      <th>8624</th>\n",
       "      <td>Asia</td>\n",
       "      <td>High School</td>\n",
       "      <td>Y</td>\n",
       "      <td>N</td>\n",
       "      <td>1387</td>\n",
       "      <td>1992</td>\n",
       "      <td>Northeast</td>\n",
       "      <td>17.5508</td>\n",
       "      <td>Hour</td>\n",
       "      <td>Y</td>\n",
       "      <td>Denied</td>\n",
       "    </tr>\n",
       "    <tr>\n",
       "      <th>19725</th>\n",
       "      <td>Asia</td>\n",
       "      <td>Bachelor's</td>\n",
       "      <td>N</td>\n",
       "      <td>Y</td>\n",
       "      <td>2228</td>\n",
       "      <td>2007</td>\n",
       "      <td>Northeast</td>\n",
       "      <td>17.8912</td>\n",
       "      <td>Hour</td>\n",
       "      <td>Y</td>\n",
       "      <td>Certified</td>\n",
       "    </tr>\n",
       "    <tr>\n",
       "      <th>2860</th>\n",
       "      <td>Asia</td>\n",
       "      <td>Master's</td>\n",
       "      <td>N</td>\n",
       "      <td>N</td>\n",
       "      <td>3173</td>\n",
       "      <td>2007</td>\n",
       "      <td>West</td>\n",
       "      <td>18.4425</td>\n",
       "      <td>Hour</td>\n",
       "      <td>Y</td>\n",
       "      <td>Denied</td>\n",
       "    </tr>\n",
       "    <tr>\n",
       "      <th>5562</th>\n",
       "      <td>Asia</td>\n",
       "      <td>Doctorate</td>\n",
       "      <td>N</td>\n",
       "      <td>N</td>\n",
       "      <td>3214</td>\n",
       "      <td>1986</td>\n",
       "      <td>Northeast</td>\n",
       "      <td>19.3731</td>\n",
       "      <td>Hour</td>\n",
       "      <td>Y</td>\n",
       "      <td>Certified</td>\n",
       "    </tr>\n",
       "  </tbody>\n",
       "</table>\n",
       "</div>"
      ],
      "text/plain": [
       "           continent education_of_employee has_job_experience  \\\n",
       "20575  North America              Master's                  N   \n",
       "22855  North America           High School                  Y   \n",
       "17448  South America              Master's                  Y   \n",
       "634             Asia              Master's                  N   \n",
       "5455   North America             Doctorate                  Y   \n",
       "13544  North America           High School                  Y   \n",
       "19425  North America            Bachelor's                  Y   \n",
       "19593           Asia              Master's                  N   \n",
       "8914            Asia            Bachelor's                  N   \n",
       "20482  North America            Bachelor's                  N   \n",
       "17033           Asia              Master's                  Y   \n",
       "5384   North America              Master's                  N   \n",
       "23416         Europe            Bachelor's                  N   \n",
       "10006  North America              Master's                  N   \n",
       "2010            Asia            Bachelor's                  N   \n",
       "1215            Asia            Bachelor's                  N   \n",
       "5377            Asia            Bachelor's                  N   \n",
       "23738           Asia           High School                  Y   \n",
       "15977           Asia            Bachelor's                  N   \n",
       "3459            Asia            Bachelor's                  Y   \n",
       "7066            Asia           High School                  Y   \n",
       "6220            Asia              Master's                  Y   \n",
       "22155           Asia            Bachelor's                  N   \n",
       "5090            Asia           High School                  N   \n",
       "3491   North America            Bachelor's                  N   \n",
       "338             Asia            Bachelor's                  Y   \n",
       "10111           Asia              Master's                  N   \n",
       "1238   South America             Doctorate                  N   \n",
       "14917           Asia              Master's                  N   \n",
       "10919           Asia             Doctorate                  N   \n",
       "1333            Asia            Bachelor's                  Y   \n",
       "8624            Asia           High School                  Y   \n",
       "19725           Asia            Bachelor's                  N   \n",
       "2860            Asia              Master's                  N   \n",
       "5562            Asia             Doctorate                  N   \n",
       "\n",
       "      requires_job_training  no_of_employees  yr_of_estab  \\\n",
       "20575                     N             1552         2004   \n",
       "22855                     N              564         1991   \n",
       "17448                     N             4421         1999   \n",
       "634                       N              834         1977   \n",
       "5455                      Y             2038         2007   \n",
       "13544                     N             3191         2003   \n",
       "19425                     N             2051         2004   \n",
       "19593                     N              528         2004   \n",
       "8914                      N             4427         1998   \n",
       "20482                     N             2584         1900   \n",
       "17033                     N             2587         1989   \n",
       "5384                      N             4405         1993   \n",
       "23416                     N             1456         2008   \n",
       "10006                     N             2816         1974   \n",
       "2010                      N              709         2005   \n",
       "1215                      N             1814         2002   \n",
       "5377                      N              141         1994   \n",
       "23738                     N             2725         1992   \n",
       "15977                     N             3034         2003   \n",
       "3459                      N             2070         2001   \n",
       "7066                      N              412         1981   \n",
       "6220                      N             4398         1864   \n",
       "22155                     N              548         2009   \n",
       "5090                      N             2722         1995   \n",
       "3491                      N             1971         1955   \n",
       "338                       N             2114         2012   \n",
       "10111                     N             2280         1977   \n",
       "1238                      N             1998         1992   \n",
       "14917                     N             2613         2013   \n",
       "10919                     N              605         1996   \n",
       "1333                      N             3754         1963   \n",
       "8624                      N             1387         1992   \n",
       "19725                     Y             2228         2007   \n",
       "2860                      N             3173         2007   \n",
       "5562                      N             3214         1986   \n",
       "\n",
       "      region_of_employment  prevailing_wage unit_of_wage full_time_position  \\\n",
       "20575            Northeast           2.1367         Hour                  Y   \n",
       "22855                South           2.9561         Hour                  Y   \n",
       "17448            Northeast           3.0031         Hour                  Y   \n",
       "634              Northeast           3.3188         Hour                  Y   \n",
       "5455             Northeast           3.4889         Hour                  Y   \n",
       "13544            Northeast           5.0899         Hour                  Y   \n",
       "19425            Northeast           5.1868         Hour                  Y   \n",
       "19593            Northeast           5.4108         Hour                  Y   \n",
       "8914             Northeast           5.6396         Hour                  Y   \n",
       "20482                South           6.3305         Hour                  Y   \n",
       "17033                South           7.0647         Hour                  Y   \n",
       "5384             Northeast           8.5186         Hour                  Y   \n",
       "23416            Northeast           9.1753         Hour                  Y   \n",
       "10006            Northeast           9.5331         Hour                  Y   \n",
       "2010                  West          10.1111         Hour                  Y   \n",
       "1215             Northeast          10.5551         Hour                  Y   \n",
       "5377                 South          10.9041         Hour                  Y   \n",
       "23738            Northeast          11.3078         Hour                  Y   \n",
       "15977                South          11.4219         Hour                  Y   \n",
       "3459             Northeast          11.4473         Hour                  Y   \n",
       "7066                 South          11.8704         Hour                  Y   \n",
       "6220             Northeast          12.2234         Hour                  Y   \n",
       "22155                South          12.9900         Hour                  Y   \n",
       "5090             Northeast          14.9093         Hour                  Y   \n",
       "3491             Northeast          15.6472         Hour                  Y   \n",
       "338              Northeast          15.7716         Hour                  Y   \n",
       "10111                 West          16.0596         Hour                  Y   \n",
       "1238                  West          16.4637         Hour                  Y   \n",
       "14917            Northeast          16.7318         Hour                  Y   \n",
       "10919            Northeast          17.4747         Hour                  Y   \n",
       "1333                 South          17.5190         Hour                  Y   \n",
       "8624             Northeast          17.5508         Hour                  Y   \n",
       "19725            Northeast          17.8912         Hour                  Y   \n",
       "2860                  West          18.4425         Hour                  Y   \n",
       "5562             Northeast          19.3731         Hour                  Y   \n",
       "\n",
       "      case_status  \n",
       "20575   Certified  \n",
       "22855      Denied  \n",
       "17448      Denied  \n",
       "634        Denied  \n",
       "5455    Certified  \n",
       "13544      Denied  \n",
       "19425      Denied  \n",
       "19593   Certified  \n",
       "8914       Denied  \n",
       "20482      Denied  \n",
       "17033   Certified  \n",
       "5384       Denied  \n",
       "23416      Denied  \n",
       "10006      Denied  \n",
       "2010       Denied  \n",
       "1215       Denied  \n",
       "5377       Denied  \n",
       "23738      Denied  \n",
       "15977   Certified  \n",
       "3459    Certified  \n",
       "7066       Denied  \n",
       "6220    Certified  \n",
       "22155      Denied  \n",
       "5090       Denied  \n",
       "3491       Denied  \n",
       "338     Certified  \n",
       "10111   Certified  \n",
       "1238       Denied  \n",
       "14917      Denied  \n",
       "10919   Certified  \n",
       "1333    Certified  \n",
       "8624       Denied  \n",
       "19725   Certified  \n",
       "2860       Denied  \n",
       "5562    Certified  "
      ]
     },
     "execution_count": 25,
     "metadata": {},
     "output_type": "execute_result"
    },
    {
     "data": {
      "application/javascript": [
       "\n",
       "            setTimeout(function() {\n",
       "                var nbb_cell_id = 25;\n",
       "                var nbb_unformatted_code = \"# shows rows with prevailing wage below 20, sorted from smallest to greatest by prevailing wage\\ndata.loc[data[\\\"prevailing_wage\\\"] < 20].sort_values(by=\\\"prevailing_wage\\\")\";\n",
       "                var nbb_formatted_code = \"# shows rows with prevailing wage below 20, sorted from smallest to greatest by prevailing wage\\ndata.loc[data[\\\"prevailing_wage\\\"] < 20].sort_values(by=\\\"prevailing_wage\\\")\";\n",
       "                var nbb_cells = Jupyter.notebook.get_cells();\n",
       "                for (var i = 0; i < nbb_cells.length; ++i) {\n",
       "                    if (nbb_cells[i].input_prompt_number == nbb_cell_id) {\n",
       "                        if (nbb_cells[i].get_text() == nbb_unformatted_code) {\n",
       "                             nbb_cells[i].set_text(nbb_formatted_code);\n",
       "                        }\n",
       "                        break;\n",
       "                    }\n",
       "                }\n",
       "            }, 500);\n",
       "            "
      ],
      "text/plain": [
       "<IPython.core.display.Javascript object>"
      ]
     },
     "metadata": {},
     "output_type": "display_data"
    }
   ],
   "source": [
    "# shows rows with prevailing wage below 20, sorted from smallest to greatest by prevailing wage\n",
    "data.loc[data[\"prevailing_wage\"] < 20].sort_values(by=\"prevailing_wage\")"
   ]
  },
  {
   "cell_type": "markdown",
   "id": "e01e7abb",
   "metadata": {},
   "source": [
    "#### Observations:\n",
    "- Many outliers, but are probably valid. Pay ranges have wide gaps depending on level of employment.\n",
    "- For wages under the minimum wage, it is unsure what the currency is. Thus, the wages can not be changed.\n",
    "- Similarly, the unit of wage can not be adjusted to normalize this wage. There is no way to know how many days, hours, or weeks the employee has worked in order to convert them all."
   ]
  },
  {
   "cell_type": "markdown",
   "id": "22eb15b1",
   "metadata": {},
   "source": [
    "### Year of Establishment"
   ]
  },
  {
   "cell_type": "code",
   "execution_count": 26,
   "id": "b0772a84",
   "metadata": {},
   "outputs": [
    {
     "data": {
      "image/png": "[encoded data removed]",
      "text/plain": [
       "<Figure size 864x504 with 2 Axes>"
      ]
     },
     "metadata": {
      "needs_background": "light"
     },
     "output_type": "display_data"
    },
    {
     "data": {
      "application/javascript": [
       "\n",
       "            setTimeout(function() {\n",
       "                var nbb_cell_id = 26;\n",
       "                var nbb_unformatted_code = \"histogram_boxplot(data, \\\"yr_of_estab\\\")  # histogram_boxplot for year of establishment\";\n",
       "                var nbb_formatted_code = \"histogram_boxplot(data, \\\"yr_of_estab\\\")  # histogram_boxplot for year of establishment\";\n",
       "                var nbb_cells = Jupyter.notebook.get_cells();\n",
       "                for (var i = 0; i < nbb_cells.length; ++i) {\n",
       "                    if (nbb_cells[i].input_prompt_number == nbb_cell_id) {\n",
       "                        if (nbb_cells[i].get_text() == nbb_unformatted_code) {\n",
       "                             nbb_cells[i].set_text(nbb_formatted_code);\n",
       "                        }\n",
       "                        break;\n",
       "                    }\n",
       "                }\n",
       "            }, 500);\n",
       "            "
      ],
      "text/plain": [
       "<IPython.core.display.Javascript object>"
      ]
     },
     "metadata": {},
     "output_type": "display_data"
    }
   ],
   "source": [
    "histogram_boxplot(data, \"yr_of_estab\")  # histogram_boxplot for year of establishment"
   ]
  },
  {
   "cell_type": "markdown",
   "id": "c7ac3e20",
   "metadata": {},
   "source": [
    "#### Observations:\n",
    "- Many outliers, but are probably valid. There is more of a demand for employees the greater the population grows.\n",
    "- Left skewed distribution"
   ]
  },
  {
   "cell_type": "code",
   "execution_count": 27,
   "id": "6db67a85",
   "metadata": {},
   "outputs": [
    {
     "data": {
      "application/javascript": [
       "\n",
       "            setTimeout(function() {\n",
       "                var nbb_cell_id = 27;\n",
       "                var nbb_unformatted_code = \"# function to create labeled barplots\\n\\n\\ndef labeled_barplot(data, feature, perc=False, n=None):\\n    \\\"\\\"\\\"\\n    Barplot with percentage at the top\\n\\n    data: dataframe\\n    feature: dataframe column\\n    perc: whether to display percentages instead of count (default is False)\\n    n: displays the top n category levels (default is None, i.e., display all levels)\\n    \\\"\\\"\\\"\\n\\n    total = len(data[feature])  # length of the column\\n    count = data[feature].nunique()\\n    if n is None:\\n        plt.figure(figsize=(count + 1, 5))\\n    else:\\n        plt.figure(figsize=(n + 1, 5))\\n\\n    plt.xticks(rotation=90, fontsize=15)\\n    ax = sns.countplot(\\n        data=data,\\n        x=feature,\\n        palette=\\\"Paired\\\",\\n        order=data[feature].value_counts().index[:n].sort_values(),\\n    )\\n\\n    for p in ax.patches:\\n        if perc == True:\\n            label = \\\"{:.1f}%\\\".format(\\n                100 * p.get_height() / total\\n            )  # percentage of each class of the category\\n        else:\\n            label = p.get_height()  # count of each level of the category\\n\\n        x = p.get_x() + p.get_width() / 2  # width of the plot\\n        y = p.get_height()  # height of the plot\\n\\n        ax.annotate(\\n            label,\\n            (x, y),\\n            ha=\\\"center\\\",\\n            va=\\\"center\\\",\\n            size=12,\\n            xytext=(0, 5),\\n            textcoords=\\\"offset points\\\",\\n        )  # annotate the percentage\\n\\n    plt.show()  # show the plot\";\n",
       "                var nbb_formatted_code = \"# function to create labeled barplots\\n\\n\\ndef labeled_barplot(data, feature, perc=False, n=None):\\n    \\\"\\\"\\\"\\n    Barplot with percentage at the top\\n\\n    data: dataframe\\n    feature: dataframe column\\n    perc: whether to display percentages instead of count (default is False)\\n    n: displays the top n category levels (default is None, i.e., display all levels)\\n    \\\"\\\"\\\"\\n\\n    total = len(data[feature])  # length of the column\\n    count = data[feature].nunique()\\n    if n is None:\\n        plt.figure(figsize=(count + 1, 5))\\n    else:\\n        plt.figure(figsize=(n + 1, 5))\\n\\n    plt.xticks(rotation=90, fontsize=15)\\n    ax = sns.countplot(\\n        data=data,\\n        x=feature,\\n        palette=\\\"Paired\\\",\\n        order=data[feature].value_counts().index[:n].sort_values(),\\n    )\\n\\n    for p in ax.patches:\\n        if perc == True:\\n            label = \\\"{:.1f}%\\\".format(\\n                100 * p.get_height() / total\\n            )  # percentage of each class of the category\\n        else:\\n            label = p.get_height()  # count of each level of the category\\n\\n        x = p.get_x() + p.get_width() / 2  # width of the plot\\n        y = p.get_height()  # height of the plot\\n\\n        ax.annotate(\\n            label,\\n            (x, y),\\n            ha=\\\"center\\\",\\n            va=\\\"center\\\",\\n            size=12,\\n            xytext=(0, 5),\\n            textcoords=\\\"offset points\\\",\\n        )  # annotate the percentage\\n\\n    plt.show()  # show the plot\";\n",
       "                var nbb_cells = Jupyter.notebook.get_cells();\n",
       "                for (var i = 0; i < nbb_cells.length; ++i) {\n",
       "                    if (nbb_cells[i].input_prompt_number == nbb_cell_id) {\n",
       "                        if (nbb_cells[i].get_text() == nbb_unformatted_code) {\n",
       "                             nbb_cells[i].set_text(nbb_formatted_code);\n",
       "                        }\n",
       "                        break;\n",
       "                    }\n",
       "                }\n",
       "            }, 500);\n",
       "            "
      ],
      "text/plain": [
       "<IPython.core.display.Javascript object>"
      ]
     },
     "metadata": {},
     "output_type": "display_data"
    }
   ],
   "source": [
    "# function to create labeled barplots\n",
    "\n",
    "\n",
    "def labeled_barplot(data, feature, perc=False, n=None):\n",
    "    \"\"\"\n",
    "    Barplot with percentage at the top\n",
    "\n",
    "    data: dataframe\n",
    "    feature: dataframe column\n",
    "    perc: whether to display percentages instead of count (default is False)\n",
    "    n: displays the top n category levels (default is None, i.e., display all levels)\n",
    "    \"\"\"\n",
    "\n",
    "    total = len(data[feature])  # length of the column\n",
    "    count = data[feature].nunique()\n",
    "    if n is None:\n",
    "        plt.figure(figsize=(count + 1, 5))\n",
    "    else:\n",
    "        plt.figure(figsize=(n + 1, 5))\n",
    "\n",
    "    plt.xticks(rotation=90, fontsize=15)\n",
    "    ax = sns.countplot(\n",
    "        data=data,\n",
    "        x=feature,\n",
    "        palette=\"Paired\",\n",
    "        order=data[feature].value_counts().index[:n].sort_values(),\n",
    "    )\n",
    "\n",
    "    for p in ax.patches:\n",
    "        if perc == True:\n",
    "            label = \"{:.1f}%\".format(\n",
    "                100 * p.get_height() / total\n",
    "            )  # percentage of each class of the category\n",
    "        else:\n",
    "            label = p.get_height()  # count of each level of the category\n",
    "\n",
    "        x = p.get_x() + p.get_width() / 2  # width of the plot\n",
    "        y = p.get_height()  # height of the plot\n",
    "\n",
    "        ax.annotate(\n",
    "            label,\n",
    "            (x, y),\n",
    "            ha=\"center\",\n",
    "            va=\"center\",\n",
    "            size=12,\n",
    "            xytext=(0, 5),\n",
    "            textcoords=\"offset points\",\n",
    "        )  # annotate the percentage\n",
    "\n",
    "    plt.show()  # show the plot"
   ]
  },
  {
   "cell_type": "markdown",
   "id": "3db53c8f",
   "metadata": {},
   "source": [
    "### Continent"
   ]
  },
  {
   "cell_type": "code",
   "execution_count": 28,
   "id": "40a7d1d5",
   "metadata": {},
   "outputs": [
    {
     "data": {
      "image/png": "[encoded data removed]",
      "text/plain": [
       "<Figure size 504x360 with 1 Axes>"
      ]
     },
     "metadata": {
      "needs_background": "light"
     },
     "output_type": "display_data"
    },
    {
     "data": {
      "application/javascript": [
       "\n",
       "            setTimeout(function() {\n",
       "                var nbb_cell_id = 28;\n",
       "                var nbb_unformatted_code = \"labeled_barplot(data, \\\"continent\\\", perc=True)  # labeled barplot for continent\";\n",
       "                var nbb_formatted_code = \"labeled_barplot(data, \\\"continent\\\", perc=True)  # labeled barplot for continent\";\n",
       "                var nbb_cells = Jupyter.notebook.get_cells();\n",
       "                for (var i = 0; i < nbb_cells.length; ++i) {\n",
       "                    if (nbb_cells[i].input_prompt_number == nbb_cell_id) {\n",
       "                        if (nbb_cells[i].get_text() == nbb_unformatted_code) {\n",
       "                             nbb_cells[i].set_text(nbb_formatted_code);\n",
       "                        }\n",
       "                        break;\n",
       "                    }\n",
       "                }\n",
       "            }, 500);\n",
       "            "
      ],
      "text/plain": [
       "<IPython.core.display.Javascript object>"
      ]
     },
     "metadata": {},
     "output_type": "display_data"
    }
   ],
   "source": [
    "labeled_barplot(data, \"continent\", perc=True)  # labeled barplot for continent"
   ]
  },
  {
   "cell_type": "markdown",
   "id": "336ab7e2",
   "metadata": {},
   "source": [
    "### Education of employee"
   ]
  },
  {
   "cell_type": "code",
   "execution_count": 29,
   "id": "6254eff4",
   "metadata": {},
   "outputs": [
    {
     "data": {
      "image/png": "[encoded data removed]",
      "text/plain": [
       "<Figure size 360x360 with 1 Axes>"
      ]
     },
     "metadata": {
      "needs_background": "light"
     },
     "output_type": "display_data"
    },
    {
     "data": {
      "application/javascript": [
       "\n",
       "            setTimeout(function() {\n",
       "                var nbb_cell_id = 29;\n",
       "                var nbb_unformatted_code = \"labeled_barplot(\\n    data, \\\"education_of_employee\\\", perc=True\\n)  # labeled barplot for education of employee\";\n",
       "                var nbb_formatted_code = \"labeled_barplot(\\n    data, \\\"education_of_employee\\\", perc=True\\n)  # labeled barplot for education of employee\";\n",
       "                var nbb_cells = Jupyter.notebook.get_cells();\n",
       "                for (var i = 0; i < nbb_cells.length; ++i) {\n",
       "                    if (nbb_cells[i].input_prompt_number == nbb_cell_id) {\n",
       "                        if (nbb_cells[i].get_text() == nbb_unformatted_code) {\n",
       "                             nbb_cells[i].set_text(nbb_formatted_code);\n",
       "                        }\n",
       "                        break;\n",
       "                    }\n",
       "                }\n",
       "            }, 500);\n",
       "            "
      ],
      "text/plain": [
       "<IPython.core.display.Javascript object>"
      ]
     },
     "metadata": {},
     "output_type": "display_data"
    }
   ],
   "source": [
    "labeled_barplot(\n",
    "    data, \"education_of_employee\", perc=True\n",
    ")  # labeled barplot for education of employee"
   ]
  },
  {
   "cell_type": "markdown",
   "id": "9562bfff",
   "metadata": {},
   "source": [
    "#### Observations:\n",
    "- Most applicants have a college education. Meaning that they are educated for the most part.\n",
    "- Bachelor's and Master's degrees are very close to one another with 40% and 38% respectively."
   ]
  },
  {
   "cell_type": "markdown",
   "id": "a6bd0dfd",
   "metadata": {},
   "source": [
    "### Has job experience"
   ]
  },
  {
   "cell_type": "code",
   "execution_count": 30,
   "id": "8073cb6a",
   "metadata": {},
   "outputs": [
    {
     "data": {
      "image/png": "[encoded data removed]",
      "text/plain": [
       "<Figure size 216x360 with 1 Axes>"
      ]
     },
     "metadata": {
      "needs_background": "light"
     },
     "output_type": "display_data"
    },
    {
     "data": {
      "application/javascript": [
       "\n",
       "            setTimeout(function() {\n",
       "                var nbb_cell_id = 30;\n",
       "                var nbb_unformatted_code = \"labeled_barplot(\\n    data, \\\"has_job_experience\\\", perc=True\\n)  # labeled barplot for has job experience\";\n",
       "                var nbb_formatted_code = \"labeled_barplot(\\n    data, \\\"has_job_experience\\\", perc=True\\n)  # labeled barplot for has job experience\";\n",
       "                var nbb_cells = Jupyter.notebook.get_cells();\n",
       "                for (var i = 0; i < nbb_cells.length; ++i) {\n",
       "                    if (nbb_cells[i].input_prompt_number == nbb_cell_id) {\n",
       "                        if (nbb_cells[i].get_text() == nbb_unformatted_code) {\n",
       "                             nbb_cells[i].set_text(nbb_formatted_code);\n",
       "                        }\n",
       "                        break;\n",
       "                    }\n",
       "                }\n",
       "            }, 500);\n",
       "            "
      ],
      "text/plain": [
       "<IPython.core.display.Javascript object>"
      ]
     },
     "metadata": {},
     "output_type": "display_data"
    }
   ],
   "source": [
    "labeled_barplot(\n",
    "    data, \"has_job_experience\", perc=True\n",
    ")  # labeled barplot for has job experience"
   ]
  },
  {
   "cell_type": "markdown",
   "id": "47c0b3e3",
   "metadata": {},
   "source": [
    "#### Observations:\n",
    "- Most applicants have a job experience. 58% has job experience, while 42% does not."
   ]
  },
  {
   "cell_type": "markdown",
   "id": "e8fe9115",
   "metadata": {},
   "source": [
    "### Requires job training"
   ]
  },
  {
   "cell_type": "code",
   "execution_count": 31,
   "id": "d90594d3",
   "metadata": {},
   "outputs": [
    {
     "data": {
      "image/png": "[encoded data removed]",
      "text/plain": [
       "<Figure size 216x360 with 1 Axes>"
      ]
     },
     "metadata": {
      "needs_background": "light"
     },
     "output_type": "display_data"
    },
    {
     "data": {
      "application/javascript": [
       "\n",
       "            setTimeout(function() {\n",
       "                var nbb_cell_id = 31;\n",
       "                var nbb_unformatted_code = \"labeled_barplot(\\n    data, \\\"requires_job_training\\\", perc=True\\n)  # labeled barplot for requres job training\";\n",
       "                var nbb_formatted_code = \"labeled_barplot(\\n    data, \\\"requires_job_training\\\", perc=True\\n)  # labeled barplot for requres job training\";\n",
       "                var nbb_cells = Jupyter.notebook.get_cells();\n",
       "                for (var i = 0; i < nbb_cells.length; ++i) {\n",
       "                    if (nbb_cells[i].input_prompt_number == nbb_cell_id) {\n",
       "                        if (nbb_cells[i].get_text() == nbb_unformatted_code) {\n",
       "                             nbb_cells[i].set_text(nbb_formatted_code);\n",
       "                        }\n",
       "                        break;\n",
       "                    }\n",
       "                }\n",
       "            }, 500);\n",
       "            "
      ],
      "text/plain": [
       "<IPython.core.display.Javascript object>"
      ]
     },
     "metadata": {},
     "output_type": "display_data"
    }
   ],
   "source": [
    "labeled_barplot(\n",
    "    data, \"requires_job_training\", perc=True\n",
    ")  # labeled barplot for requres job training"
   ]
  },
  {
   "cell_type": "markdown",
   "id": "74fec5a8",
   "metadata": {},
   "source": [
    "#### Observations:\n",
    "- Most applicants do not require job training. 88% do not require job training."
   ]
  },
  {
   "cell_type": "markdown",
   "id": "338bee5b",
   "metadata": {},
   "source": [
    "### Region of employment"
   ]
  },
  {
   "cell_type": "code",
   "execution_count": 32,
   "id": "68904b2a",
   "metadata": {},
   "outputs": [
    {
     "data": {
      "image/png": "[encoded data removed]",
      "text/plain": [
       "<Figure size 432x360 with 1 Axes>"
      ]
     },
     "metadata": {
      "needs_background": "light"
     },
     "output_type": "display_data"
    },
    {
     "data": {
      "application/javascript": [
       "\n",
       "            setTimeout(function() {\n",
       "                var nbb_cell_id = 32;\n",
       "                var nbb_unformatted_code = \"labeled_barplot(\\n    data, \\\"region_of_employment\\\", perc=True\\n)  # labeled barplot for region of employment\";\n",
       "                var nbb_formatted_code = \"labeled_barplot(\\n    data, \\\"region_of_employment\\\", perc=True\\n)  # labeled barplot for region of employment\";\n",
       "                var nbb_cells = Jupyter.notebook.get_cells();\n",
       "                for (var i = 0; i < nbb_cells.length; ++i) {\n",
       "                    if (nbb_cells[i].input_prompt_number == nbb_cell_id) {\n",
       "                        if (nbb_cells[i].get_text() == nbb_unformatted_code) {\n",
       "                             nbb_cells[i].set_text(nbb_formatted_code);\n",
       "                        }\n",
       "                        break;\n",
       "                    }\n",
       "                }\n",
       "            }, 500);\n",
       "            "
      ],
      "text/plain": [
       "<IPython.core.display.Javascript object>"
      ]
     },
     "metadata": {},
     "output_type": "display_data"
    }
   ],
   "source": [
    "labeled_barplot(\n",
    "    data, \"region_of_employment\", perc=True\n",
    ")  # labeled barplot for region of employment"
   ]
  },
  {
   "cell_type": "markdown",
   "id": "07da0707",
   "metadata": {},
   "source": [
    "#### Observations:\n",
    "- Most applicants region of living is close to the coast lines. This may be due to most major cities being on the coast lines.\n",
    "- Northeast is the most with 28%.\n",
    "- South has 27.5%.\n",
    "- West has 26%."
   ]
  },
  {
   "cell_type": "markdown",
   "id": "da39f2df",
   "metadata": {},
   "source": [
    "### Unit of wage"
   ]
  },
  {
   "cell_type": "code",
   "execution_count": 33,
   "id": "ccc74760",
   "metadata": {},
   "outputs": [
    {
     "data": {
      "image/png": "[encoded data removed]",
      "text/plain": [
       "<Figure size 360x360 with 1 Axes>"
      ]
     },
     "metadata": {
      "needs_background": "light"
     },
     "output_type": "display_data"
    },
    {
     "data": {
      "application/javascript": [
       "\n",
       "            setTimeout(function() {\n",
       "                var nbb_cell_id = 33;\n",
       "                var nbb_unformatted_code = \"labeled_barplot(data, \\\"unit_of_wage\\\", perc=True)  # labeled barplot for unit of wage\";\n",
       "                var nbb_formatted_code = \"labeled_barplot(data, \\\"unit_of_wage\\\", perc=True)  # labeled barplot for unit of wage\";\n",
       "                var nbb_cells = Jupyter.notebook.get_cells();\n",
       "                for (var i = 0; i < nbb_cells.length; ++i) {\n",
       "                    if (nbb_cells[i].input_prompt_number == nbb_cell_id) {\n",
       "                        if (nbb_cells[i].get_text() == nbb_unformatted_code) {\n",
       "                             nbb_cells[i].set_text(nbb_formatted_code);\n",
       "                        }\n",
       "                        break;\n",
       "                    }\n",
       "                }\n",
       "            }, 500);\n",
       "            "
      ],
      "text/plain": [
       "<IPython.core.display.Javascript object>"
      ]
     },
     "metadata": {},
     "output_type": "display_data"
    }
   ],
   "source": [
    "labeled_barplot(data, \"unit_of_wage\", perc=True)  # labeled barplot for unit of wage"
   ]
  },
  {
   "cell_type": "markdown",
   "id": "5a86fe26",
   "metadata": {},
   "source": [
    "#### Observations:\n",
    "- Most applicants recieve they're total income on a yearly basis. Thus, they are mostly salary applicants, and not working on a contractual basis.\n",
    "- Thus, most companies are invested long term with their employees before the employee begins the application process."
   ]
  },
  {
   "cell_type": "markdown",
   "id": "4ed8ef08",
   "metadata": {},
   "source": [
    "### Full time position"
   ]
  },
  {
   "cell_type": "code",
   "execution_count": 34,
   "id": "8d45908b",
   "metadata": {},
   "outputs": [
    {
     "data": {
      "image/png": "[encoded data removed]",
      "text/plain": [
       "<Figure size 216x360 with 1 Axes>"
      ]
     },
     "metadata": {
      "needs_background": "light"
     },
     "output_type": "display_data"
    },
    {
     "data": {
      "application/javascript": [
       "\n",
       "            setTimeout(function() {\n",
       "                var nbb_cell_id = 34;\n",
       "                var nbb_unformatted_code = \"labeled_barplot(\\n    data, \\\"full_time_position\\\", perc=True\\n)  # labeled barplot for full time position\";\n",
       "                var nbb_formatted_code = \"labeled_barplot(\\n    data, \\\"full_time_position\\\", perc=True\\n)  # labeled barplot for full time position\";\n",
       "                var nbb_cells = Jupyter.notebook.get_cells();\n",
       "                for (var i = 0; i < nbb_cells.length; ++i) {\n",
       "                    if (nbb_cells[i].input_prompt_number == nbb_cell_id) {\n",
       "                        if (nbb_cells[i].get_text() == nbb_unformatted_code) {\n",
       "                             nbb_cells[i].set_text(nbb_formatted_code);\n",
       "                        }\n",
       "                        break;\n",
       "                    }\n",
       "                }\n",
       "            }, 500);\n",
       "            "
      ],
      "text/plain": [
       "<IPython.core.display.Javascript object>"
      ]
     },
     "metadata": {},
     "output_type": "display_data"
    }
   ],
   "source": [
    "labeled_barplot(\n",
    "    data, \"full_time_position\", perc=True\n",
    ")  # labeled barplot for full time position"
   ]
  },
  {
   "cell_type": "markdown",
   "id": "5629a6a5",
   "metadata": {},
   "source": [
    "#### Observations:\n",
    "- Most applicants have full time positions. Almost 90% of applicants have a full time position.\n",
    "- Reiterating that companies have long term investments for most apllicants."
   ]
  },
  {
   "cell_type": "markdown",
   "id": "1bec2bc6",
   "metadata": {},
   "source": [
    "### Case status"
   ]
  },
  {
   "cell_type": "code",
   "execution_count": 35,
   "id": "3a86c6e6",
   "metadata": {},
   "outputs": [
    {
     "data": {
      "image/png": "[encoded data removed]",
      "text/plain": [
       "<Figure size 216x360 with 1 Axes>"
      ]
     },
     "metadata": {
      "needs_background": "light"
     },
     "output_type": "display_data"
    },
    {
     "data": {
      "application/javascript": [
       "\n",
       "            setTimeout(function() {\n",
       "                var nbb_cell_id = 35;\n",
       "                var nbb_unformatted_code = \"labeled_barplot(data, \\\"case_status\\\", perc=True)  # labeled barplot for case status\";\n",
       "                var nbb_formatted_code = \"labeled_barplot(data, \\\"case_status\\\", perc=True)  # labeled barplot for case status\";\n",
       "                var nbb_cells = Jupyter.notebook.get_cells();\n",
       "                for (var i = 0; i < nbb_cells.length; ++i) {\n",
       "                    if (nbb_cells[i].input_prompt_number == nbb_cell_id) {\n",
       "                        if (nbb_cells[i].get_text() == nbb_unformatted_code) {\n",
       "                             nbb_cells[i].set_text(nbb_formatted_code);\n",
       "                        }\n",
       "                        break;\n",
       "                    }\n",
       "                }\n",
       "            }, 500);\n",
       "            "
      ],
      "text/plain": [
       "<IPython.core.display.Javascript object>"
      ]
     },
     "metadata": {},
     "output_type": "display_data"
    }
   ],
   "source": [
    "labeled_barplot(data, \"case_status\", perc=True)  # labeled barplot for case status"
   ]
  },
  {
   "cell_type": "markdown",
   "id": "c46e660a",
   "metadata": {},
   "source": [
    "#### Observations:\n",
    "- Only 2 out of 3 applicants are certified for a Visa.\n",
    "- Thus, having a long-term commitment from a company or high education does not guarantee a Visa."
   ]
  },
  {
   "cell_type": "markdown",
   "id": "059659e8",
   "metadata": {},
   "source": [
    "### Bivariate Analysis"
   ]
  },
  {
   "cell_type": "code",
   "execution_count": 36,
   "id": "55e3f51a",
   "metadata": {},
   "outputs": [
    {
     "data": {
      "image/png": "[encoded data removed]",
      "text/plain": [
       "<Figure size 864x504 with 2 Axes>"
      ]
     },
     "metadata": {
      "needs_background": "light"
     },
     "output_type": "display_data"
    },
    {
     "data": {
      "application/javascript": [
       "\n",
       "            setTimeout(function() {\n",
       "                var nbb_cell_id = 36;\n",
       "                var nbb_unformatted_code = \"# creates list of numerical column names that are continuos.\\ncols_list = data.select_dtypes(include=np.number).columns.tolist()\\n\\nplt.figure(figsize=(12, 7))\\nsns.heatmap(\\n    data[cols_list].corr(), annot=True, vmin=-1, vmax=1, fmt=\\\".2f\\\", cmap=\\\"Spectral\\\"\\n)  # heatmap showing correlation between the numerical variables\\nplt.show()\";\n",
       "                var nbb_formatted_code = \"# creates list of numerical column names that are continuos.\\ncols_list = data.select_dtypes(include=np.number).columns.tolist()\\n\\nplt.figure(figsize=(12, 7))\\nsns.heatmap(\\n    data[cols_list].corr(), annot=True, vmin=-1, vmax=1, fmt=\\\".2f\\\", cmap=\\\"Spectral\\\"\\n)  # heatmap showing correlation between the numerical variables\\nplt.show()\";\n",
       "                var nbb_cells = Jupyter.notebook.get_cells();\n",
       "                for (var i = 0; i < nbb_cells.length; ++i) {\n",
       "                    if (nbb_cells[i].input_prompt_number == nbb_cell_id) {\n",
       "                        if (nbb_cells[i].get_text() == nbb_unformatted_code) {\n",
       "                             nbb_cells[i].set_text(nbb_formatted_code);\n",
       "                        }\n",
       "                        break;\n",
       "                    }\n",
       "                }\n",
       "            }, 500);\n",
       "            "
      ],
      "text/plain": [
       "<IPython.core.display.Javascript object>"
      ]
     },
     "metadata": {},
     "output_type": "display_data"
    }
   ],
   "source": [
    "# creates list of numerical column names that are continuos.\n",
    "cols_list = data.select_dtypes(include=np.number).columns.tolist()\n",
    "\n",
    "plt.figure(figsize=(12, 7))\n",
    "sns.heatmap(\n",
    "    data[cols_list].corr(), annot=True, vmin=-1, vmax=1, fmt=\".2f\", cmap=\"Spectral\"\n",
    ")  # heatmap showing correlation between the numerical variables\n",
    "plt.show()"
   ]
  },
  {
   "cell_type": "markdown",
   "id": "c7357d58",
   "metadata": {},
   "source": [
    "#### Observations:\n",
    "- There is no correlation between columns."
   ]
  },
  {
   "cell_type": "code",
   "execution_count": 37,
   "id": "1ed0169e",
   "metadata": {},
   "outputs": [
    {
     "data": {
      "application/javascript": [
       "\n",
       "            setTimeout(function() {\n",
       "                var nbb_cell_id = 37;\n",
       "                var nbb_unformatted_code = \"def stacked_barplot(data, predictor, target):\\n    \\\"\\\"\\\"\\n    Print the category counts and plot a stacked bar chart\\n\\n    data: dataframe\\n    predictor: independent variable\\n    target: target variable\\n    \\\"\\\"\\\"\\n    count = data[predictor].nunique()\\n    sorter = data[target].value_counts().index[-1]\\n    tab1 = pd.crosstab(data[predictor], data[target], margins=True).sort_values(\\n        by=sorter, ascending=False\\n    )\\n    print(tab1)\\n    print(\\\"-\\\" * 120)\\n    tab = pd.crosstab(data[predictor], data[target], normalize=\\\"index\\\").sort_values(\\n        by=sorter, ascending=False\\n    )\\n    tab.plot(kind=\\\"bar\\\", stacked=True, figsize=(count + 5, 5))\\n    plt.legend(\\n        loc=\\\"lower left\\\", frameon=False,\\n    )\\n    plt.legend(loc=\\\"upper left\\\", bbox_to_anchor=(1, 1))\\n    plt.show()\";\n",
       "                var nbb_formatted_code = \"def stacked_barplot(data, predictor, target):\\n    \\\"\\\"\\\"\\n    Print the category counts and plot a stacked bar chart\\n\\n    data: dataframe\\n    predictor: independent variable\\n    target: target variable\\n    \\\"\\\"\\\"\\n    count = data[predictor].nunique()\\n    sorter = data[target].value_counts().index[-1]\\n    tab1 = pd.crosstab(data[predictor], data[target], margins=True).sort_values(\\n        by=sorter, ascending=False\\n    )\\n    print(tab1)\\n    print(\\\"-\\\" * 120)\\n    tab = pd.crosstab(data[predictor], data[target], normalize=\\\"index\\\").sort_values(\\n        by=sorter, ascending=False\\n    )\\n    tab.plot(kind=\\\"bar\\\", stacked=True, figsize=(count + 5, 5))\\n    plt.legend(\\n        loc=\\\"lower left\\\", frameon=False,\\n    )\\n    plt.legend(loc=\\\"upper left\\\", bbox_to_anchor=(1, 1))\\n    plt.show()\";\n",
       "                var nbb_cells = Jupyter.notebook.get_cells();\n",
       "                for (var i = 0; i < nbb_cells.length; ++i) {\n",
       "                    if (nbb_cells[i].input_prompt_number == nbb_cell_id) {\n",
       "                        if (nbb_cells[i].get_text() == nbb_unformatted_code) {\n",
       "                             nbb_cells[i].set_text(nbb_formatted_code);\n",
       "                        }\n",
       "                        break;\n",
       "                    }\n",
       "                }\n",
       "            }, 500);\n",
       "            "
      ],
      "text/plain": [
       "<IPython.core.display.Javascript object>"
      ]
     },
     "metadata": {},
     "output_type": "display_data"
    }
   ],
   "source": [
    "def stacked_barplot(data, predictor, target):\n",
    "    \"\"\"\n",
    "    Print the category counts and plot a stacked bar chart\n",
    "\n",
    "    data: dataframe\n",
    "    predictor: independent variable\n",
    "    target: target variable\n",
    "    \"\"\"\n",
    "    count = data[predictor].nunique()\n",
    "    sorter = data[target].value_counts().index[-1]\n",
    "    tab1 = pd.crosstab(data[predictor], data[target], margins=True).sort_values(\n",
    "        by=sorter, ascending=False\n",
    "    )\n",
    "    print(tab1)\n",
    "    print(\"-\" * 120)\n",
    "    tab = pd.crosstab(data[predictor], data[target], normalize=\"index\").sort_values(\n",
    "        by=sorter, ascending=False\n",
    "    )\n",
    "    tab.plot(kind=\"bar\", stacked=True, figsize=(count + 5, 5))\n",
    "    plt.legend(\n",
    "        loc=\"lower left\", frameon=False,\n",
    "    )\n",
    "    plt.legend(loc=\"upper left\", bbox_to_anchor=(1, 1))\n",
    "    plt.show()"
   ]
  },
  {
   "cell_type": "markdown",
   "id": "e4736d1b",
   "metadata": {},
   "source": [
    "### Continent vs Case Status"
   ]
  },
  {
   "cell_type": "code",
   "execution_count": 38,
   "id": "a86d3d1b",
   "metadata": {},
   "outputs": [
    {
     "name": "stdout",
     "output_type": "stream",
     "text": [
      "case_status    Certified  Denied    All\n",
      "continent                              \n",
      "All                17018    8462  25480\n",
      "Asia               11012    5849  16861\n",
      "North America       2037    1255   3292\n",
      "Europe              2957     775   3732\n",
      "South America        493     359    852\n",
      "Africa               397     154    551\n",
      "Oceania              122      70    192\n",
      "------------------------------------------------------------------------------------------------------------------------\n"
     ]
    },
    {
     "data": {
      "image/png": "[encoded data removed]",
      "text/plain": [
       "<Figure size 792x360 with 1 Axes>"
      ]
     },
     "metadata": {
      "needs_background": "light"
     },
     "output_type": "display_data"
    },
    {
     "data": {
      "application/javascript": [
       "\n",
       "            setTimeout(function() {\n",
       "                var nbb_cell_id = 38;\n",
       "                var nbb_unformatted_code = \"stacked_barplot(\\n    data, \\\"continent\\\", \\\"case_status\\\"\\n)  # stacked barplot for continent and case status\";\n",
       "                var nbb_formatted_code = \"stacked_barplot(\\n    data, \\\"continent\\\", \\\"case_status\\\"\\n)  # stacked barplot for continent and case status\";\n",
       "                var nbb_cells = Jupyter.notebook.get_cells();\n",
       "                for (var i = 0; i < nbb_cells.length; ++i) {\n",
       "                    if (nbb_cells[i].input_prompt_number == nbb_cell_id) {\n",
       "                        if (nbb_cells[i].get_text() == nbb_unformatted_code) {\n",
       "                             nbb_cells[i].set_text(nbb_formatted_code);\n",
       "                        }\n",
       "                        break;\n",
       "                    }\n",
       "                }\n",
       "            }, 500);\n",
       "            "
      ],
      "text/plain": [
       "<IPython.core.display.Javascript object>"
      ]
     },
     "metadata": {},
     "output_type": "display_data"
    }
   ],
   "source": [
    "stacked_barplot(\n",
    "    data, \"continent\", \"case_status\"\n",
    ")  # stacked barplot for continent and case status"
   ]
  },
  {
   "cell_type": "markdown",
   "id": "0bd8d899",
   "metadata": {},
   "source": [
    "#### Observations:\n",
    "- The highest approval rate comes from europe at about a 80% approval rate, while the least is from south america at about a 60% approval rate.\n",
    "- 66% of all applicants come from Asia, Most certified and denied case status's come from Asia. The number of applicants is about 4.5 times the amount of the number 2 country."
   ]
  },
  {
   "cell_type": "markdown",
   "id": "45d97bf6",
   "metadata": {},
   "source": [
    "### Education of Employee vs Case Status"
   ]
  },
  {
   "cell_type": "code",
   "execution_count": 39,
   "id": "9c0b7cf9",
   "metadata": {},
   "outputs": [
    {
     "name": "stdout",
     "output_type": "stream",
     "text": [
      "case_status            Certified  Denied    All\n",
      "education_of_employee                          \n",
      "All                        17018    8462  25480\n",
      "Bachelor's                  6367    3867  10234\n",
      "High School                 1164    2256   3420\n",
      "Master's                    7575    2059   9634\n",
      "Doctorate                   1912     280   2192\n",
      "------------------------------------------------------------------------------------------------------------------------\n"
     ]
    },
    {
     "data": {
      "image/png": "[encoded data removed]",
      "text/plain": [
       "<Figure size 648x360 with 1 Axes>"
      ]
     },
     "metadata": {
      "needs_background": "light"
     },
     "output_type": "display_data"
    },
    {
     "data": {
      "application/javascript": [
       "\n",
       "            setTimeout(function() {\n",
       "                var nbb_cell_id = 39;\n",
       "                var nbb_unformatted_code = \"stacked_barplot(\\n    data, \\\"education_of_employee\\\", \\\"case_status\\\"\\n)  # stacked barplot for continent and case status\";\n",
       "                var nbb_formatted_code = \"stacked_barplot(\\n    data, \\\"education_of_employee\\\", \\\"case_status\\\"\\n)  # stacked barplot for continent and case status\";\n",
       "                var nbb_cells = Jupyter.notebook.get_cells();\n",
       "                for (var i = 0; i < nbb_cells.length; ++i) {\n",
       "                    if (nbb_cells[i].input_prompt_number == nbb_cell_id) {\n",
       "                        if (nbb_cells[i].get_text() == nbb_unformatted_code) {\n",
       "                             nbb_cells[i].set_text(nbb_formatted_code);\n",
       "                        }\n",
       "                        break;\n",
       "                    }\n",
       "                }\n",
       "            }, 500);\n",
       "            "
      ],
      "text/plain": [
       "<IPython.core.display.Javascript object>"
      ]
     },
     "metadata": {},
     "output_type": "display_data"
    }
   ],
   "source": [
    "stacked_barplot(\n",
    "    data, \"education_of_employee\", \"case_status\"\n",
    ")  # stacked barplot for continent and case status"
   ]
  },
  {
   "cell_type": "markdown",
   "id": "c15aa9ff",
   "metadata": {},
   "source": [
    "#### Observations:\n",
    "- The higher the education level the greater the chance of approval.\n",
    "- Doctors are close to 90%, Master's graduates are close to 80%. Bachelor's are close to 60%, and the approval rate really drops off for high school graduates at about 30%.\n",
    "- Most applicants have Bachelor's and Master's degrees."
   ]
  },
  {
   "cell_type": "markdown",
   "id": "6c85ce56",
   "metadata": {},
   "source": [
    "### Job Experience vs Case Status"
   ]
  },
  {
   "cell_type": "code",
   "execution_count": 40,
   "id": "8577df37",
   "metadata": {},
   "outputs": [
    {
     "name": "stdout",
     "output_type": "stream",
     "text": [
      "case_status         Certified  Denied    All\n",
      "has_job_experience                          \n",
      "All                     17018    8462  25480\n",
      "N                        5994    4684  10678\n",
      "Y                       11024    3778  14802\n",
      "------------------------------------------------------------------------------------------------------------------------\n"
     ]
    },
    {
     "data": {
      "image/png": "[encoded data removed]",
      "text/plain": [
       "<Figure size 504x360 with 1 Axes>"
      ]
     },
     "metadata": {
      "needs_background": "light"
     },
     "output_type": "display_data"
    },
    {
     "data": {
      "application/javascript": [
       "\n",
       "            setTimeout(function() {\n",
       "                var nbb_cell_id = 40;\n",
       "                var nbb_unformatted_code = \"stacked_barplot(\\n    data, \\\"has_job_experience\\\", \\\"case_status\\\"\\n)  # stacked barplot for continent and case status\";\n",
       "                var nbb_formatted_code = \"stacked_barplot(\\n    data, \\\"has_job_experience\\\", \\\"case_status\\\"\\n)  # stacked barplot for continent and case status\";\n",
       "                var nbb_cells = Jupyter.notebook.get_cells();\n",
       "                for (var i = 0; i < nbb_cells.length; ++i) {\n",
       "                    if (nbb_cells[i].input_prompt_number == nbb_cell_id) {\n",
       "                        if (nbb_cells[i].get_text() == nbb_unformatted_code) {\n",
       "                             nbb_cells[i].set_text(nbb_formatted_code);\n",
       "                        }\n",
       "                        break;\n",
       "                    }\n",
       "                }\n",
       "            }, 500);\n",
       "            "
      ],
      "text/plain": [
       "<IPython.core.display.Javascript object>"
      ]
     },
     "metadata": {},
     "output_type": "display_data"
    }
   ],
   "source": [
    "stacked_barplot(\n",
    "    data, \"has_job_experience\", \"case_status\"\n",
    ")  # stacked barplot for continent and case status"
   ]
  },
  {
   "cell_type": "markdown",
   "id": "9af36adc",
   "metadata": {},
   "source": [
    "#### Observations:\n",
    "- It seems to be proven that those with job experience have a higher chance to be certified. Those with job experience have almost a 10% greater chance than those with no job experience.\n",
    "- Those with job experience apply the most.\n",
    "- Are applicants with job training requiring more training, or are they being highered for their current job/role?"
   ]
  },
  {
   "cell_type": "markdown",
   "id": "3678c157",
   "metadata": {},
   "source": [
    "### Job Experience vs Requires Job Training"
   ]
  },
  {
   "cell_type": "code",
   "execution_count": 41,
   "id": "d5f3d93c",
   "metadata": {},
   "outputs": [
    {
     "name": "stdout",
     "output_type": "stream",
     "text": [
      "requires_job_training      N     Y    All\n",
      "has_job_experience                       \n",
      "All                    22525  2955  25480\n",
      "N                       8988  1690  10678\n",
      "Y                      13537  1265  14802\n",
      "------------------------------------------------------------------------------------------------------------------------\n"
     ]
    },
    {
     "data": {
      "image/png": "[encoded data removed]",
      "text/plain": [
       "<Figure size 504x360 with 1 Axes>"
      ]
     },
     "metadata": {
      "needs_background": "light"
     },
     "output_type": "display_data"
    },
    {
     "data": {
      "application/javascript": [
       "\n",
       "            setTimeout(function() {\n",
       "                var nbb_cell_id = 41;\n",
       "                var nbb_unformatted_code = \"stacked_barplot(\\n    data, \\\"has_job_experience\\\", \\\"requires_job_training\\\"\\n)  # stacked barplot for continent and case status\";\n",
       "                var nbb_formatted_code = \"stacked_barplot(\\n    data, \\\"has_job_experience\\\", \\\"requires_job_training\\\"\\n)  # stacked barplot for continent and case status\";\n",
       "                var nbb_cells = Jupyter.notebook.get_cells();\n",
       "                for (var i = 0; i < nbb_cells.length; ++i) {\n",
       "                    if (nbb_cells[i].input_prompt_number == nbb_cell_id) {\n",
       "                        if (nbb_cells[i].get_text() == nbb_unformatted_code) {\n",
       "                             nbb_cells[i].set_text(nbb_formatted_code);\n",
       "                        }\n",
       "                        break;\n",
       "                    }\n",
       "                }\n",
       "            }, 500);\n",
       "            "
      ],
      "text/plain": [
       "<IPython.core.display.Javascript object>"
      ]
     },
     "metadata": {},
     "output_type": "display_data"
    }
   ],
   "source": [
    "stacked_barplot(\n",
    "    data, \"has_job_experience\", \"requires_job_training\"\n",
    ")  # stacked barplot for continent and case status"
   ]
  },
  {
   "cell_type": "markdown",
   "id": "dd4ff3d2",
   "metadata": {},
   "source": [
    "#### Observations:\n",
    "- It seems to be proven that those with job experience have do not need training as much as those without job experience.\n",
    "- Most applicants do not need training regardless of having job experience or not."
   ]
  },
  {
   "cell_type": "markdown",
   "id": "e2b9690c",
   "metadata": {},
   "source": [
    "### Requires Job Training vs Case Status"
   ]
  },
  {
   "cell_type": "code",
   "execution_count": 42,
   "id": "f42e427e",
   "metadata": {},
   "outputs": [
    {
     "name": "stdout",
     "output_type": "stream",
     "text": [
      "case_status            Certified  Denied    All\n",
      "requires_job_training                          \n",
      "All                        17018    8462  25480\n",
      "N                          15012    7513  22525\n",
      "Y                           2006     949   2955\n",
      "------------------------------------------------------------------------------------------------------------------------\n"
     ]
    },
    {
     "data": {
      "image/png": "[encoded data removed]",
      "text/plain": [
       "<Figure size 504x360 with 1 Axes>"
      ]
     },
     "metadata": {
      "needs_background": "light"
     },
     "output_type": "display_data"
    },
    {
     "data": {
      "application/javascript": [
       "\n",
       "            setTimeout(function() {\n",
       "                var nbb_cell_id = 42;\n",
       "                var nbb_unformatted_code = \"stacked_barplot(\\n    data, \\\"requires_job_training\\\", \\\"case_status\\\"\\n)  # stacked barplot for continent and case status\";\n",
       "                var nbb_formatted_code = \"stacked_barplot(\\n    data, \\\"requires_job_training\\\", \\\"case_status\\\"\\n)  # stacked barplot for continent and case status\";\n",
       "                var nbb_cells = Jupyter.notebook.get_cells();\n",
       "                for (var i = 0; i < nbb_cells.length; ++i) {\n",
       "                    if (nbb_cells[i].input_prompt_number == nbb_cell_id) {\n",
       "                        if (nbb_cells[i].get_text() == nbb_unformatted_code) {\n",
       "                             nbb_cells[i].set_text(nbb_formatted_code);\n",
       "                        }\n",
       "                        break;\n",
       "                    }\n",
       "                }\n",
       "            }, 500);\n",
       "            "
      ],
      "text/plain": [
       "<IPython.core.display.Javascript object>"
      ]
     },
     "metadata": {},
     "output_type": "display_data"
    }
   ],
   "source": [
    "stacked_barplot(\n",
    "    data, \"requires_job_training\", \"case_status\"\n",
    ")  # stacked barplot for continent and case status"
   ]
  },
  {
   "cell_type": "markdown",
   "id": "84ac9762",
   "metadata": {},
   "source": [
    "#### Observations:\n",
    "- There seems to be no difference in case status with regards to requiring job training or not."
   ]
  },
  {
   "cell_type": "markdown",
   "id": "530e4850",
   "metadata": {},
   "source": [
    "### Region of Employment vs Case Status"
   ]
  },
  {
   "cell_type": "code",
   "execution_count": 43,
   "id": "4006b99f",
   "metadata": {},
   "outputs": [
    {
     "name": "stdout",
     "output_type": "stream",
     "text": [
      "case_status           Certified  Denied    All\n",
      "region_of_employment                          \n",
      "All                       17018    8462  25480\n",
      "Northeast                  4526    2669   7195\n",
      "West                       4100    2486   6586\n",
      "South                      4913    2104   7017\n",
      "Midwest                    3253    1054   4307\n",
      "Island                      226     149    375\n",
      "------------------------------------------------------------------------------------------------------------------------\n"
     ]
    },
    {
     "data": {
      "image/png": "[encoded data removed]",
      "text/plain": [
       "<Figure size 720x360 with 1 Axes>"
      ]
     },
     "metadata": {
      "needs_background": "light"
     },
     "output_type": "display_data"
    },
    {
     "data": {
      "application/javascript": [
       "\n",
       "            setTimeout(function() {\n",
       "                var nbb_cell_id = 43;\n",
       "                var nbb_unformatted_code = \"stacked_barplot(\\n    data, \\\"region_of_employment\\\", \\\"case_status\\\"\\n)  # stacked barplot for continent and case status\";\n",
       "                var nbb_formatted_code = \"stacked_barplot(\\n    data, \\\"region_of_employment\\\", \\\"case_status\\\"\\n)  # stacked barplot for continent and case status\";\n",
       "                var nbb_cells = Jupyter.notebook.get_cells();\n",
       "                for (var i = 0; i < nbb_cells.length; ++i) {\n",
       "                    if (nbb_cells[i].input_prompt_number == nbb_cell_id) {\n",
       "                        if (nbb_cells[i].get_text() == nbb_unformatted_code) {\n",
       "                             nbb_cells[i].set_text(nbb_formatted_code);\n",
       "                        }\n",
       "                        break;\n",
       "                    }\n",
       "                }\n",
       "            }, 500);\n",
       "            "
      ],
      "text/plain": [
       "<IPython.core.display.Javascript object>"
      ]
     },
     "metadata": {},
     "output_type": "display_data"
    }
   ],
   "source": [
    "stacked_barplot(\n",
    "    data, \"region_of_employment\", \"case_status\"\n",
    ")  # stacked barplot for continent and case status"
   ]
  },
  {
   "cell_type": "markdown",
   "id": "40edfaa0",
   "metadata": {},
   "source": [
    "#### Observations:\n",
    "- Midwest has the highest rate of certified applicants, followed closely by South."
   ]
  },
  {
   "cell_type": "markdown",
   "id": "a68bca1f",
   "metadata": {},
   "source": [
    "### Region requirements for education"
   ]
  },
  {
   "cell_type": "code",
   "execution_count": 44,
   "id": "2ccc5ddb",
   "metadata": {},
   "outputs": [
    {
     "name": "stdout",
     "output_type": "stream",
     "text": [
      "education_of_employee  Bachelor's  Doctorate  High School  Master's    All\n",
      "region_of_employment                                                      \n",
      "All                         10234       2192         3420      9634  25480\n",
      "West                         2925        714          785      2162   6586\n",
      "Northeast                    2874        656          905      2760   7195\n",
      "South                        2991        541          934      2551   7017\n",
      "Midwest                      1315        256          736      2000   4307\n",
      "Island                        129         25           60       161    375\n",
      "------------------------------------------------------------------------------------------------------------------------\n"
     ]
    },
    {
     "data": {
      "image/png": "[encoded data removed]",
      "text/plain": [
       "<Figure size 720x360 with 1 Axes>"
      ]
     },
     "metadata": {
      "needs_background": "light"
     },
     "output_type": "display_data"
    },
    {
     "data": {
      "application/javascript": [
       "\n",
       "            setTimeout(function() {\n",
       "                var nbb_cell_id = 44;\n",
       "                var nbb_unformatted_code = \"stacked_barplot(\\n    data, \\\"region_of_employment\\\", \\\"education_of_employee\\\"\\n)  # stacked barplot for continent and case status\";\n",
       "                var nbb_formatted_code = \"stacked_barplot(\\n    data, \\\"region_of_employment\\\", \\\"education_of_employee\\\"\\n)  # stacked barplot for continent and case status\";\n",
       "                var nbb_cells = Jupyter.notebook.get_cells();\n",
       "                for (var i = 0; i < nbb_cells.length; ++i) {\n",
       "                    if (nbb_cells[i].input_prompt_number == nbb_cell_id) {\n",
       "                        if (nbb_cells[i].get_text() == nbb_unformatted_code) {\n",
       "                             nbb_cells[i].set_text(nbb_formatted_code);\n",
       "                        }\n",
       "                        break;\n",
       "                    }\n",
       "                }\n",
       "            }, 500);\n",
       "            "
      ],
      "text/plain": [
       "<IPython.core.display.Javascript object>"
      ]
     },
     "metadata": {},
     "output_type": "display_data"
    }
   ],
   "source": [
    "stacked_barplot(\n",
    "    data, \"region_of_employment\", \"education_of_employee\"\n",
    ")  # stacked barplot for continent and case status"
   ]
  },
  {
   "cell_type": "markdown",
   "id": "ce7e70ef",
   "metadata": {},
   "source": [
    "#### Observations:\n",
    "- Midwest aims for the highest levels of education, followed by Island, South, Northeast, and West.\n",
    "- It seems coastal cities car less about education level, or are in more demand despite education level and do not need to be particular for their chioces."
   ]
  },
  {
   "cell_type": "markdown",
   "id": "e531ffab",
   "metadata": {},
   "source": [
    "### Prevailing Wage by Region"
   ]
  },
  {
   "cell_type": "code",
   "execution_count": 45,
   "id": "89acfdab",
   "metadata": {},
   "outputs": [
    {
     "data": {
      "image/png": "[encoded data removed]",
      "text/plain": [
       "<Figure size 720x360 with 1 Axes>"
      ]
     },
     "metadata": {
      "needs_background": "light"
     },
     "output_type": "display_data"
    },
    {
     "data": {
      "application/javascript": [
       "\n",
       "            setTimeout(function() {\n",
       "                var nbb_cell_id = 45;\n",
       "                var nbb_unformatted_code = \"plt.figure(figsize=(10, 5))\\nsns.boxplot(\\n    data=data, y=\\\"prevailing_wage\\\", x=\\\"region_of_employment\\\"\\n)  # Boxplot for education level of employee and prevailing wage\\nplt.show()\";\n",
       "                var nbb_formatted_code = \"plt.figure(figsize=(10, 5))\\nsns.boxplot(\\n    data=data, y=\\\"prevailing_wage\\\", x=\\\"region_of_employment\\\"\\n)  # Boxplot for education level of employee and prevailing wage\\nplt.show()\";\n",
       "                var nbb_cells = Jupyter.notebook.get_cells();\n",
       "                for (var i = 0; i < nbb_cells.length; ++i) {\n",
       "                    if (nbb_cells[i].input_prompt_number == nbb_cell_id) {\n",
       "                        if (nbb_cells[i].get_text() == nbb_unformatted_code) {\n",
       "                             nbb_cells[i].set_text(nbb_formatted_code);\n",
       "                        }\n",
       "                        break;\n",
       "                    }\n",
       "                }\n",
       "            }, 500);\n",
       "            "
      ],
      "text/plain": [
       "<IPython.core.display.Javascript object>"
      ]
     },
     "metadata": {},
     "output_type": "display_data"
    }
   ],
   "source": [
    "plt.figure(figsize=(10, 5))\n",
    "sns.boxplot(\n",
    "    data=data, y=\"prevailing_wage\", x=\"region_of_employment\"\n",
    ")  # Boxplot for education level of employee and prevailing wage\n",
    "plt.show()"
   ]
  },
  {
   "cell_type": "markdown",
   "id": "0940b4da",
   "metadata": {},
   "source": [
    "#### Observations:\n",
    "- Midwest has highest average of prevailing wage, which correlate with its highest average education level.\n",
    "- The coastal cities have the lowest average prevailing wage."
   ]
  },
  {
   "cell_type": "markdown",
   "id": "1b5ba06e",
   "metadata": {},
   "source": [
    "### Prevailing Wage by Education"
   ]
  },
  {
   "cell_type": "code",
   "execution_count": 46,
   "id": "d54ad70d",
   "metadata": {},
   "outputs": [
    {
     "data": {
      "image/png": "[encoded data removed]",
      "text/plain": [
       "<Figure size 720x360 with 1 Axes>"
      ]
     },
     "metadata": {
      "needs_background": "light"
     },
     "output_type": "display_data"
    },
    {
     "data": {
      "application/javascript": [
       "\n",
       "            setTimeout(function() {\n",
       "                var nbb_cell_id = 46;\n",
       "                var nbb_unformatted_code = \"plt.figure(figsize=(10, 5))\\nsns.boxplot(\\n    data=data, y=\\\"prevailing_wage\\\", x=\\\"education_of_employee\\\"\\n)  # Boxplot for education level of employee and prevailing wage\\nplt.show()\";\n",
       "                var nbb_formatted_code = \"plt.figure(figsize=(10, 5))\\nsns.boxplot(\\n    data=data, y=\\\"prevailing_wage\\\", x=\\\"education_of_employee\\\"\\n)  # Boxplot for education level of employee and prevailing wage\\nplt.show()\";\n",
       "                var nbb_cells = Jupyter.notebook.get_cells();\n",
       "                for (var i = 0; i < nbb_cells.length; ++i) {\n",
       "                    if (nbb_cells[i].input_prompt_number == nbb_cell_id) {\n",
       "                        if (nbb_cells[i].get_text() == nbb_unformatted_code) {\n",
       "                             nbb_cells[i].set_text(nbb_formatted_code);\n",
       "                        }\n",
       "                        break;\n",
       "                    }\n",
       "                }\n",
       "            }, 500);\n",
       "            "
      ],
      "text/plain": [
       "<IPython.core.display.Javascript object>"
      ]
     },
     "metadata": {},
     "output_type": "display_data"
    }
   ],
   "source": [
    "plt.figure(figsize=(10, 5))\n",
    "sns.boxplot(\n",
    "    data=data, y=\"prevailing_wage\", x=\"education_of_employee\"\n",
    ")  # Boxplot for education level of employee and prevailing wage\n",
    "plt.show()"
   ]
  },
  {
   "cell_type": "markdown",
   "id": "045ac2ba",
   "metadata": {},
   "source": [
    "#### Observations:\n",
    "- It seems that level of education does mean a higher level of prevailing wage.\n",
    "- Thus, each region will have a higher average level of prevailing wage regarding the level of education in those regions.\n",
    "- Which region has the greatest total prevailing wage?"
   ]
  },
  {
   "cell_type": "markdown",
   "id": "3a378959",
   "metadata": {},
   "source": [
    "### Prevailing Wage by Region Totals."
   ]
  },
  {
   "cell_type": "code",
   "execution_count": 47,
   "id": "e0df27e4",
   "metadata": {},
   "outputs": [
    {
     "data": {
      "image/png": "[encoded data removed]",
      "text/plain": [
       "<Figure size 864x504 with 1 Axes>"
      ]
     },
     "metadata": {
      "needs_background": "light"
     },
     "output_type": "display_data"
    },
    {
     "data": {
      "application/javascript": [
       "\n",
       "            setTimeout(function() {\n",
       "                var nbb_cell_id = 47;\n",
       "                var nbb_unformatted_code = \"plt.figure(figsize=(12, 7))\\nsns.barplot(\\n    data=data, x=\\\"region_of_employment\\\", y=\\\"prevailing_wage\\\", ci=None, estimator=sum,\\n)\\nplt.show()\";\n",
       "                var nbb_formatted_code = \"plt.figure(figsize=(12, 7))\\nsns.barplot(\\n    data=data, x=\\\"region_of_employment\\\", y=\\\"prevailing_wage\\\", ci=None, estimator=sum,\\n)\\nplt.show()\";\n",
       "                var nbb_cells = Jupyter.notebook.get_cells();\n",
       "                for (var i = 0; i < nbb_cells.length; ++i) {\n",
       "                    if (nbb_cells[i].input_prompt_number == nbb_cell_id) {\n",
       "                        if (nbb_cells[i].get_text() == nbb_unformatted_code) {\n",
       "                             nbb_cells[i].set_text(nbb_formatted_code);\n",
       "                        }\n",
       "                        break;\n",
       "                    }\n",
       "                }\n",
       "            }, 500);\n",
       "            "
      ],
      "text/plain": [
       "<IPython.core.display.Javascript object>"
      ]
     },
     "metadata": {},
     "output_type": "display_data"
    }
   ],
   "source": [
    "plt.figure(figsize=(12, 7))\n",
    "sns.barplot(\n",
    "    data=data, x=\"region_of_employment\", y=\"prevailing_wage\", ci=None, estimator=sum,\n",
    ")\n",
    "plt.show()"
   ]
  },
  {
   "cell_type": "markdown",
   "id": "099f0ee7",
   "metadata": {},
   "source": [
    "#### Observations:\n",
    "- South has highest total amount of prevailing wage.\n",
    "- Midwest, which has the highest average prevailing wage, is teh second to lowest total prevailing wage."
   ]
  },
  {
   "cell_type": "markdown",
   "id": "6ff09dc1",
   "metadata": {},
   "source": [
    "### Prevailing Wage vs Case Status"
   ]
  },
  {
   "cell_type": "code",
   "execution_count": 48,
   "id": "6f0f9df7",
   "metadata": {},
   "outputs": [
    {
     "data": {
      "image/png": "[encoded data removed]",
      "text/plain": [
       "<Figure size 864x504 with 1 Axes>"
      ]
     },
     "metadata": {
      "needs_background": "light"
     },
     "output_type": "display_data"
    },
    {
     "data": {
      "application/javascript": [
       "\n",
       "            setTimeout(function() {\n",
       "                var nbb_cell_id = 48;\n",
       "                var nbb_unformatted_code = \"plt.figure(figsize=(12, 7))\\nsns.barplot(data=data, x=\\\"case_status\\\", y=\\\"prevailing_wage\\\", ci=None)\\nplt.show()\";\n",
       "                var nbb_formatted_code = \"plt.figure(figsize=(12, 7))\\nsns.barplot(data=data, x=\\\"case_status\\\", y=\\\"prevailing_wage\\\", ci=None)\\nplt.show()\";\n",
       "                var nbb_cells = Jupyter.notebook.get_cells();\n",
       "                for (var i = 0; i < nbb_cells.length; ++i) {\n",
       "                    if (nbb_cells[i].input_prompt_number == nbb_cell_id) {\n",
       "                        if (nbb_cells[i].get_text() == nbb_unformatted_code) {\n",
       "                             nbb_cells[i].set_text(nbb_formatted_code);\n",
       "                        }\n",
       "                        break;\n",
       "                    }\n",
       "                }\n",
       "            }, 500);\n",
       "            "
      ],
      "text/plain": [
       "<IPython.core.display.Javascript object>"
      ]
     },
     "metadata": {},
     "output_type": "display_data"
    }
   ],
   "source": [
    "plt.figure(figsize=(12, 7))\n",
    "sns.barplot(data=data, x=\"case_status\", y=\"prevailing_wage\", ci=None)\n",
    "plt.show()"
   ]
  },
  {
   "cell_type": "markdown",
   "id": "4f9797b6",
   "metadata": {},
   "source": [
    "#### Observations:\n",
    "- The higher the prevailing wage the greater the chance that a certified visa status will be issued.\n",
    "- Certified status's had an average prevailing wage higher than Declined status's by almost 5,000.\n",
    "- Some of these are yearly income, and some are hourly, but overall for the most part the average premise is the same."
   ]
  },
  {
   "cell_type": "markdown",
   "id": "b24bec19",
   "metadata": {},
   "source": [
    "### Unit of Wage vs Case Status"
   ]
  },
  {
   "cell_type": "code",
   "execution_count": 49,
   "id": "614c717b",
   "metadata": {},
   "outputs": [
    {
     "name": "stdout",
     "output_type": "stream",
     "text": [
      "case_status   Certified  Denied    All\n",
      "unit_of_wage                          \n",
      "All               17018    8462  25480\n",
      "Year              16047    6915  22962\n",
      "Hour                747    1410   2157\n",
      "Week                169     103    272\n",
      "Month                55      34     89\n",
      "------------------------------------------------------------------------------------------------------------------------\n"
     ]
    },
    {
     "data": {
      "image/png": "[encoded data removed]",
      "text/plain": [
       "<Figure size 648x360 with 1 Axes>"
      ]
     },
     "metadata": {
      "needs_background": "light"
     },
     "output_type": "display_data"
    },
    {
     "data": {
      "application/javascript": [
       "\n",
       "            setTimeout(function() {\n",
       "                var nbb_cell_id = 49;\n",
       "                var nbb_unformatted_code = \"stacked_barplot(\\n    data, \\\"unit_of_wage\\\", \\\"case_status\\\"\\n)  # stacked barplot for continent and case status\";\n",
       "                var nbb_formatted_code = \"stacked_barplot(\\n    data, \\\"unit_of_wage\\\", \\\"case_status\\\"\\n)  # stacked barplot for continent and case status\";\n",
       "                var nbb_cells = Jupyter.notebook.get_cells();\n",
       "                for (var i = 0; i < nbb_cells.length; ++i) {\n",
       "                    if (nbb_cells[i].input_prompt_number == nbb_cell_id) {\n",
       "                        if (nbb_cells[i].get_text() == nbb_unformatted_code) {\n",
       "                             nbb_cells[i].set_text(nbb_formatted_code);\n",
       "                        }\n",
       "                        break;\n",
       "                    }\n",
       "                }\n",
       "            }, 500);\n",
       "            "
      ],
      "text/plain": [
       "<IPython.core.display.Javascript object>"
      ]
     },
     "metadata": {},
     "output_type": "display_data"
    }
   ],
   "source": [
    "stacked_barplot(\n",
    "    data, \"unit_of_wage\", \"case_status\"\n",
    ")  # stacked barplot for continent and case status"
   ]
  },
  {
   "cell_type": "markdown",
   "id": "05da9333",
   "metadata": {},
   "source": [
    "#### Observations:\n",
    "- Hourly wages are at a drastic disadvantage when it comes to certified case status. Hourly rate applicants get aapproved at a rate of about 35%.\n",
    "- Yearly wage applicants get approved at a rate of about 70%.\n",
    "- The longer the unit of wage the higher the rate that the applicant is certified."
   ]
  },
  {
   "cell_type": "markdown",
   "id": "93ffcd0a",
   "metadata": {},
   "source": [
    "### Full Time Position vs Case Status"
   ]
  },
  {
   "cell_type": "code",
   "execution_count": 50,
   "id": "54ccd241",
   "metadata": {},
   "outputs": [
    {
     "name": "stdout",
     "output_type": "stream",
     "text": [
      "case_status         Certified  Denied    All\n",
      "full_time_position                          \n",
      "All                     17018    8462  25480\n",
      "Y                       15163    7610  22773\n",
      "N                        1855     852   2707\n",
      "------------------------------------------------------------------------------------------------------------------------\n"
     ]
    },
    {
     "data": {
      "image/png": "[encoded data removed]",
      "text/plain": [
       "<Figure size 504x360 with 1 Axes>"
      ]
     },
     "metadata": {
      "needs_background": "light"
     },
     "output_type": "display_data"
    },
    {
     "data": {
      "application/javascript": [
       "\n",
       "            setTimeout(function() {\n",
       "                var nbb_cell_id = 50;\n",
       "                var nbb_unformatted_code = \"stacked_barplot(\\n    data, \\\"full_time_position\\\", \\\"case_status\\\"\\n)  # stacked barplot for continent and case status\";\n",
       "                var nbb_formatted_code = \"stacked_barplot(\\n    data, \\\"full_time_position\\\", \\\"case_status\\\"\\n)  # stacked barplot for continent and case status\";\n",
       "                var nbb_cells = Jupyter.notebook.get_cells();\n",
       "                for (var i = 0; i < nbb_cells.length; ++i) {\n",
       "                    if (nbb_cells[i].input_prompt_number == nbb_cell_id) {\n",
       "                        if (nbb_cells[i].get_text() == nbb_unformatted_code) {\n",
       "                             nbb_cells[i].set_text(nbb_formatted_code);\n",
       "                        }\n",
       "                        break;\n",
       "                    }\n",
       "                }\n",
       "            }, 500);\n",
       "            "
      ],
      "text/plain": [
       "<IPython.core.display.Javascript object>"
      ]
     },
     "metadata": {},
     "output_type": "display_data"
    }
   ],
   "source": [
    "stacked_barplot(\n",
    "    data, \"full_time_position\", \"case_status\"\n",
    ")  # stacked barplot for continent and case status"
   ]
  },
  {
   "cell_type": "markdown",
   "id": "de19053d",
   "metadata": {},
   "source": [
    "#### Observations:\n",
    "- Full time position has no change in case status."
   ]
  },
  {
   "cell_type": "markdown",
   "id": "300a7193",
   "metadata": {},
   "source": [
    "**Leading Questions**:\n",
    "1. Those with higher education may want to travel abroad for a well-paid job. Does education play a role in Visa certification? \n",
    "    - Yes. The higher the education level the higher the rate of certified status. Doctors are close to 90%, Master's graduates are close to 80%. Bachelor's are close to 60%, and the approval rate really drops off for high school graduates at about 30%.\n",
    "\n",
    "\n",
    "2. How does the visa status vary across different continents? \n",
    "    - The highest approval rate comes from europe with a certified rate of about 80%, while the least is from south america at just under 60%. Africa(70%), Asia(68%), Oceania(65%), North America (63%).\n",
    "    - 66% of all applicants come from Asia, Most certified and denied case status's come from Asia. The number of applicants is about 4.5 times the amount of the number 2 country.\n",
    "\n",
    "\n",
    "3. Experienced professionals might look abroad for opportunities to improve their lifestyles and career development. Does work experience influence visa status? \n",
    "    - Yes. Having work experience leads to an increase in certified status. Those with work experience are certified at about 70% of the time, while those without work experience are certified at about 55% of the time.\n",
    "\n",
    "\n",
    "4. In the United States, employees are paid at different intervals. Which pay unit is most likely to be certified for a visa? \n",
    "    - Year is the unit of wage that is most likely ot be certified for a visa at about 70% of the time. Week is next with around 62%. Month is third at 61%. Hour is last at a measly 35%.\n",
    "    \n",
    "    \n",
    "5. The US government has established a prevailing wage to protect local talent and foreign workers. How does the visa status change with the prevailing wage?\n",
    "    - The certified visa status has a greater chance of occuring the higher the prevailing wage is. The average prevailing wage for those that are certified is about 75,000, while the average prevailing wage of those denied is about 68,000."
   ]
  },
  {
   "cell_type": "markdown",
   "id": "95c30347",
   "metadata": {},
   "source": [
    "## Data Preprocessing\n",
    "\n",
    "- Missing value treatment (if needed)\n",
    "- Feature engineering \n",
    "- Outlier detection and treatment (if needed)\n",
    "- Preparing data for modeling \n",
    "- Any other preprocessing steps (if needed)"
   ]
  },
  {
   "cell_type": "markdown",
   "id": "2c205622",
   "metadata": {},
   "source": [
    "#### Observations:\n",
    "- There does not seem to be a need for outlier detection and treatment, because of the observations made in EDA showing that the continuous values are accurate given domain knowledge.\n",
    "- There are no missing values to treat.\n",
    "- Feature Enginering:\n",
    "    - The prevailing wage regarding the unit of wage seems unfinished. There must be a better way of combining the unit of wage and the prevailing wage, as the hourly and yearly wages are currently bundled together. However, without fully knowing how many hours the hourly employees work there is no way to transfer the hourly to annually, or vice versa.\n",
    "    - The minimum prevailing wage may also not be below the minimum wage of the said country, but i am not sure how to determine each countries economic structure. Meaning, that they make money with tips such as a waiter in the United States, or some other form of payment unknown to me.\n",
    "    - The prevailing wage does seem to have some numbers that seem incorrect, such as an hourly wage at 2, and an hourly wage near 1,000. I think this is due to the currency disrepency for the currency in said country. Since there is no specific currency placed on the prevailing wage. i do not know what currency they are using, thus i can not convert it to a flat normalized currency. The prevailing wage numbers will just remain as is.\n",
    "- Thus, we will not use feature engineering."
   ]
  },
  {
   "cell_type": "markdown",
   "id": "fd920816",
   "metadata": {},
   "source": [
    "### Data Preparation for Modeling"
   ]
  },
  {
   "cell_type": "code",
   "execution_count": 51,
   "id": "8c086d52",
   "metadata": {},
   "outputs": [
    {
     "data": {
      "text/html": [
       "<div>\n",
       "<style scoped>\n",
       "    .dataframe tbody tr th:only-of-type {\n",
       "        vertical-align: middle;\n",
       "    }\n",
       "\n",
       "    .dataframe tbody tr th {\n",
       "        vertical-align: top;\n",
       "    }\n",
       "\n",
       "    .dataframe thead th {\n",
       "        text-align: right;\n",
       "    }\n",
       "</style>\n",
       "<table border=\"1\" class=\"dataframe\">\n",
       "  <thead>\n",
       "    <tr style=\"text-align: right;\">\n",
       "      <th></th>\n",
       "      <th>0</th>\n",
       "      <th>1</th>\n",
       "      <th>2</th>\n",
       "      <th>3</th>\n",
       "      <th>4</th>\n",
       "    </tr>\n",
       "  </thead>\n",
       "  <tbody>\n",
       "    <tr>\n",
       "      <th>has_job_experience</th>\n",
       "      <td>0.0000</td>\n",
       "      <td>1.00</td>\n",
       "      <td>0.00</td>\n",
       "      <td>0.00</td>\n",
       "      <td>1.00</td>\n",
       "    </tr>\n",
       "    <tr>\n",
       "      <th>requires_job_training</th>\n",
       "      <td>0.0000</td>\n",
       "      <td>0.00</td>\n",
       "      <td>1.00</td>\n",
       "      <td>0.00</td>\n",
       "      <td>0.00</td>\n",
       "    </tr>\n",
       "    <tr>\n",
       "      <th>no_of_employees</th>\n",
       "      <td>14513.0000</td>\n",
       "      <td>2412.00</td>\n",
       "      <td>44444.00</td>\n",
       "      <td>98.00</td>\n",
       "      <td>1082.00</td>\n",
       "    </tr>\n",
       "    <tr>\n",
       "      <th>yr_of_estab</th>\n",
       "      <td>2007.0000</td>\n",
       "      <td>2002.00</td>\n",
       "      <td>2008.00</td>\n",
       "      <td>1897.00</td>\n",
       "      <td>2005.00</td>\n",
       "    </tr>\n",
       "    <tr>\n",
       "      <th>prevailing_wage</th>\n",
       "      <td>592.2029</td>\n",
       "      <td>83425.65</td>\n",
       "      <td>122996.86</td>\n",
       "      <td>83434.03</td>\n",
       "      <td>149907.39</td>\n",
       "    </tr>\n",
       "    <tr>\n",
       "      <th>full_time_position</th>\n",
       "      <td>1.0000</td>\n",
       "      <td>1.00</td>\n",
       "      <td>1.00</td>\n",
       "      <td>1.00</td>\n",
       "      <td>1.00</td>\n",
       "    </tr>\n",
       "    <tr>\n",
       "      <th>continent_Asia</th>\n",
       "      <td>1.0000</td>\n",
       "      <td>1.00</td>\n",
       "      <td>1.00</td>\n",
       "      <td>1.00</td>\n",
       "      <td>0.00</td>\n",
       "    </tr>\n",
       "    <tr>\n",
       "      <th>continent_Europe</th>\n",
       "      <td>0.0000</td>\n",
       "      <td>0.00</td>\n",
       "      <td>0.00</td>\n",
       "      <td>0.00</td>\n",
       "      <td>0.00</td>\n",
       "    </tr>\n",
       "    <tr>\n",
       "      <th>continent_North America</th>\n",
       "      <td>0.0000</td>\n",
       "      <td>0.00</td>\n",
       "      <td>0.00</td>\n",
       "      <td>0.00</td>\n",
       "      <td>0.00</td>\n",
       "    </tr>\n",
       "    <tr>\n",
       "      <th>continent_Oceania</th>\n",
       "      <td>0.0000</td>\n",
       "      <td>0.00</td>\n",
       "      <td>0.00</td>\n",
       "      <td>0.00</td>\n",
       "      <td>0.00</td>\n",
       "    </tr>\n",
       "    <tr>\n",
       "      <th>continent_South America</th>\n",
       "      <td>0.0000</td>\n",
       "      <td>0.00</td>\n",
       "      <td>0.00</td>\n",
       "      <td>0.00</td>\n",
       "      <td>0.00</td>\n",
       "    </tr>\n",
       "    <tr>\n",
       "      <th>education_of_employee_Doctorate</th>\n",
       "      <td>0.0000</td>\n",
       "      <td>0.00</td>\n",
       "      <td>0.00</td>\n",
       "      <td>0.00</td>\n",
       "      <td>0.00</td>\n",
       "    </tr>\n",
       "    <tr>\n",
       "      <th>education_of_employee_High School</th>\n",
       "      <td>1.0000</td>\n",
       "      <td>0.00</td>\n",
       "      <td>0.00</td>\n",
       "      <td>0.00</td>\n",
       "      <td>0.00</td>\n",
       "    </tr>\n",
       "    <tr>\n",
       "      <th>education_of_employee_Master's</th>\n",
       "      <td>0.0000</td>\n",
       "      <td>1.00</td>\n",
       "      <td>0.00</td>\n",
       "      <td>0.00</td>\n",
       "      <td>1.00</td>\n",
       "    </tr>\n",
       "    <tr>\n",
       "      <th>region_of_employment_Midwest</th>\n",
       "      <td>0.0000</td>\n",
       "      <td>0.00</td>\n",
       "      <td>0.00</td>\n",
       "      <td>0.00</td>\n",
       "      <td>0.00</td>\n",
       "    </tr>\n",
       "    <tr>\n",
       "      <th>region_of_employment_Northeast</th>\n",
       "      <td>0.0000</td>\n",
       "      <td>1.00</td>\n",
       "      <td>0.00</td>\n",
       "      <td>0.00</td>\n",
       "      <td>0.00</td>\n",
       "    </tr>\n",
       "    <tr>\n",
       "      <th>region_of_employment_South</th>\n",
       "      <td>0.0000</td>\n",
       "      <td>0.00</td>\n",
       "      <td>0.00</td>\n",
       "      <td>0.00</td>\n",
       "      <td>1.00</td>\n",
       "    </tr>\n",
       "    <tr>\n",
       "      <th>region_of_employment_West</th>\n",
       "      <td>1.0000</td>\n",
       "      <td>0.00</td>\n",
       "      <td>1.00</td>\n",
       "      <td>1.00</td>\n",
       "      <td>0.00</td>\n",
       "    </tr>\n",
       "    <tr>\n",
       "      <th>unit_of_wage_Month</th>\n",
       "      <td>0.0000</td>\n",
       "      <td>0.00</td>\n",
       "      <td>0.00</td>\n",
       "      <td>0.00</td>\n",
       "      <td>0.00</td>\n",
       "    </tr>\n",
       "    <tr>\n",
       "      <th>unit_of_wage_Week</th>\n",
       "      <td>0.0000</td>\n",
       "      <td>0.00</td>\n",
       "      <td>0.00</td>\n",
       "      <td>0.00</td>\n",
       "      <td>0.00</td>\n",
       "    </tr>\n",
       "    <tr>\n",
       "      <th>unit_of_wage_Year</th>\n",
       "      <td>0.0000</td>\n",
       "      <td>1.00</td>\n",
       "      <td>1.00</td>\n",
       "      <td>1.00</td>\n",
       "      <td>1.00</td>\n",
       "    </tr>\n",
       "  </tbody>\n",
       "</table>\n",
       "</div>"
      ],
      "text/plain": [
       "                                            0         1          2         3  \\\n",
       "has_job_experience                     0.0000      1.00       0.00      0.00   \n",
       "requires_job_training                  0.0000      0.00       1.00      0.00   \n",
       "no_of_employees                    14513.0000   2412.00   44444.00     98.00   \n",
       "yr_of_estab                         2007.0000   2002.00    2008.00   1897.00   \n",
       "prevailing_wage                      592.2029  83425.65  122996.86  83434.03   \n",
       "full_time_position                     1.0000      1.00       1.00      1.00   \n",
       "continent_Asia                         1.0000      1.00       1.00      1.00   \n",
       "continent_Europe                       0.0000      0.00       0.00      0.00   \n",
       "continent_North America                0.0000      0.00       0.00      0.00   \n",
       "continent_Oceania                      0.0000      0.00       0.00      0.00   \n",
       "continent_South America                0.0000      0.00       0.00      0.00   \n",
       "education_of_employee_Doctorate        0.0000      0.00       0.00      0.00   \n",
       "education_of_employee_High School      1.0000      0.00       0.00      0.00   \n",
       "education_of_employee_Master's         0.0000      1.00       0.00      0.00   \n",
       "region_of_employment_Midwest           0.0000      0.00       0.00      0.00   \n",
       "region_of_employment_Northeast         0.0000      1.00       0.00      0.00   \n",
       "region_of_employment_South             0.0000      0.00       0.00      0.00   \n",
       "region_of_employment_West              1.0000      0.00       1.00      1.00   \n",
       "unit_of_wage_Month                     0.0000      0.00       0.00      0.00   \n",
       "unit_of_wage_Week                      0.0000      0.00       0.00      0.00   \n",
       "unit_of_wage_Year                      0.0000      1.00       1.00      1.00   \n",
       "\n",
       "                                           4  \n",
       "has_job_experience                      1.00  \n",
       "requires_job_training                   0.00  \n",
       "no_of_employees                      1082.00  \n",
       "yr_of_estab                          2005.00  \n",
       "prevailing_wage                    149907.39  \n",
       "full_time_position                      1.00  \n",
       "continent_Asia                          0.00  \n",
       "continent_Europe                        0.00  \n",
       "continent_North America                 0.00  \n",
       "continent_Oceania                       0.00  \n",
       "continent_South America                 0.00  \n",
       "education_of_employee_Doctorate         0.00  \n",
       "education_of_employee_High School       0.00  \n",
       "education_of_employee_Master's          1.00  \n",
       "region_of_employment_Midwest            0.00  \n",
       "region_of_employment_Northeast          0.00  \n",
       "region_of_employment_South              1.00  \n",
       "region_of_employment_West               0.00  \n",
       "unit_of_wage_Month                      0.00  \n",
       "unit_of_wage_Week                       0.00  \n",
       "unit_of_wage_Year                       1.00  "
      ]
     },
     "execution_count": 51,
     "metadata": {},
     "output_type": "execute_result"
    },
    {
     "data": {
      "application/javascript": [
       "\n",
       "            setTimeout(function() {\n",
       "                var nbb_cell_id = 51;\n",
       "                var nbb_unformatted_code = \"# creates dictionary replacing rows that contain only two values\\nreplaceStruct = {\\n    \\\"has_job_experience\\\": {\\\"N\\\": 0, \\\"Y\\\": 1},\\n    \\\"requires_job_training\\\": {\\\"N\\\": 0, \\\"Y\\\": 1},\\n    \\\"full_time_position\\\": {\\\"N\\\": 0, \\\"Y\\\": 1},\\n    \\\"case_status\\\": {\\\"Denied\\\": 0, \\\"Certified\\\": 1},\\n}\\n\\n# replaces values with the replaceStruct dictionary made above\\ndata = data.replace(replaceStruct)\\n\\nX = data.copy()  # create copy of data as X\\nY = data[\\\"case_status\\\"]  # creates Y, which is output of our models\\n\\n# create dummy variables for the categorcial columns that contain more than two values\\nX = pd.get_dummies(\\n    data,\\n    columns=[\\n        \\\"continent\\\",\\n        \\\"education_of_employee\\\",\\n        \\\"region_of_employment\\\",\\n        \\\"unit_of_wage\\\",\\n    ],\\n    drop_first=True,\\n)\\n\\nX.drop(\\\"case_status\\\", axis=1, inplace=True)  # drops case_status column in X\\nX.head().T  # displays tranverse of first five rows of X\";\n",
       "                var nbb_formatted_code = \"# creates dictionary replacing rows that contain only two values\\nreplaceStruct = {\\n    \\\"has_job_experience\\\": {\\\"N\\\": 0, \\\"Y\\\": 1},\\n    \\\"requires_job_training\\\": {\\\"N\\\": 0, \\\"Y\\\": 1},\\n    \\\"full_time_position\\\": {\\\"N\\\": 0, \\\"Y\\\": 1},\\n    \\\"case_status\\\": {\\\"Denied\\\": 0, \\\"Certified\\\": 1},\\n}\\n\\n# replaces values with the replaceStruct dictionary made above\\ndata = data.replace(replaceStruct)\\n\\nX = data.copy()  # create copy of data as X\\nY = data[\\\"case_status\\\"]  # creates Y, which is output of our models\\n\\n# create dummy variables for the categorcial columns that contain more than two values\\nX = pd.get_dummies(\\n    data,\\n    columns=[\\n        \\\"continent\\\",\\n        \\\"education_of_employee\\\",\\n        \\\"region_of_employment\\\",\\n        \\\"unit_of_wage\\\",\\n    ],\\n    drop_first=True,\\n)\\n\\nX.drop(\\\"case_status\\\", axis=1, inplace=True)  # drops case_status column in X\\nX.head().T  # displays tranverse of first five rows of X\";\n",
       "                var nbb_cells = Jupyter.notebook.get_cells();\n",
       "                for (var i = 0; i < nbb_cells.length; ++i) {\n",
       "                    if (nbb_cells[i].input_prompt_number == nbb_cell_id) {\n",
       "                        if (nbb_cells[i].get_text() == nbb_unformatted_code) {\n",
       "                             nbb_cells[i].set_text(nbb_formatted_code);\n",
       "                        }\n",
       "                        break;\n",
       "                    }\n",
       "                }\n",
       "            }, 500);\n",
       "            "
      ],
      "text/plain": [
       "<IPython.core.display.Javascript object>"
      ]
     },
     "metadata": {},
     "output_type": "display_data"
    }
   ],
   "source": [
    "# creates dictionary replacing rows that contain only two values\n",
    "replaceStruct = {\n",
    "    \"has_job_experience\": {\"N\": 0, \"Y\": 1},\n",
    "    \"requires_job_training\": {\"N\": 0, \"Y\": 1},\n",
    "    \"full_time_position\": {\"N\": 0, \"Y\": 1},\n",
    "    \"case_status\": {\"Denied\": 0, \"Certified\": 1},\n",
    "}\n",
    "\n",
    "# replaces values with the replaceStruct dictionary made above\n",
    "data = data.replace(replaceStruct)\n",
    "\n",
    "X = data.copy()  # create copy of data as X\n",
    "Y = data[\"case_status\"]  # creates Y, which is output of our models\n",
    "\n",
    "# create dummy variables for the categorcial columns that contain more than two values\n",
    "X = pd.get_dummies(\n",
    "    data,\n",
    "    columns=[\n",
    "        \"continent\",\n",
    "        \"education_of_employee\",\n",
    "        \"region_of_employment\",\n",
    "        \"unit_of_wage\",\n",
    "    ],\n",
    "    drop_first=True,\n",
    ")\n",
    "\n",
    "X.drop(\"case_status\", axis=1, inplace=True)  # drops case_status column in X\n",
    "X.head().T  # displays tranverse of first five rows of X"
   ]
  },
  {
   "cell_type": "code",
   "execution_count": 52,
   "id": "db45c0ab",
   "metadata": {},
   "outputs": [
    {
     "data": {
      "application/javascript": [
       "\n",
       "            setTimeout(function() {\n",
       "                var nbb_cell_id = 52;\n",
       "                var nbb_unformatted_code = \"# create test train split for training and testing models\\nX_train, X_test, y_train, y_test = train_test_split(X, Y, test_size=0.3, random_state=1)\";\n",
       "                var nbb_formatted_code = \"# create test train split for training and testing models\\nX_train, X_test, y_train, y_test = train_test_split(X, Y, test_size=0.3, random_state=1)\";\n",
       "                var nbb_cells = Jupyter.notebook.get_cells();\n",
       "                for (var i = 0; i < nbb_cells.length; ++i) {\n",
       "                    if (nbb_cells[i].input_prompt_number == nbb_cell_id) {\n",
       "                        if (nbb_cells[i].get_text() == nbb_unformatted_code) {\n",
       "                             nbb_cells[i].set_text(nbb_formatted_code);\n",
       "                        }\n",
       "                        break;\n",
       "                    }\n",
       "                }\n",
       "            }, 500);\n",
       "            "
      ],
      "text/plain": [
       "<IPython.core.display.Javascript object>"
      ]
     },
     "metadata": {},
     "output_type": "display_data"
    }
   ],
   "source": [
    "# create test train split for training and testing models\n",
    "X_train, X_test, y_train, y_test = train_test_split(X, Y, test_size=0.3, random_state=1)"
   ]
  },
  {
   "cell_type": "code",
   "execution_count": 53,
   "id": "380992ef",
   "metadata": {},
   "outputs": [
    {
     "name": "stdout",
     "output_type": "stream",
     "text": [
      "Shape of Training set :  (17836, 21)\n",
      "Shape of test set :  (7644, 21)\n",
      "Percentage of classes in training set:\n",
      "1    0.663602\n",
      "0    0.336398\n",
      "Name: case_status, dtype: float64\n",
      "Percentage of classes in test set:\n",
      "1    0.677917\n",
      "0    0.322083\n",
      "Name: case_status, dtype: float64\n"
     ]
    },
    {
     "data": {
      "application/javascript": [
       "\n",
       "            setTimeout(function() {\n",
       "                var nbb_cell_id = 53;\n",
       "                var nbb_unformatted_code = \"print(\\\"Shape of Training set : \\\", X_train.shape)\\nprint(\\\"Shape of test set : \\\", X_test.shape)\\nprint(\\\"Percentage of classes in training set:\\\")\\nprint(y_train.value_counts(normalize=True))\\nprint(\\\"Percentage of classes in test set:\\\")\\nprint(y_test.value_counts(normalize=True))\";\n",
       "                var nbb_formatted_code = \"print(\\\"Shape of Training set : \\\", X_train.shape)\\nprint(\\\"Shape of test set : \\\", X_test.shape)\\nprint(\\\"Percentage of classes in training set:\\\")\\nprint(y_train.value_counts(normalize=True))\\nprint(\\\"Percentage of classes in test set:\\\")\\nprint(y_test.value_counts(normalize=True))\";\n",
       "                var nbb_cells = Jupyter.notebook.get_cells();\n",
       "                for (var i = 0; i < nbb_cells.length; ++i) {\n",
       "                    if (nbb_cells[i].input_prompt_number == nbb_cell_id) {\n",
       "                        if (nbb_cells[i].get_text() == nbb_unformatted_code) {\n",
       "                             nbb_cells[i].set_text(nbb_formatted_code);\n",
       "                        }\n",
       "                        break;\n",
       "                    }\n",
       "                }\n",
       "            }, 500);\n",
       "            "
      ],
      "text/plain": [
       "<IPython.core.display.Javascript object>"
      ]
     },
     "metadata": {},
     "output_type": "display_data"
    }
   ],
   "source": [
    "print(\"Shape of Training set : \", X_train.shape)\n",
    "print(\"Shape of test set : \", X_test.shape)\n",
    "print(\"Percentage of classes in training set:\")\n",
    "print(y_train.value_counts(normalize=True))\n",
    "print(\"Percentage of classes in test set:\")\n",
    "print(y_test.value_counts(normalize=True))"
   ]
  },
  {
   "cell_type": "markdown",
   "id": "85372a34",
   "metadata": {},
   "source": [
    "#### Observations:\n",
    "- The train_test split is about 67:33 which is close to the target of 70:30 split."
   ]
  },
  {
   "cell_type": "markdown",
   "id": "1000e204",
   "metadata": {},
   "source": [
    "## EDA\n",
    "\n",
    "- It is a good idea to explore the data once again after manipulating it."
   ]
  },
  {
   "cell_type": "markdown",
   "id": "61ed5531",
   "metadata": {},
   "source": [
    "- Since no changes were made besides the dummy variables and the column variables restructured. There is not reason to do EDA here."
   ]
  },
  {
   "cell_type": "code",
   "execution_count": 54,
   "id": "6a185a37",
   "metadata": {},
   "outputs": [
    {
     "data": {
      "application/javascript": [
       "\n",
       "            setTimeout(function() {\n",
       "                var nbb_cell_id = 54;\n",
       "                var nbb_unformatted_code = \"# defining a function to compute different metrics to check performance of a classification model built using sklearn\\n\\n\\ndef model_performance_classification_sklearn(model, predictors, target):\\n    \\\"\\\"\\\"\\n    Function to compute different metrics to check classification model performance\\n\\n    model: classifier\\n    predictors: independent variables\\n    target: dependent variable\\n    \\\"\\\"\\\"\\n\\n    # predicting using the independent variables\\n    pred = model.predict(predictors)\\n\\n    acc = accuracy_score(target, pred)  # to compute Accuracy\\n    recall = recall_score(target, pred)  # to compute Recall\\n    precision = precision_score(target, pred)  # to compute Precision\\n    f1 = f1_score(target, pred)  # to compute F1-score\\n\\n    # creating a dataframe of metrics\\n    df_perf = pd.DataFrame(\\n        {\\\"Accuracy\\\": acc, \\\"Recall\\\": recall, \\\"Precision\\\": precision, \\\"F1\\\": f1,},\\n        index=[0],\\n    )\\n\\n    return df_perf\";\n",
       "                var nbb_formatted_code = \"# defining a function to compute different metrics to check performance of a classification model built using sklearn\\n\\n\\ndef model_performance_classification_sklearn(model, predictors, target):\\n    \\\"\\\"\\\"\\n    Function to compute different metrics to check classification model performance\\n\\n    model: classifier\\n    predictors: independent variables\\n    target: dependent variable\\n    \\\"\\\"\\\"\\n\\n    # predicting using the independent variables\\n    pred = model.predict(predictors)\\n\\n    acc = accuracy_score(target, pred)  # to compute Accuracy\\n    recall = recall_score(target, pred)  # to compute Recall\\n    precision = precision_score(target, pred)  # to compute Precision\\n    f1 = f1_score(target, pred)  # to compute F1-score\\n\\n    # creating a dataframe of metrics\\n    df_perf = pd.DataFrame(\\n        {\\\"Accuracy\\\": acc, \\\"Recall\\\": recall, \\\"Precision\\\": precision, \\\"F1\\\": f1,},\\n        index=[0],\\n    )\\n\\n    return df_perf\";\n",
       "                var nbb_cells = Jupyter.notebook.get_cells();\n",
       "                for (var i = 0; i < nbb_cells.length; ++i) {\n",
       "                    if (nbb_cells[i].input_prompt_number == nbb_cell_id) {\n",
       "                        if (nbb_cells[i].get_text() == nbb_unformatted_code) {\n",
       "                             nbb_cells[i].set_text(nbb_formatted_code);\n",
       "                        }\n",
       "                        break;\n",
       "                    }\n",
       "                }\n",
       "            }, 500);\n",
       "            "
      ],
      "text/plain": [
       "<IPython.core.display.Javascript object>"
      ]
     },
     "metadata": {},
     "output_type": "display_data"
    }
   ],
   "source": [
    "# defining a function to compute different metrics to check performance of a classification model built using sklearn\n",
    "\n",
    "\n",
    "def model_performance_classification_sklearn(model, predictors, target):\n",
    "    \"\"\"\n",
    "    Function to compute different metrics to check classification model performance\n",
    "\n",
    "    model: classifier\n",
    "    predictors: independent variables\n",
    "    target: dependent variable\n",
    "    \"\"\"\n",
    "\n",
    "    # predicting using the independent variables\n",
    "    pred = model.predict(predictors)\n",
    "\n",
    "    acc = accuracy_score(target, pred)  # to compute Accuracy\n",
    "    recall = recall_score(target, pred)  # to compute Recall\n",
    "    precision = precision_score(target, pred)  # to compute Precision\n",
    "    f1 = f1_score(target, pred)  # to compute F1-score\n",
    "\n",
    "    # creating a dataframe of metrics\n",
    "    df_perf = pd.DataFrame(\n",
    "        {\"Accuracy\": acc, \"Recall\": recall, \"Precision\": precision, \"F1\": f1,},\n",
    "        index=[0],\n",
    "    )\n",
    "\n",
    "    return df_perf"
   ]
  },
  {
   "cell_type": "code",
   "execution_count": 55,
   "id": "7321de1f",
   "metadata": {},
   "outputs": [
    {
     "data": {
      "application/javascript": [
       "\n",
       "            setTimeout(function() {\n",
       "                var nbb_cell_id = 55;\n",
       "                var nbb_unformatted_code = \"def confusion_matrix_sklearn(model, predictors, target):\\n    \\\"\\\"\\\"\\n    To plot the confusion_matrix with percentages\\n\\n    model: classifier\\n    predictors: independent variables\\n    target: dependent variable\\n    \\\"\\\"\\\"\\n    y_pred = model.predict(predictors)\\n    cm = confusion_matrix(target, y_pred)\\n    labels = np.asarray(\\n        [\\n            [\\\"{0:0.0f}\\\".format(item) + \\\"\\\\n{0:.2%}\\\".format(item / cm.flatten().sum())]\\n            for item in cm.flatten()\\n        ]\\n    ).reshape(2, 2)\\n\\n    plt.figure(figsize=(6, 4))\\n    sns.heatmap(cm, annot=labels, fmt=\\\"\\\")\\n    plt.ylabel(\\\"True label\\\")\\n    plt.xlabel(\\\"Predicted label\\\")\";\n",
       "                var nbb_formatted_code = \"def confusion_matrix_sklearn(model, predictors, target):\\n    \\\"\\\"\\\"\\n    To plot the confusion_matrix with percentages\\n\\n    model: classifier\\n    predictors: independent variables\\n    target: dependent variable\\n    \\\"\\\"\\\"\\n    y_pred = model.predict(predictors)\\n    cm = confusion_matrix(target, y_pred)\\n    labels = np.asarray(\\n        [\\n            [\\\"{0:0.0f}\\\".format(item) + \\\"\\\\n{0:.2%}\\\".format(item / cm.flatten().sum())]\\n            for item in cm.flatten()\\n        ]\\n    ).reshape(2, 2)\\n\\n    plt.figure(figsize=(6, 4))\\n    sns.heatmap(cm, annot=labels, fmt=\\\"\\\")\\n    plt.ylabel(\\\"True label\\\")\\n    plt.xlabel(\\\"Predicted label\\\")\";\n",
       "                var nbb_cells = Jupyter.notebook.get_cells();\n",
       "                for (var i = 0; i < nbb_cells.length; ++i) {\n",
       "                    if (nbb_cells[i].input_prompt_number == nbb_cell_id) {\n",
       "                        if (nbb_cells[i].get_text() == nbb_unformatted_code) {\n",
       "                             nbb_cells[i].set_text(nbb_formatted_code);\n",
       "                        }\n",
       "                        break;\n",
       "                    }\n",
       "                }\n",
       "            }, 500);\n",
       "            "
      ],
      "text/plain": [
       "<IPython.core.display.Javascript object>"
      ]
     },
     "metadata": {},
     "output_type": "display_data"
    }
   ],
   "source": [
    "def confusion_matrix_sklearn(model, predictors, target):\n",
    "    \"\"\"\n",
    "    To plot the confusion_matrix with percentages\n",
    "\n",
    "    model: classifier\n",
    "    predictors: independent variables\n",
    "    target: dependent variable\n",
    "    \"\"\"\n",
    "    y_pred = model.predict(predictors)\n",
    "    cm = confusion_matrix(target, y_pred)\n",
    "    labels = np.asarray(\n",
    "        [\n",
    "            [\"{0:0.0f}\".format(item) + \"\\n{0:.2%}\".format(item / cm.flatten().sum())]\n",
    "            for item in cm.flatten()\n",
    "        ]\n",
    "    ).reshape(2, 2)\n",
    "\n",
    "    plt.figure(figsize=(6, 4))\n",
    "    sns.heatmap(cm, annot=labels, fmt=\"\")\n",
    "    plt.ylabel(\"True label\")\n",
    "    plt.xlabel(\"Predicted label\")"
   ]
  },
  {
   "cell_type": "markdown",
   "id": "7460f13f",
   "metadata": {},
   "source": [
    "## Building bagging and boosting models"
   ]
  },
  {
   "cell_type": "markdown",
   "id": "724f941b",
   "metadata": {},
   "source": [
    "### Recall, Precision, or F1?"
   ]
  },
  {
   "cell_type": "markdown",
   "id": "40227885",
   "metadata": {},
   "source": [
    "- A visa is certified but was predicited as denied, then the employee will miss out on a great oppurtunity and the company will lose a worthy asset.\n",
    "- A visa is denied but was predicited as certified, then the company will waste time and effort finding a suitable canidate, which will utlimately lead to the incorrect, rushed hire.\n",
    "- `F1 score` is the appropriate metric as both the False Positive and False Negative are important."
   ]
  },
  {
   "cell_type": "markdown",
   "id": "58d69101",
   "metadata": {},
   "source": [
    "### Decision Tree"
   ]
  },
  {
   "cell_type": "code",
   "execution_count": 56,
   "id": "d8d0767f",
   "metadata": {},
   "outputs": [
    {
     "data": {
      "text/plain": [
       "DecisionTreeClassifier(random_state=1)"
      ]
     },
     "execution_count": 56,
     "metadata": {},
     "output_type": "execute_result"
    },
    {
     "data": {
      "application/javascript": [
       "\n",
       "            setTimeout(function() {\n",
       "                var nbb_cell_id = 56;\n",
       "                var nbb_unformatted_code = \"dtree = DecisionTreeClassifier(criterion=\\\"gini\\\", random_state=1)\\ndtree.fit(X_train, y_train)\";\n",
       "                var nbb_formatted_code = \"dtree = DecisionTreeClassifier(criterion=\\\"gini\\\", random_state=1)\\ndtree.fit(X_train, y_train)\";\n",
       "                var nbb_cells = Jupyter.notebook.get_cells();\n",
       "                for (var i = 0; i < nbb_cells.length; ++i) {\n",
       "                    if (nbb_cells[i].input_prompt_number == nbb_cell_id) {\n",
       "                        if (nbb_cells[i].get_text() == nbb_unformatted_code) {\n",
       "                             nbb_cells[i].set_text(nbb_formatted_code);\n",
       "                        }\n",
       "                        break;\n",
       "                    }\n",
       "                }\n",
       "            }, 500);\n",
       "            "
      ],
      "text/plain": [
       "<IPython.core.display.Javascript object>"
      ]
     },
     "metadata": {},
     "output_type": "display_data"
    }
   ],
   "source": [
    "dtree = DecisionTreeClassifier(criterion=\"gini\", random_state=1)\n",
    "dtree.fit(X_train, y_train)"
   ]
  },
  {
   "cell_type": "code",
   "execution_count": 57,
   "id": "a3dc7a69",
   "metadata": {},
   "outputs": [
    {
     "data": {
      "text/plain": [
       "DecisionTreeClassifier(random_state=1)"
      ]
     },
     "execution_count": 57,
     "metadata": {},
     "output_type": "execute_result"
    },
    {
     "data": {
      "application/javascript": [
       "\n",
       "            setTimeout(function() {\n",
       "                var nbb_cell_id = 57;\n",
       "                var nbb_unformatted_code = \"dtree = DecisionTreeClassifier(criterion=\\\"gini\\\", random_state=1)\\ndtree.fit(X_train, y_train)\";\n",
       "                var nbb_formatted_code = \"dtree = DecisionTreeClassifier(criterion=\\\"gini\\\", random_state=1)\\ndtree.fit(X_train, y_train)\";\n",
       "                var nbb_cells = Jupyter.notebook.get_cells();\n",
       "                for (var i = 0; i < nbb_cells.length; ++i) {\n",
       "                    if (nbb_cells[i].input_prompt_number == nbb_cell_id) {\n",
       "                        if (nbb_cells[i].get_text() == nbb_unformatted_code) {\n",
       "                             nbb_cells[i].set_text(nbb_formatted_code);\n",
       "                        }\n",
       "                        break;\n",
       "                    }\n",
       "                }\n",
       "            }, 500);\n",
       "            "
      ],
      "text/plain": [
       "<IPython.core.display.Javascript object>"
      ]
     },
     "metadata": {},
     "output_type": "display_data"
    }
   ],
   "source": [
    "dtree = DecisionTreeClassifier(criterion=\"gini\", random_state=1)\n",
    "dtree.fit(X_train, y_train)"
   ]
  },
  {
   "cell_type": "code",
   "execution_count": 58,
   "id": "bc8cb525",
   "metadata": {},
   "outputs": [
    {
     "name": "stdout",
     "output_type": "stream",
     "text": [
      "Training performance \n",
      "    Accuracy  Recall  Precision   F1\n",
      "0       1.0     1.0        1.0  1.0\n"
     ]
    },
    {
     "data": {
      "application/javascript": [
       "\n",
       "            setTimeout(function() {\n",
       "                var nbb_cell_id = 58;\n",
       "                var nbb_unformatted_code = \"dtree_classifier_train_perf = model_performance_classification_sklearn(\\n    dtree, X_train, y_train\\n)\\nprint(\\\"Training performance \\\\n\\\", dtree_classifier_train_perf)\";\n",
       "                var nbb_formatted_code = \"dtree_classifier_train_perf = model_performance_classification_sklearn(\\n    dtree, X_train, y_train\\n)\\nprint(\\\"Training performance \\\\n\\\", dtree_classifier_train_perf)\";\n",
       "                var nbb_cells = Jupyter.notebook.get_cells();\n",
       "                for (var i = 0; i < nbb_cells.length; ++i) {\n",
       "                    if (nbb_cells[i].input_prompt_number == nbb_cell_id) {\n",
       "                        if (nbb_cells[i].get_text() == nbb_unformatted_code) {\n",
       "                             nbb_cells[i].set_text(nbb_formatted_code);\n",
       "                        }\n",
       "                        break;\n",
       "                    }\n",
       "                }\n",
       "            }, 500);\n",
       "            "
      ],
      "text/plain": [
       "<IPython.core.display.Javascript object>"
      ]
     },
     "metadata": {},
     "output_type": "display_data"
    }
   ],
   "source": [
    "dtree_classifier_train_perf = model_performance_classification_sklearn(\n",
    "    dtree, X_train, y_train\n",
    ")\n",
    "print(\"Training performance \\n\", dtree_classifier_train_perf)"
   ]
  },
  {
   "cell_type": "code",
   "execution_count": 59,
   "id": "80108b45",
   "metadata": {},
   "outputs": [
    {
     "name": "stdout",
     "output_type": "stream",
     "text": [
      "Testing performance \n",
      "    Accuracy   Recall  Precision        F1\n",
      "0  0.661826  0.74257   0.754658  0.748565\n"
     ]
    },
    {
     "data": {
      "application/javascript": [
       "\n",
       "            setTimeout(function() {\n",
       "                var nbb_cell_id = 59;\n",
       "                var nbb_unformatted_code = \"dtree_classifier_test_perf = model_performance_classification_sklearn(\\n    dtree, X_test, y_test\\n)\\nprint(\\\"Testing performance \\\\n\\\", dtree_classifier_test_perf)\";\n",
       "                var nbb_formatted_code = \"dtree_classifier_test_perf = model_performance_classification_sklearn(\\n    dtree, X_test, y_test\\n)\\nprint(\\\"Testing performance \\\\n\\\", dtree_classifier_test_perf)\";\n",
       "                var nbb_cells = Jupyter.notebook.get_cells();\n",
       "                for (var i = 0; i < nbb_cells.length; ++i) {\n",
       "                    if (nbb_cells[i].input_prompt_number == nbb_cell_id) {\n",
       "                        if (nbb_cells[i].get_text() == nbb_unformatted_code) {\n",
       "                             nbb_cells[i].set_text(nbb_formatted_code);\n",
       "                        }\n",
       "                        break;\n",
       "                    }\n",
       "                }\n",
       "            }, 500);\n",
       "            "
      ],
      "text/plain": [
       "<IPython.core.display.Javascript object>"
      ]
     },
     "metadata": {},
     "output_type": "display_data"
    }
   ],
   "source": [
    "dtree_classifier_test_perf = model_performance_classification_sklearn(\n",
    "    dtree, X_test, y_test\n",
    ")\n",
    "print(\"Testing performance \\n\", dtree_classifier_test_perf)"
   ]
  },
  {
   "cell_type": "markdown",
   "id": "7be6a7e9",
   "metadata": {},
   "source": [
    "#### Observations\n",
    "- Decision Tree works well on training data, but is overfitting as the metrics did not generalize to the testing set.\n",
    "- With an `F1 score` of 74.9 it is not a very good model."
   ]
  },
  {
   "cell_type": "markdown",
   "id": "a4b14a4f",
   "metadata": {},
   "source": [
    "### Bagging Classifier"
   ]
  },
  {
   "cell_type": "code",
   "execution_count": 60,
   "id": "70c20855",
   "metadata": {},
   "outputs": [
    {
     "data": {
      "text/plain": [
       "BaggingClassifier(random_state=1)"
      ]
     },
     "execution_count": 60,
     "metadata": {},
     "output_type": "execute_result"
    },
    {
     "data": {
      "application/javascript": [
       "\n",
       "            setTimeout(function() {\n",
       "                var nbb_cell_id = 60;\n",
       "                var nbb_unformatted_code = \"bagging_classifier = BaggingClassifier(random_state=1)\\nbagging_classifier.fit(X_train, y_train)\";\n",
       "                var nbb_formatted_code = \"bagging_classifier = BaggingClassifier(random_state=1)\\nbagging_classifier.fit(X_train, y_train)\";\n",
       "                var nbb_cells = Jupyter.notebook.get_cells();\n",
       "                for (var i = 0; i < nbb_cells.length; ++i) {\n",
       "                    if (nbb_cells[i].input_prompt_number == nbb_cell_id) {\n",
       "                        if (nbb_cells[i].get_text() == nbb_unformatted_code) {\n",
       "                             nbb_cells[i].set_text(nbb_formatted_code);\n",
       "                        }\n",
       "                        break;\n",
       "                    }\n",
       "                }\n",
       "            }, 500);\n",
       "            "
      ],
      "text/plain": [
       "<IPython.core.display.Javascript object>"
      ]
     },
     "metadata": {},
     "output_type": "display_data"
    }
   ],
   "source": [
    "bagging_classifier = BaggingClassifier(random_state=1)\n",
    "bagging_classifier.fit(X_train, y_train)"
   ]
  },
  {
   "cell_type": "code",
   "execution_count": 61,
   "id": "c33e4c70",
   "metadata": {},
   "outputs": [
    {
     "data": {
      "image/png": "[encoded data removed]",
      "text/plain": [
       "<Figure size 432x288 with 2 Axes>"
      ]
     },
     "metadata": {
      "needs_background": "light"
     },
     "output_type": "display_data"
    },
    {
     "data": {
      "application/javascript": [
       "\n",
       "            setTimeout(function() {\n",
       "                var nbb_cell_id = 61;\n",
       "                var nbb_unformatted_code = \"confusion_matrix_sklearn(bagging_classifier, X_test, y_test)\";\n",
       "                var nbb_formatted_code = \"confusion_matrix_sklearn(bagging_classifier, X_test, y_test)\";\n",
       "                var nbb_cells = Jupyter.notebook.get_cells();\n",
       "                for (var i = 0; i < nbb_cells.length; ++i) {\n",
       "                    if (nbb_cells[i].input_prompt_number == nbb_cell_id) {\n",
       "                        if (nbb_cells[i].get_text() == nbb_unformatted_code) {\n",
       "                             nbb_cells[i].set_text(nbb_formatted_code);\n",
       "                        }\n",
       "                        break;\n",
       "                    }\n",
       "                }\n",
       "            }, 500);\n",
       "            "
      ],
      "text/plain": [
       "<IPython.core.display.Javascript object>"
      ]
     },
     "metadata": {},
     "output_type": "display_data"
    }
   ],
   "source": [
    "confusion_matrix_sklearn(bagging_classifier, X_test, y_test)"
   ]
  },
  {
   "cell_type": "code",
   "execution_count": 62,
   "id": "4b96c674",
   "metadata": {},
   "outputs": [
    {
     "name": "stdout",
     "output_type": "stream",
     "text": [
      "Training performance \n",
      "    Accuracy    Recall  Precision        F1\n",
      "0  0.984694  0.985553   0.991332  0.988434\n"
     ]
    },
    {
     "data": {
      "application/javascript": [
       "\n",
       "            setTimeout(function() {\n",
       "                var nbb_cell_id = 62;\n",
       "                var nbb_unformatted_code = \"bagging_classifier_train_perf = model_performance_classification_sklearn(\\n    bagging_classifier, X_train, y_train\\n)\\nprint(\\\"Training performance \\\\n\\\", bagging_classifier_train_perf)\";\n",
       "                var nbb_formatted_code = \"bagging_classifier_train_perf = model_performance_classification_sklearn(\\n    bagging_classifier, X_train, y_train\\n)\\nprint(\\\"Training performance \\\\n\\\", bagging_classifier_train_perf)\";\n",
       "                var nbb_cells = Jupyter.notebook.get_cells();\n",
       "                for (var i = 0; i < nbb_cells.length; ++i) {\n",
       "                    if (nbb_cells[i].input_prompt_number == nbb_cell_id) {\n",
       "                        if (nbb_cells[i].get_text() == nbb_unformatted_code) {\n",
       "                             nbb_cells[i].set_text(nbb_formatted_code);\n",
       "                        }\n",
       "                        break;\n",
       "                    }\n",
       "                }\n",
       "            }, 500);\n",
       "            "
      ],
      "text/plain": [
       "<IPython.core.display.Javascript object>"
      ]
     },
     "metadata": {},
     "output_type": "display_data"
    }
   ],
   "source": [
    "bagging_classifier_train_perf = model_performance_classification_sklearn(\n",
    "    bagging_classifier, X_train, y_train\n",
    ")\n",
    "print(\"Training performance \\n\", bagging_classifier_train_perf)"
   ]
  },
  {
   "cell_type": "code",
   "execution_count": 63,
   "id": "5e3c24d7",
   "metadata": {},
   "outputs": [
    {
     "name": "stdout",
     "output_type": "stream",
     "text": [
      "Testing performance \n",
      "    Accuracy    Recall  Precision        F1\n",
      "0  0.697148  0.771517   0.779489  0.775482\n"
     ]
    },
    {
     "data": {
      "application/javascript": [
       "\n",
       "            setTimeout(function() {\n",
       "                var nbb_cell_id = 63;\n",
       "                var nbb_unformatted_code = \"bagging_classifier_test_perf = model_performance_classification_sklearn(\\n    bagging_classifier, X_test, y_test\\n)\\nprint(\\\"Testing performance \\\\n\\\", bagging_classifier_test_perf)\";\n",
       "                var nbb_formatted_code = \"bagging_classifier_test_perf = model_performance_classification_sklearn(\\n    bagging_classifier, X_test, y_test\\n)\\nprint(\\\"Testing performance \\\\n\\\", bagging_classifier_test_perf)\";\n",
       "                var nbb_cells = Jupyter.notebook.get_cells();\n",
       "                for (var i = 0; i < nbb_cells.length; ++i) {\n",
       "                    if (nbb_cells[i].input_prompt_number == nbb_cell_id) {\n",
       "                        if (nbb_cells[i].get_text() == nbb_unformatted_code) {\n",
       "                             nbb_cells[i].set_text(nbb_formatted_code);\n",
       "                        }\n",
       "                        break;\n",
       "                    }\n",
       "                }\n",
       "            }, 500);\n",
       "            "
      ],
      "text/plain": [
       "<IPython.core.display.Javascript object>"
      ]
     },
     "metadata": {},
     "output_type": "display_data"
    }
   ],
   "source": [
    "bagging_classifier_test_perf = model_performance_classification_sklearn(\n",
    "    bagging_classifier, X_test, y_test\n",
    ")\n",
    "print(\"Testing performance \\n\", bagging_classifier_test_perf)"
   ]
  },
  {
   "cell_type": "markdown",
   "id": "234250b0",
   "metadata": {},
   "source": [
    "#### Observations\n",
    "- Bagging Classsifier works well on training data, but is overfitting as the metrics did not generalize to the testing set.\n",
    "- With an `F1 score` of 77.5 it is not a very good model."
   ]
  },
  {
   "cell_type": "markdown",
   "id": "cc0b4ee6",
   "metadata": {},
   "source": [
    "### Bagging Classifier with weighted decision tree"
   ]
  },
  {
   "cell_type": "code",
   "execution_count": 64,
   "id": "2e86d491",
   "metadata": {},
   "outputs": [
    {
     "data": {
      "text/plain": [
       "BaggingClassifier(base_estimator=DecisionTreeClassifier(class_weight={0: 0.67,\n",
       "                                                                      1: 0.33},\n",
       "                                                        random_state=1),\n",
       "                  random_state=1)"
      ]
     },
     "execution_count": 64,
     "metadata": {},
     "output_type": "execute_result"
    },
    {
     "data": {
      "application/javascript": [
       "\n",
       "            setTimeout(function() {\n",
       "                var nbb_cell_id = 64;\n",
       "                var nbb_unformatted_code = \"bagging_wt = BaggingClassifier(\\n    base_estimator=DecisionTreeClassifier(\\n        criterion=\\\"gini\\\", class_weight={0: 0.67, 1: 0.33}, random_state=1\\n    ),\\n    random_state=1,\\n)\\nbagging_wt.fit(X_train, y_train)\";\n",
       "                var nbb_formatted_code = \"bagging_wt = BaggingClassifier(\\n    base_estimator=DecisionTreeClassifier(\\n        criterion=\\\"gini\\\", class_weight={0: 0.67, 1: 0.33}, random_state=1\\n    ),\\n    random_state=1,\\n)\\nbagging_wt.fit(X_train, y_train)\";\n",
       "                var nbb_cells = Jupyter.notebook.get_cells();\n",
       "                for (var i = 0; i < nbb_cells.length; ++i) {\n",
       "                    if (nbb_cells[i].input_prompt_number == nbb_cell_id) {\n",
       "                        if (nbb_cells[i].get_text() == nbb_unformatted_code) {\n",
       "                             nbb_cells[i].set_text(nbb_formatted_code);\n",
       "                        }\n",
       "                        break;\n",
       "                    }\n",
       "                }\n",
       "            }, 500);\n",
       "            "
      ],
      "text/plain": [
       "<IPython.core.display.Javascript object>"
      ]
     },
     "metadata": {},
     "output_type": "display_data"
    }
   ],
   "source": [
    "bagging_wt = BaggingClassifier(\n",
    "    base_estimator=DecisionTreeClassifier(\n",
    "        criterion=\"gini\", class_weight={0: 0.67, 1: 0.33}, random_state=1\n",
    "    ),\n",
    "    random_state=1,\n",
    ")\n",
    "bagging_wt.fit(X_train, y_train)"
   ]
  },
  {
   "cell_type": "code",
   "execution_count": 65,
   "id": "9db20303",
   "metadata": {},
   "outputs": [
    {
     "data": {
      "image/png": "[encoded data removed]",
      "text/plain": [
       "<Figure size 432x288 with 2 Axes>"
      ]
     },
     "metadata": {
      "needs_background": "light"
     },
     "output_type": "display_data"
    },
    {
     "data": {
      "application/javascript": [
       "\n",
       "            setTimeout(function() {\n",
       "                var nbb_cell_id = 65;\n",
       "                var nbb_unformatted_code = \"confusion_matrix_sklearn(bagging_wt, X_test, y_test)\";\n",
       "                var nbb_formatted_code = \"confusion_matrix_sklearn(bagging_wt, X_test, y_test)\";\n",
       "                var nbb_cells = Jupyter.notebook.get_cells();\n",
       "                for (var i = 0; i < nbb_cells.length; ++i) {\n",
       "                    if (nbb_cells[i].input_prompt_number == nbb_cell_id) {\n",
       "                        if (nbb_cells[i].get_text() == nbb_unformatted_code) {\n",
       "                             nbb_cells[i].set_text(nbb_formatted_code);\n",
       "                        }\n",
       "                        break;\n",
       "                    }\n",
       "                }\n",
       "            }, 500);\n",
       "            "
      ],
      "text/plain": [
       "<IPython.core.display.Javascript object>"
      ]
     },
     "metadata": {},
     "output_type": "display_data"
    }
   ],
   "source": [
    "confusion_matrix_sklearn(bagging_wt, X_test, y_test)"
   ]
  },
  {
   "cell_type": "code",
   "execution_count": 66,
   "id": "b06f94ef",
   "metadata": {},
   "outputs": [
    {
     "name": "stdout",
     "output_type": "stream",
     "text": [
      "Training performance \n",
      "    Accuracy   Recall  Precision        F1\n",
      "0  0.986824  0.98927   0.990861  0.990065\n"
     ]
    },
    {
     "data": {
      "application/javascript": [
       "\n",
       "            setTimeout(function() {\n",
       "                var nbb_cell_id = 66;\n",
       "                var nbb_unformatted_code = \"bagging_wt_model_train_perf = model_performance_classification_sklearn(\\n    bagging_wt, X_train, y_train\\n)\\nprint(\\\"Training performance \\\\n\\\", bagging_wt_model_train_perf)\";\n",
       "                var nbb_formatted_code = \"bagging_wt_model_train_perf = model_performance_classification_sklearn(\\n    bagging_wt, X_train, y_train\\n)\\nprint(\\\"Training performance \\\\n\\\", bagging_wt_model_train_perf)\";\n",
       "                var nbb_cells = Jupyter.notebook.get_cells();\n",
       "                for (var i = 0; i < nbb_cells.length; ++i) {\n",
       "                    if (nbb_cells[i].input_prompt_number == nbb_cell_id) {\n",
       "                        if (nbb_cells[i].get_text() == nbb_unformatted_code) {\n",
       "                             nbb_cells[i].set_text(nbb_formatted_code);\n",
       "                        }\n",
       "                        break;\n",
       "                    }\n",
       "                }\n",
       "            }, 500);\n",
       "            "
      ],
      "text/plain": [
       "<IPython.core.display.Javascript object>"
      ]
     },
     "metadata": {},
     "output_type": "display_data"
    }
   ],
   "source": [
    "bagging_wt_model_train_perf = model_performance_classification_sklearn(\n",
    "    bagging_wt, X_train, y_train\n",
    ")\n",
    "print(\"Training performance \\n\", bagging_wt_model_train_perf)"
   ]
  },
  {
   "cell_type": "code",
   "execution_count": 67,
   "id": "094852aa",
   "metadata": {},
   "outputs": [
    {
     "name": "stdout",
     "output_type": "stream",
     "text": [
      "Testing performance \n",
      "    Accuracy    Recall  Precision        F1\n",
      "0  0.704082  0.791007    0.77662  0.783748\n"
     ]
    },
    {
     "data": {
      "application/javascript": [
       "\n",
       "            setTimeout(function() {\n",
       "                var nbb_cell_id = 67;\n",
       "                var nbb_unformatted_code = \"bagging_wt_model_test_perf = model_performance_classification_sklearn(\\n    bagging_wt, X_test, y_test\\n)\\nprint(\\\"Testing performance \\\\n\\\", bagging_wt_model_test_perf)\";\n",
       "                var nbb_formatted_code = \"bagging_wt_model_test_perf = model_performance_classification_sklearn(\\n    bagging_wt, X_test, y_test\\n)\\nprint(\\\"Testing performance \\\\n\\\", bagging_wt_model_test_perf)\";\n",
       "                var nbb_cells = Jupyter.notebook.get_cells();\n",
       "                for (var i = 0; i < nbb_cells.length; ++i) {\n",
       "                    if (nbb_cells[i].input_prompt_number == nbb_cell_id) {\n",
       "                        if (nbb_cells[i].get_text() == nbb_unformatted_code) {\n",
       "                             nbb_cells[i].set_text(nbb_formatted_code);\n",
       "                        }\n",
       "                        break;\n",
       "                    }\n",
       "                }\n",
       "            }, 500);\n",
       "            "
      ],
      "text/plain": [
       "<IPython.core.display.Javascript object>"
      ]
     },
     "metadata": {},
     "output_type": "display_data"
    }
   ],
   "source": [
    "bagging_wt_model_test_perf = model_performance_classification_sklearn(\n",
    "    bagging_wt, X_test, y_test\n",
    ")\n",
    "print(\"Testing performance \\n\", bagging_wt_model_test_perf)"
   ]
  },
  {
   "cell_type": "markdown",
   "id": "32df2890",
   "metadata": {},
   "source": [
    "#### Observations\n",
    "- Weighted Decision Tree Bagging Classsifier works well on training data, but is overfitting as the metrics did not generalize to the testing set.\n",
    "- With an `F1 score` of 78.4 it not a very good predictive model."
   ]
  },
  {
   "cell_type": "markdown",
   "id": "9e3b12af",
   "metadata": {},
   "source": [
    "### Random Forest"
   ]
  },
  {
   "cell_type": "code",
   "execution_count": 68,
   "id": "9b5e6545",
   "metadata": {},
   "outputs": [
    {
     "data": {
      "text/plain": [
       "RandomForestClassifier(random_state=1)"
      ]
     },
     "execution_count": 68,
     "metadata": {},
     "output_type": "execute_result"
    },
    {
     "data": {
      "application/javascript": [
       "\n",
       "            setTimeout(function() {\n",
       "                var nbb_cell_id = 68;\n",
       "                var nbb_unformatted_code = \"rf = RandomForestClassifier(random_state=1)\\nrf.fit(X_train, y_train)\";\n",
       "                var nbb_formatted_code = \"rf = RandomForestClassifier(random_state=1)\\nrf.fit(X_train, y_train)\";\n",
       "                var nbb_cells = Jupyter.notebook.get_cells();\n",
       "                for (var i = 0; i < nbb_cells.length; ++i) {\n",
       "                    if (nbb_cells[i].input_prompt_number == nbb_cell_id) {\n",
       "                        if (nbb_cells[i].get_text() == nbb_unformatted_code) {\n",
       "                             nbb_cells[i].set_text(nbb_formatted_code);\n",
       "                        }\n",
       "                        break;\n",
       "                    }\n",
       "                }\n",
       "            }, 500);\n",
       "            "
      ],
      "text/plain": [
       "<IPython.core.display.Javascript object>"
      ]
     },
     "metadata": {},
     "output_type": "display_data"
    }
   ],
   "source": [
    "rf = RandomForestClassifier(random_state=1)\n",
    "rf.fit(X_train, y_train)"
   ]
  },
  {
   "cell_type": "code",
   "execution_count": 69,
   "id": "18c4f754",
   "metadata": {},
   "outputs": [
    {
     "data": {
      "image/png": "[encoded data removed]",
      "text/plain": [
       "<Figure size 432x288 with 2 Axes>"
      ]
     },
     "metadata": {
      "needs_background": "light"
     },
     "output_type": "display_data"
    },
    {
     "data": {
      "application/javascript": [
       "\n",
       "            setTimeout(function() {\n",
       "                var nbb_cell_id = 69;\n",
       "                var nbb_unformatted_code = \"confusion_matrix_sklearn(rf, X_test, y_test)\";\n",
       "                var nbb_formatted_code = \"confusion_matrix_sklearn(rf, X_test, y_test)\";\n",
       "                var nbb_cells = Jupyter.notebook.get_cells();\n",
       "                for (var i = 0; i < nbb_cells.length; ++i) {\n",
       "                    if (nbb_cells[i].input_prompt_number == nbb_cell_id) {\n",
       "                        if (nbb_cells[i].get_text() == nbb_unformatted_code) {\n",
       "                             nbb_cells[i].set_text(nbb_formatted_code);\n",
       "                        }\n",
       "                        break;\n",
       "                    }\n",
       "                }\n",
       "            }, 500);\n",
       "            "
      ],
      "text/plain": [
       "<IPython.core.display.Javascript object>"
      ]
     },
     "metadata": {},
     "output_type": "display_data"
    }
   ],
   "source": [
    "confusion_matrix_sklearn(rf, X_test, y_test)"
   ]
  },
  {
   "cell_type": "code",
   "execution_count": 70,
   "id": "f9ac27ee",
   "metadata": {},
   "outputs": [
    {
     "name": "stdout",
     "output_type": "stream",
     "text": [
      "Training performance \n",
      "    Accuracy  Recall  Precision        F1\n",
      "0  0.999944     1.0   0.999916  0.999958\n"
     ]
    },
    {
     "data": {
      "application/javascript": [
       "\n",
       "            setTimeout(function() {\n",
       "                var nbb_cell_id = 70;\n",
       "                var nbb_unformatted_code = \"rf_model_train_perf = model_performance_classification_sklearn(rf, X_train, y_train)\\nprint(\\\"Training performance \\\\n\\\", rf_model_train_perf)\";\n",
       "                var nbb_formatted_code = \"rf_model_train_perf = model_performance_classification_sklearn(rf, X_train, y_train)\\nprint(\\\"Training performance \\\\n\\\", rf_model_train_perf)\";\n",
       "                var nbb_cells = Jupyter.notebook.get_cells();\n",
       "                for (var i = 0; i < nbb_cells.length; ++i) {\n",
       "                    if (nbb_cells[i].input_prompt_number == nbb_cell_id) {\n",
       "                        if (nbb_cells[i].get_text() == nbb_unformatted_code) {\n",
       "                             nbb_cells[i].set_text(nbb_formatted_code);\n",
       "                        }\n",
       "                        break;\n",
       "                    }\n",
       "                }\n",
       "            }, 500);\n",
       "            "
      ],
      "text/plain": [
       "<IPython.core.display.Javascript object>"
      ]
     },
     "metadata": {},
     "output_type": "display_data"
    }
   ],
   "source": [
    "rf_model_train_perf = model_performance_classification_sklearn(rf, X_train, y_train)\n",
    "print(\"Training performance \\n\", rf_model_train_perf)"
   ]
  },
  {
   "cell_type": "code",
   "execution_count": 71,
   "id": "4f4cacfd",
   "metadata": {},
   "outputs": [
    {
     "name": "stdout",
     "output_type": "stream",
     "text": [
      "Testing performance \n",
      "    Accuracy    Recall  Precision        F1\n",
      "0  0.728938  0.836743   0.779576  0.807148\n"
     ]
    },
    {
     "data": {
      "application/javascript": [
       "\n",
       "            setTimeout(function() {\n",
       "                var nbb_cell_id = 71;\n",
       "                var nbb_unformatted_code = \"rf_model_test_perf = model_performance_classification_sklearn(rf, X_test, y_test)\\nprint(\\\"Testing performance \\\\n\\\", rf_model_test_perf)\";\n",
       "                var nbb_formatted_code = \"rf_model_test_perf = model_performance_classification_sklearn(rf, X_test, y_test)\\nprint(\\\"Testing performance \\\\n\\\", rf_model_test_perf)\";\n",
       "                var nbb_cells = Jupyter.notebook.get_cells();\n",
       "                for (var i = 0; i < nbb_cells.length; ++i) {\n",
       "                    if (nbb_cells[i].input_prompt_number == nbb_cell_id) {\n",
       "                        if (nbb_cells[i].get_text() == nbb_unformatted_code) {\n",
       "                             nbb_cells[i].set_text(nbb_formatted_code);\n",
       "                        }\n",
       "                        break;\n",
       "                    }\n",
       "                }\n",
       "            }, 500);\n",
       "            "
      ],
      "text/plain": [
       "<IPython.core.display.Javascript object>"
      ]
     },
     "metadata": {},
     "output_type": "display_data"
    }
   ],
   "source": [
    "rf_model_test_perf = model_performance_classification_sklearn(rf, X_test, y_test)\n",
    "print(\"Testing performance \\n\", rf_model_test_perf)"
   ]
  },
  {
   "cell_type": "markdown",
   "id": "207eed2e",
   "metadata": {},
   "source": [
    "#### Observations\n",
    "- Random Forest Classsifier works well on training data, but is overfitting as the metrics did not generalize to the testing set.\n",
    "- With an `F1 score` of 80.7 it not a very good predictive model."
   ]
  },
  {
   "cell_type": "markdown",
   "id": "9b516f5b",
   "metadata": {},
   "source": [
    "### AdaBoost"
   ]
  },
  {
   "cell_type": "code",
   "execution_count": 72,
   "id": "910ee3c5",
   "metadata": {},
   "outputs": [
    {
     "data": {
      "text/plain": [
       "AdaBoostClassifier(random_state=1)"
      ]
     },
     "execution_count": 72,
     "metadata": {},
     "output_type": "execute_result"
    },
    {
     "data": {
      "application/javascript": [
       "\n",
       "            setTimeout(function() {\n",
       "                var nbb_cell_id = 72;\n",
       "                var nbb_unformatted_code = \"ab_classifier = AdaBoostClassifier(random_state=1)\\nab_classifier.fit(X_train, y_train)\";\n",
       "                var nbb_formatted_code = \"ab_classifier = AdaBoostClassifier(random_state=1)\\nab_classifier.fit(X_train, y_train)\";\n",
       "                var nbb_cells = Jupyter.notebook.get_cells();\n",
       "                for (var i = 0; i < nbb_cells.length; ++i) {\n",
       "                    if (nbb_cells[i].input_prompt_number == nbb_cell_id) {\n",
       "                        if (nbb_cells[i].get_text() == nbb_unformatted_code) {\n",
       "                             nbb_cells[i].set_text(nbb_formatted_code);\n",
       "                        }\n",
       "                        break;\n",
       "                    }\n",
       "                }\n",
       "            }, 500);\n",
       "            "
      ],
      "text/plain": [
       "<IPython.core.display.Javascript object>"
      ]
     },
     "metadata": {},
     "output_type": "display_data"
    }
   ],
   "source": [
    "ab_classifier = AdaBoostClassifier(random_state=1)\n",
    "ab_classifier.fit(X_train, y_train)"
   ]
  },
  {
   "cell_type": "code",
   "execution_count": 73,
   "id": "bdf613cd",
   "metadata": {},
   "outputs": [
    {
     "data": {
      "image/png": "[encoded data removed]",
      "text/plain": [
       "<Figure size 432x288 with 2 Axes>"
      ]
     },
     "metadata": {
      "needs_background": "light"
     },
     "output_type": "display_data"
    },
    {
     "data": {
      "application/javascript": [
       "\n",
       "            setTimeout(function() {\n",
       "                var nbb_cell_id = 73;\n",
       "                var nbb_unformatted_code = \"confusion_matrix_sklearn(ab_classifier, X_test, y_test)\";\n",
       "                var nbb_formatted_code = \"confusion_matrix_sklearn(ab_classifier, X_test, y_test)\";\n",
       "                var nbb_cells = Jupyter.notebook.get_cells();\n",
       "                for (var i = 0; i < nbb_cells.length; ++i) {\n",
       "                    if (nbb_cells[i].input_prompt_number == nbb_cell_id) {\n",
       "                        if (nbb_cells[i].get_text() == nbb_unformatted_code) {\n",
       "                             nbb_cells[i].set_text(nbb_formatted_code);\n",
       "                        }\n",
       "                        break;\n",
       "                    }\n",
       "                }\n",
       "            }, 500);\n",
       "            "
      ],
      "text/plain": [
       "<IPython.core.display.Javascript object>"
      ]
     },
     "metadata": {},
     "output_type": "display_data"
    }
   ],
   "source": [
    "confusion_matrix_sklearn(ab_classifier, X_test, y_test)"
   ]
  },
  {
   "cell_type": "code",
   "execution_count": 74,
   "id": "69f36044",
   "metadata": {},
   "outputs": [
    {
     "name": "stdout",
     "output_type": "stream",
     "text": [
      "Training performance \n",
      "    Accuracy    Recall  Precision        F1\n",
      "0  0.737441  0.885941    0.75881  0.817462\n"
     ]
    },
    {
     "data": {
      "application/javascript": [
       "\n",
       "            setTimeout(function() {\n",
       "                var nbb_cell_id = 74;\n",
       "                var nbb_unformatted_code = \"ab_classifier_model_train_perf = model_performance_classification_sklearn(\\n    ab_classifier, X_train, y_train\\n)\\nprint(\\\"Training performance \\\\n\\\", ab_classifier_model_train_perf)\";\n",
       "                var nbb_formatted_code = \"ab_classifier_model_train_perf = model_performance_classification_sklearn(\\n    ab_classifier, X_train, y_train\\n)\\nprint(\\\"Training performance \\\\n\\\", ab_classifier_model_train_perf)\";\n",
       "                var nbb_cells = Jupyter.notebook.get_cells();\n",
       "                for (var i = 0; i < nbb_cells.length; ++i) {\n",
       "                    if (nbb_cells[i].input_prompt_number == nbb_cell_id) {\n",
       "                        if (nbb_cells[i].get_text() == nbb_unformatted_code) {\n",
       "                             nbb_cells[i].set_text(nbb_formatted_code);\n",
       "                        }\n",
       "                        break;\n",
       "                    }\n",
       "                }\n",
       "            }, 500);\n",
       "            "
      ],
      "text/plain": [
       "<IPython.core.display.Javascript object>"
      ]
     },
     "metadata": {},
     "output_type": "display_data"
    }
   ],
   "source": [
    "ab_classifier_model_train_perf = model_performance_classification_sklearn(\n",
    "    ab_classifier, X_train, y_train\n",
    ")\n",
    "print(\"Training performance \\n\", ab_classifier_model_train_perf)"
   ]
  },
  {
   "cell_type": "code",
   "execution_count": 75,
   "id": "c5da6838",
   "metadata": {},
   "outputs": [
    {
     "name": "stdout",
     "output_type": "stream",
     "text": [
      "Testing performance \n",
      "    Accuracy    Recall  Precision        F1\n",
      "0  0.738488  0.885951   0.765294  0.821215\n"
     ]
    },
    {
     "data": {
      "application/javascript": [
       "\n",
       "            setTimeout(function() {\n",
       "                var nbb_cell_id = 75;\n",
       "                var nbb_unformatted_code = \"ab_classifier_model_test_perf = model_performance_classification_sklearn(\\n    ab_classifier, X_test, y_test\\n)\\nprint(\\\"Testing performance \\\\n\\\", ab_classifier_model_test_perf)\";\n",
       "                var nbb_formatted_code = \"ab_classifier_model_test_perf = model_performance_classification_sklearn(\\n    ab_classifier, X_test, y_test\\n)\\nprint(\\\"Testing performance \\\\n\\\", ab_classifier_model_test_perf)\";\n",
       "                var nbb_cells = Jupyter.notebook.get_cells();\n",
       "                for (var i = 0; i < nbb_cells.length; ++i) {\n",
       "                    if (nbb_cells[i].input_prompt_number == nbb_cell_id) {\n",
       "                        if (nbb_cells[i].get_text() == nbb_unformatted_code) {\n",
       "                             nbb_cells[i].set_text(nbb_formatted_code);\n",
       "                        }\n",
       "                        break;\n",
       "                    }\n",
       "                }\n",
       "            }, 500);\n",
       "            "
      ],
      "text/plain": [
       "<IPython.core.display.Javascript object>"
      ]
     },
     "metadata": {},
     "output_type": "display_data"
    }
   ],
   "source": [
    "ab_classifier_model_test_perf = model_performance_classification_sklearn(\n",
    "    ab_classifier, X_test, y_test\n",
    ")\n",
    "print(\"Testing performance \\n\", ab_classifier_model_test_perf)"
   ]
  },
  {
   "cell_type": "markdown",
   "id": "2c87c71b",
   "metadata": {},
   "source": [
    "#### Observations\n",
    "- AdaBoost Classsifier works well on training data, and is generalizing the data very well, almost exactly. Best model so far.\n",
    "- With an `F1 score` of 82.1 it has a good predicting model."
   ]
  },
  {
   "cell_type": "markdown",
   "id": "85302997",
   "metadata": {},
   "source": [
    "### Gradient Boosting "
   ]
  },
  {
   "cell_type": "code",
   "execution_count": 76,
   "id": "38dbe190",
   "metadata": {},
   "outputs": [
    {
     "data": {
      "text/plain": [
       "GradientBoostingClassifier(random_state=1)"
      ]
     },
     "execution_count": 76,
     "metadata": {},
     "output_type": "execute_result"
    },
    {
     "data": {
      "application/javascript": [
       "\n",
       "            setTimeout(function() {\n",
       "                var nbb_cell_id = 76;\n",
       "                var nbb_unformatted_code = \"gb_classifier = GradientBoostingClassifier(random_state=1)\\ngb_classifier.fit(X_train, y_train)\";\n",
       "                var nbb_formatted_code = \"gb_classifier = GradientBoostingClassifier(random_state=1)\\ngb_classifier.fit(X_train, y_train)\";\n",
       "                var nbb_cells = Jupyter.notebook.get_cells();\n",
       "                for (var i = 0; i < nbb_cells.length; ++i) {\n",
       "                    if (nbb_cells[i].input_prompt_number == nbb_cell_id) {\n",
       "                        if (nbb_cells[i].get_text() == nbb_unformatted_code) {\n",
       "                             nbb_cells[i].set_text(nbb_formatted_code);\n",
       "                        }\n",
       "                        break;\n",
       "                    }\n",
       "                }\n",
       "            }, 500);\n",
       "            "
      ],
      "text/plain": [
       "<IPython.core.display.Javascript object>"
      ]
     },
     "metadata": {},
     "output_type": "display_data"
    }
   ],
   "source": [
    "gb_classifier = GradientBoostingClassifier(random_state=1)\n",
    "gb_classifier.fit(X_train, y_train)"
   ]
  },
  {
   "cell_type": "code",
   "execution_count": 77,
   "id": "76cbec28",
   "metadata": {},
   "outputs": [
    {
     "data": {
      "image/png": "[encoded data removed]",
      "text/plain": [
       "<Figure size 432x288 with 2 Axes>"
      ]
     },
     "metadata": {
      "needs_background": "light"
     },
     "output_type": "display_data"
    },
    {
     "data": {
      "application/javascript": [
       "\n",
       "            setTimeout(function() {\n",
       "                var nbb_cell_id = 77;\n",
       "                var nbb_unformatted_code = \"confusion_matrix_sklearn(gb_classifier, X_test, y_test)\";\n",
       "                var nbb_formatted_code = \"confusion_matrix_sklearn(gb_classifier, X_test, y_test)\";\n",
       "                var nbb_cells = Jupyter.notebook.get_cells();\n",
       "                for (var i = 0; i < nbb_cells.length; ++i) {\n",
       "                    if (nbb_cells[i].input_prompt_number == nbb_cell_id) {\n",
       "                        if (nbb_cells[i].get_text() == nbb_unformatted_code) {\n",
       "                             nbb_cells[i].set_text(nbb_formatted_code);\n",
       "                        }\n",
       "                        break;\n",
       "                    }\n",
       "                }\n",
       "            }, 500);\n",
       "            "
      ],
      "text/plain": [
       "<IPython.core.display.Javascript object>"
      ]
     },
     "metadata": {},
     "output_type": "display_data"
    }
   ],
   "source": [
    "confusion_matrix_sklearn(gb_classifier, X_test, y_test)"
   ]
  },
  {
   "cell_type": "code",
   "execution_count": 78,
   "id": "53cd7070",
   "metadata": {},
   "outputs": [
    {
     "name": "stdout",
     "output_type": "stream",
     "text": [
      "Training performance \n",
      "    Accuracy    Recall  Precision        F1\n",
      "0  0.755607  0.876479   0.781704  0.826383\n"
     ]
    },
    {
     "data": {
      "application/javascript": [
       "\n",
       "            setTimeout(function() {\n",
       "                var nbb_cell_id = 78;\n",
       "                var nbb_unformatted_code = \"gb_classifier_model_train_perf = model_performance_classification_sklearn(\\n    gb_classifier, X_train, y_train\\n)\\nprint(\\\"Training performance \\\\n\\\", gb_classifier_model_train_perf)\";\n",
       "                var nbb_formatted_code = \"gb_classifier_model_train_perf = model_performance_classification_sklearn(\\n    gb_classifier, X_train, y_train\\n)\\nprint(\\\"Training performance \\\\n\\\", gb_classifier_model_train_perf)\";\n",
       "                var nbb_cells = Jupyter.notebook.get_cells();\n",
       "                for (var i = 0; i < nbb_cells.length; ++i) {\n",
       "                    if (nbb_cells[i].input_prompt_number == nbb_cell_id) {\n",
       "                        if (nbb_cells[i].get_text() == nbb_unformatted_code) {\n",
       "                             nbb_cells[i].set_text(nbb_formatted_code);\n",
       "                        }\n",
       "                        break;\n",
       "                    }\n",
       "                }\n",
       "            }, 500);\n",
       "            "
      ],
      "text/plain": [
       "<IPython.core.display.Javascript object>"
      ]
     },
     "metadata": {},
     "output_type": "display_data"
    }
   ],
   "source": [
    "gb_classifier_model_train_perf = model_performance_classification_sklearn(\n",
    "    gb_classifier, X_train, y_train\n",
    ")\n",
    "print(\"Training performance \\n\", gb_classifier_model_train_perf)"
   ]
  },
  {
   "cell_type": "code",
   "execution_count": 79,
   "id": "6ab1cc2a",
   "metadata": {},
   "outputs": [
    {
     "name": "stdout",
     "output_type": "stream",
     "text": [
      "Testing performance \n",
      "    Accuracy    Recall  Precision        F1\n",
      "0  0.751308  0.870513   0.785752  0.825964\n"
     ]
    },
    {
     "data": {
      "application/javascript": [
       "\n",
       "            setTimeout(function() {\n",
       "                var nbb_cell_id = 79;\n",
       "                var nbb_unformatted_code = \"gb_classifier_model_test_perf = model_performance_classification_sklearn(\\n    gb_classifier, X_test, y_test\\n)\\nprint(\\\"Testing performance \\\\n\\\", gb_classifier_model_test_perf)\";\n",
       "                var nbb_formatted_code = \"gb_classifier_model_test_perf = model_performance_classification_sklearn(\\n    gb_classifier, X_test, y_test\\n)\\nprint(\\\"Testing performance \\\\n\\\", gb_classifier_model_test_perf)\";\n",
       "                var nbb_cells = Jupyter.notebook.get_cells();\n",
       "                for (var i = 0; i < nbb_cells.length; ++i) {\n",
       "                    if (nbb_cells[i].input_prompt_number == nbb_cell_id) {\n",
       "                        if (nbb_cells[i].get_text() == nbb_unformatted_code) {\n",
       "                             nbb_cells[i].set_text(nbb_formatted_code);\n",
       "                        }\n",
       "                        break;\n",
       "                    }\n",
       "                }\n",
       "            }, 500);\n",
       "            "
      ],
      "text/plain": [
       "<IPython.core.display.Javascript object>"
      ]
     },
     "metadata": {},
     "output_type": "display_data"
    }
   ],
   "source": [
    "gb_classifier_model_test_perf = model_performance_classification_sklearn(\n",
    "    gb_classifier, X_test, y_test\n",
    ")\n",
    "print(\"Testing performance \\n\", gb_classifier_model_test_perf)"
   ]
  },
  {
   "cell_type": "markdown",
   "id": "c8eb6f15",
   "metadata": {},
   "source": [
    "#### Observations\n",
    "- GradientBoosting Classsifier works well on training data, and is generalizing the data very well, almost exactly. Best model so far.\n",
    "- With an `F1 score` of 82.6 it has a good predicting model."
   ]
  },
  {
   "cell_type": "markdown",
   "id": "9dc00e44",
   "metadata": {},
   "source": [
    "### XGBoost"
   ]
  },
  {
   "cell_type": "code",
   "execution_count": 80,
   "id": "1c44d9a1",
   "metadata": {},
   "outputs": [
    {
     "name": "stdout",
     "output_type": "stream",
     "text": [
      "[11:19:32] WARNING: C:/Users/Administrator/workspace/xgboost-win64_release_1.5.1/src/learner.cc:1115: Starting in XGBoost 1.3.0, the default evaluation metric used with the objective 'binary:logistic' was changed from 'error' to 'logloss'. Explicitly set eval_metric if you'd like to restore the old behavior.\n"
     ]
    },
    {
     "data": {
      "text/plain": [
       "XGBClassifier(base_score=0.5, booster='gbtree', colsample_bylevel=1,\n",
       "              colsample_bynode=1, colsample_bytree=1, enable_categorical=False,\n",
       "              gamma=0, gpu_id=-1, importance_type=None,\n",
       "              interaction_constraints='', learning_rate=0.300000012,\n",
       "              max_delta_step=0, max_depth=6, min_child_weight=1, missing=nan,\n",
       "              monotone_constraints='()', n_estimators=100, n_jobs=4,\n",
       "              num_parallel_tree=1, predictor='auto', random_state=1,\n",
       "              reg_alpha=0, reg_lambda=1, scale_pos_weight=1, subsample=1,\n",
       "              tree_method='exact', validate_parameters=1, verbosity=None)"
      ]
     },
     "execution_count": 80,
     "metadata": {},
     "output_type": "execute_result"
    },
    {
     "data": {
      "application/javascript": [
       "\n",
       "            setTimeout(function() {\n",
       "                var nbb_cell_id = 80;\n",
       "                var nbb_unformatted_code = \"xgb_classifier = XGBClassifier(random_state=1)\\nxgb_classifier.fit(X_train, y_train)\";\n",
       "                var nbb_formatted_code = \"xgb_classifier = XGBClassifier(random_state=1)\\nxgb_classifier.fit(X_train, y_train)\";\n",
       "                var nbb_cells = Jupyter.notebook.get_cells();\n",
       "                for (var i = 0; i < nbb_cells.length; ++i) {\n",
       "                    if (nbb_cells[i].input_prompt_number == nbb_cell_id) {\n",
       "                        if (nbb_cells[i].get_text() == nbb_unformatted_code) {\n",
       "                             nbb_cells[i].set_text(nbb_formatted_code);\n",
       "                        }\n",
       "                        break;\n",
       "                    }\n",
       "                }\n",
       "            }, 500);\n",
       "            "
      ],
      "text/plain": [
       "<IPython.core.display.Javascript object>"
      ]
     },
     "metadata": {},
     "output_type": "display_data"
    }
   ],
   "source": [
    "xgb_classifier = XGBClassifier(random_state=1)\n",
    "xgb_classifier.fit(X_train, y_train)"
   ]
  },
  {
   "cell_type": "code",
   "execution_count": 81,
   "id": "992524ed",
   "metadata": {},
   "outputs": [
    {
     "data": {
      "image/png": "[encoded data removed]",
      "text/plain": [
       "<Figure size 432x288 with 2 Axes>"
      ]
     },
     "metadata": {
      "needs_background": "light"
     },
     "output_type": "display_data"
    },
    {
     "data": {
      "application/javascript": [
       "\n",
       "            setTimeout(function() {\n",
       "                var nbb_cell_id = 81;\n",
       "                var nbb_unformatted_code = \"confusion_matrix_sklearn(xgb_classifier, X_test, y_test)\";\n",
       "                var nbb_formatted_code = \"confusion_matrix_sklearn(xgb_classifier, X_test, y_test)\";\n",
       "                var nbb_cells = Jupyter.notebook.get_cells();\n",
       "                for (var i = 0; i < nbb_cells.length; ++i) {\n",
       "                    if (nbb_cells[i].input_prompt_number == nbb_cell_id) {\n",
       "                        if (nbb_cells[i].get_text() == nbb_unformatted_code) {\n",
       "                             nbb_cells[i].set_text(nbb_formatted_code);\n",
       "                        }\n",
       "                        break;\n",
       "                    }\n",
       "                }\n",
       "            }, 500);\n",
       "            "
      ],
      "text/plain": [
       "<IPython.core.display.Javascript object>"
      ]
     },
     "metadata": {},
     "output_type": "display_data"
    }
   ],
   "source": [
    "confusion_matrix_sklearn(xgb_classifier, X_test, y_test)"
   ]
  },
  {
   "cell_type": "code",
   "execution_count": 82,
   "id": "56320a03",
   "metadata": {},
   "outputs": [
    {
     "name": "stdout",
     "output_type": "stream",
     "text": [
      "Training performance \n",
      "    Accuracy   Recall  Precision        F1\n",
      "0  0.832081  0.92658   0.837623  0.879859\n"
     ]
    },
    {
     "data": {
      "application/javascript": [
       "\n",
       "            setTimeout(function() {\n",
       "                var nbb_cell_id = 82;\n",
       "                var nbb_unformatted_code = \"xgb_classifier_model_train_perf = model_performance_classification_sklearn(\\n    xgb_classifier, X_train, y_train\\n)\\nprint(\\\"Training performance \\\\n\\\", xgb_classifier_model_train_perf)\";\n",
       "                var nbb_formatted_code = \"xgb_classifier_model_train_perf = model_performance_classification_sklearn(\\n    xgb_classifier, X_train, y_train\\n)\\nprint(\\\"Training performance \\\\n\\\", xgb_classifier_model_train_perf)\";\n",
       "                var nbb_cells = Jupyter.notebook.get_cells();\n",
       "                for (var i = 0; i < nbb_cells.length; ++i) {\n",
       "                    if (nbb_cells[i].input_prompt_number == nbb_cell_id) {\n",
       "                        if (nbb_cells[i].get_text() == nbb_unformatted_code) {\n",
       "                             nbb_cells[i].set_text(nbb_formatted_code);\n",
       "                        }\n",
       "                        break;\n",
       "                    }\n",
       "                }\n",
       "            }, 500);\n",
       "            "
      ],
      "text/plain": [
       "<IPython.core.display.Javascript object>"
      ]
     },
     "metadata": {},
     "output_type": "display_data"
    }
   ],
   "source": [
    "xgb_classifier_model_train_perf = model_performance_classification_sklearn(\n",
    "    xgb_classifier, X_train, y_train\n",
    ")\n",
    "print(\"Training performance \\n\", xgb_classifier_model_train_perf)"
   ]
  },
  {
   "cell_type": "code",
   "execution_count": 83,
   "id": "25fca2f7",
   "metadata": {},
   "outputs": [
    {
     "name": "stdout",
     "output_type": "stream",
     "text": [
      "Testing performance \n",
      "    Accuracy   Recall  Precision        F1\n",
      "0  0.736133  0.85411   0.778266  0.814426\n"
     ]
    },
    {
     "data": {
      "application/javascript": [
       "\n",
       "            setTimeout(function() {\n",
       "                var nbb_cell_id = 83;\n",
       "                var nbb_unformatted_code = \"xgb_classifier_model_test_perf = model_performance_classification_sklearn(\\n    xgb_classifier, X_test, y_test\\n)\\nprint(\\\"Testing performance \\\\n\\\", xgb_classifier_model_test_perf)\";\n",
       "                var nbb_formatted_code = \"xgb_classifier_model_test_perf = model_performance_classification_sklearn(\\n    xgb_classifier, X_test, y_test\\n)\\nprint(\\\"Testing performance \\\\n\\\", xgb_classifier_model_test_perf)\";\n",
       "                var nbb_cells = Jupyter.notebook.get_cells();\n",
       "                for (var i = 0; i < nbb_cells.length; ++i) {\n",
       "                    if (nbb_cells[i].input_prompt_number == nbb_cell_id) {\n",
       "                        if (nbb_cells[i].get_text() == nbb_unformatted_code) {\n",
       "                             nbb_cells[i].set_text(nbb_formatted_code);\n",
       "                        }\n",
       "                        break;\n",
       "                    }\n",
       "                }\n",
       "            }, 500);\n",
       "            "
      ],
      "text/plain": [
       "<IPython.core.display.Javascript object>"
      ]
     },
     "metadata": {},
     "output_type": "display_data"
    }
   ],
   "source": [
    "xgb_classifier_model_test_perf = model_performance_classification_sklearn(\n",
    "    xgb_classifier, X_test, y_test\n",
    ")\n",
    "print(\"Testing performance \\n\", xgb_classifier_model_test_perf)"
   ]
  },
  {
   "cell_type": "markdown",
   "id": "6b18b49a",
   "metadata": {},
   "source": [
    "#### Observations\n",
    "- XGBoost Classsifier works well on training data, and is generalizing the data very well. Gradient Boost model still seems to fair better. Maybe the results will change after tuning.\n",
    "- With an `F1 score` of 81.4 it has a good predicting model."
   ]
  },
  {
   "cell_type": "markdown",
   "id": "cdfbc940",
   "metadata": {},
   "source": [
    "##  Will tuning the hyperparameters improve the model performance?"
   ]
  },
  {
   "cell_type": "markdown",
   "id": "e79fc2f2",
   "metadata": {},
   "source": [
    "### Tuning Decision Tree"
   ]
  },
  {
   "cell_type": "code",
   "execution_count": 84,
   "id": "2e2bec5c",
   "metadata": {},
   "outputs": [
    {
     "data": {
      "text/plain": [
       "DecisionTreeClassifier(min_impurity_decrease=0.0001, min_samples_leaf=4,\n",
       "                       random_state=1)"
      ]
     },
     "execution_count": 84,
     "metadata": {},
     "output_type": "execute_result"
    },
    {
     "data": {
      "application/javascript": [
       "\n",
       "            setTimeout(function() {\n",
       "                var nbb_cell_id = 84;\n",
       "                var nbb_unformatted_code = \"# Choose the type of classifier.\\ndtree_tuned = DecisionTreeClassifier(random_state=1)\\n\\n# Grid of parameters to choose from\\nparameters = {\\n    \\\"max_depth\\\": [np.arange(2, 5, 1), None],\\n    \\\"min_samples_leaf\\\": np.arange(1, 6, 1),\\n    \\\"min_impurity_decrease\\\": [0.000001, 0.00001, 0.0001],\\n}\\n\\n# Run the grid search\\ngrid = GridSearchCV(dtree_tuned, parameters, scoring=\\\"f1\\\", cv=5)\\ngrid = grid.fit(X_train, y_train)\\n\\n# Set the clf to the best combination of parameters\\ndtree_tuned = grid.best_estimator_\\n\\n# Fit the best algorithm to the data.\\ndtree_tuned.fit(X_train, y_train)\";\n",
       "                var nbb_formatted_code = \"# Choose the type of classifier.\\ndtree_tuned = DecisionTreeClassifier(random_state=1)\\n\\n# Grid of parameters to choose from\\nparameters = {\\n    \\\"max_depth\\\": [np.arange(2, 5, 1), None],\\n    \\\"min_samples_leaf\\\": np.arange(1, 6, 1),\\n    \\\"min_impurity_decrease\\\": [0.000001, 0.00001, 0.0001],\\n}\\n\\n# Run the grid search\\ngrid = GridSearchCV(dtree_tuned, parameters, scoring=\\\"f1\\\", cv=5)\\ngrid = grid.fit(X_train, y_train)\\n\\n# Set the clf to the best combination of parameters\\ndtree_tuned = grid.best_estimator_\\n\\n# Fit the best algorithm to the data.\\ndtree_tuned.fit(X_train, y_train)\";\n",
       "                var nbb_cells = Jupyter.notebook.get_cells();\n",
       "                for (var i = 0; i < nbb_cells.length; ++i) {\n",
       "                    if (nbb_cells[i].input_prompt_number == nbb_cell_id) {\n",
       "                        if (nbb_cells[i].get_text() == nbb_unformatted_code) {\n",
       "                             nbb_cells[i].set_text(nbb_formatted_code);\n",
       "                        }\n",
       "                        break;\n",
       "                    }\n",
       "                }\n",
       "            }, 500);\n",
       "            "
      ],
      "text/plain": [
       "<IPython.core.display.Javascript object>"
      ]
     },
     "metadata": {},
     "output_type": "display_data"
    }
   ],
   "source": [
    "# Choose the type of classifier.\n",
    "dtree_tuned = DecisionTreeClassifier(random_state=1)\n",
    "\n",
    "# Grid of parameters to choose from\n",
    "parameters = {\n",
    "    \"max_depth\": [np.arange(2, 5, 1), None],\n",
    "    \"min_samples_leaf\": np.arange(1, 6, 1),\n",
    "    \"min_impurity_decrease\": [0.000001, 0.00001, 0.0001],\n",
    "}\n",
    "\n",
    "# Run the grid search\n",
    "grid = GridSearchCV(dtree_tuned, parameters, scoring=\"f1\", cv=5)\n",
    "grid = grid.fit(X_train, y_train)\n",
    "\n",
    "# Set the clf to the best combination of parameters\n",
    "dtree_tuned = grid.best_estimator_\n",
    "\n",
    "# Fit the best algorithm to the data.\n",
    "dtree_tuned.fit(X_train, y_train)"
   ]
  },
  {
   "cell_type": "code",
   "execution_count": 85,
   "id": "b0a858c6",
   "metadata": {},
   "outputs": [
    {
     "data": {
      "image/png": "[encoded data removed]",
      "text/plain": [
       "<Figure size 432x288 with 2 Axes>"
      ]
     },
     "metadata": {
      "needs_background": "light"
     },
     "output_type": "display_data"
    },
    {
     "data": {
      "application/javascript": [
       "\n",
       "            setTimeout(function() {\n",
       "                var nbb_cell_id = 85;\n",
       "                var nbb_unformatted_code = \"confusion_matrix_sklearn(dtree_tuned, X_test, y_test)\";\n",
       "                var nbb_formatted_code = \"confusion_matrix_sklearn(dtree_tuned, X_test, y_test)\";\n",
       "                var nbb_cells = Jupyter.notebook.get_cells();\n",
       "                for (var i = 0; i < nbb_cells.length; ++i) {\n",
       "                    if (nbb_cells[i].input_prompt_number == nbb_cell_id) {\n",
       "                        if (nbb_cells[i].get_text() == nbb_unformatted_code) {\n",
       "                             nbb_cells[i].set_text(nbb_formatted_code);\n",
       "                        }\n",
       "                        break;\n",
       "                    }\n",
       "                }\n",
       "            }, 500);\n",
       "            "
      ],
      "text/plain": [
       "<IPython.core.display.Javascript object>"
      ]
     },
     "metadata": {},
     "output_type": "display_data"
    }
   ],
   "source": [
    "confusion_matrix_sklearn(dtree_tuned, X_test, y_test)"
   ]
  },
  {
   "cell_type": "code",
   "execution_count": 86,
   "id": "68c247e9",
   "metadata": {},
   "outputs": [
    {
     "name": "stdout",
     "output_type": "stream",
     "text": [
      "Training performance \n",
      "    Accuracy    Recall  Precision       F1\n",
      "0  0.788686  0.879858    0.81608  0.84677\n"
     ]
    },
    {
     "data": {
      "application/javascript": [
       "\n",
       "            setTimeout(function() {\n",
       "                var nbb_cell_id = 86;\n",
       "                var nbb_unformatted_code = \"dtree_tuned_train_perf = model_performance_classification_sklearn(\\n    dtree_tuned, X_train, y_train\\n)\\nprint(\\\"Training performance \\\\n\\\", dtree_tuned_train_perf)\";\n",
       "                var nbb_formatted_code = \"dtree_tuned_train_perf = model_performance_classification_sklearn(\\n    dtree_tuned, X_train, y_train\\n)\\nprint(\\\"Training performance \\\\n\\\", dtree_tuned_train_perf)\";\n",
       "                var nbb_cells = Jupyter.notebook.get_cells();\n",
       "                for (var i = 0; i < nbb_cells.length; ++i) {\n",
       "                    if (nbb_cells[i].input_prompt_number == nbb_cell_id) {\n",
       "                        if (nbb_cells[i].get_text() == nbb_unformatted_code) {\n",
       "                             nbb_cells[i].set_text(nbb_formatted_code);\n",
       "                        }\n",
       "                        break;\n",
       "                    }\n",
       "                }\n",
       "            }, 500);\n",
       "            "
      ],
      "text/plain": [
       "<IPython.core.display.Javascript object>"
      ]
     },
     "metadata": {},
     "output_type": "display_data"
    }
   ],
   "source": [
    "dtree_tuned_train_perf = model_performance_classification_sklearn(\n",
    "    dtree_tuned, X_train, y_train\n",
    ")\n",
    "print(\"Training performance \\n\", dtree_tuned_train_perf)"
   ]
  },
  {
   "cell_type": "code",
   "execution_count": 87,
   "id": "22d23907",
   "metadata": {},
   "outputs": [
    {
     "name": "stdout",
     "output_type": "stream",
     "text": [
      "Testing performance \n",
      "    Accuracy    Recall  Precision        F1\n",
      "0   0.72763  0.828638   0.782434  0.804873\n"
     ]
    },
    {
     "data": {
      "application/javascript": [
       "\n",
       "            setTimeout(function() {\n",
       "                var nbb_cell_id = 87;\n",
       "                var nbb_unformatted_code = \"dtree_tuned_test_perf = model_performance_classification_sklearn(\\n    dtree_tuned, X_test, y_test\\n)\\nprint(\\\"Testing performance \\\\n\\\", dtree_tuned_test_perf)\";\n",
       "                var nbb_formatted_code = \"dtree_tuned_test_perf = model_performance_classification_sklearn(\\n    dtree_tuned, X_test, y_test\\n)\\nprint(\\\"Testing performance \\\\n\\\", dtree_tuned_test_perf)\";\n",
       "                var nbb_cells = Jupyter.notebook.get_cells();\n",
       "                for (var i = 0; i < nbb_cells.length; ++i) {\n",
       "                    if (nbb_cells[i].input_prompt_number == nbb_cell_id) {\n",
       "                        if (nbb_cells[i].get_text() == nbb_unformatted_code) {\n",
       "                             nbb_cells[i].set_text(nbb_formatted_code);\n",
       "                        }\n",
       "                        break;\n",
       "                    }\n",
       "                }\n",
       "            }, 500);\n",
       "            "
      ],
      "text/plain": [
       "<IPython.core.display.Javascript object>"
      ]
     },
     "metadata": {},
     "output_type": "display_data"
    }
   ],
   "source": [
    "dtree_tuned_test_perf = model_performance_classification_sklearn(\n",
    "    dtree_tuned, X_test, y_test\n",
    ")\n",
    "print(\"Testing performance \\n\", dtree_tuned_test_perf)"
   ]
  },
  {
   "cell_type": "markdown",
   "id": "d22adcae",
   "metadata": {},
   "source": [
    "#### Observations\n",
    "- Tuned Decision Tree works well on training data, and is generalizing the data very well.\n",
    "- With an `F1 score` of 80.5 it has a good predicting model."
   ]
  },
  {
   "cell_type": "markdown",
   "id": "0eb4e59e",
   "metadata": {},
   "source": [
    "### Tuning Bagging Classifier with weighted decision tree"
   ]
  },
  {
   "cell_type": "code",
   "execution_count": 88,
   "id": "6d40e68f",
   "metadata": {},
   "outputs": [
    {
     "data": {
      "text/plain": [
       "GridSearchCV(cv=5, estimator=BaggingClassifier(random_state=1),\n",
       "             param_grid={'base_estimator': [DecisionTreeClassifier(class_weight={0: 0.67,\n",
       "                                                                                 1: 0.33},\n",
       "                                                                   random_state=1)],\n",
       "                         'max_features': [0.7, 0.8, 0.9, 1],\n",
       "                         'n_estimators': [10, 50, 100, 200]},\n",
       "             scoring='f1')"
      ]
     },
     "execution_count": 88,
     "metadata": {},
     "output_type": "execute_result"
    },
    {
     "data": {
      "application/javascript": [
       "\n",
       "            setTimeout(function() {\n",
       "                var nbb_cell_id = 88;\n",
       "                var nbb_unformatted_code = \"# grid search for bagging classifier\\nparameters = {\\n    \\\"base_estimator\\\": [\\n        DecisionTreeClassifier(\\n            criterion=\\\"gini\\\", class_weight={0: 0.67, 1: 0.33}, random_state=1\\n        )\\n    ],\\n    \\\"n_estimators\\\": [10, 50, 100, 200],\\n    \\\"max_features\\\": [0.7, 0.8, 0.9, 1],\\n}\\ngrid = GridSearchCV(\\n    BaggingClassifier(random_state=1, bootstrap=True),\\n    param_grid=parameters,\\n    scoring=\\\"f1\\\",\\n    cv=5,\\n)\\ngrid.fit(X_train, y_train)\";\n",
       "                var nbb_formatted_code = \"# grid search for bagging classifier\\nparameters = {\\n    \\\"base_estimator\\\": [\\n        DecisionTreeClassifier(\\n            criterion=\\\"gini\\\", class_weight={0: 0.67, 1: 0.33}, random_state=1\\n        )\\n    ],\\n    \\\"n_estimators\\\": [10, 50, 100, 200],\\n    \\\"max_features\\\": [0.7, 0.8, 0.9, 1],\\n}\\ngrid = GridSearchCV(\\n    BaggingClassifier(random_state=1, bootstrap=True),\\n    param_grid=parameters,\\n    scoring=\\\"f1\\\",\\n    cv=5,\\n)\\ngrid.fit(X_train, y_train)\";\n",
       "                var nbb_cells = Jupyter.notebook.get_cells();\n",
       "                for (var i = 0; i < nbb_cells.length; ++i) {\n",
       "                    if (nbb_cells[i].input_prompt_number == nbb_cell_id) {\n",
       "                        if (nbb_cells[i].get_text() == nbb_unformatted_code) {\n",
       "                             nbb_cells[i].set_text(nbb_formatted_code);\n",
       "                        }\n",
       "                        break;\n",
       "                    }\n",
       "                }\n",
       "            }, 500);\n",
       "            "
      ],
      "text/plain": [
       "<IPython.core.display.Javascript object>"
      ]
     },
     "metadata": {},
     "output_type": "display_data"
    }
   ],
   "source": [
    "# grid search for bagging classifier\n",
    "parameters = {\n",
    "    \"base_estimator\": [\n",
    "        DecisionTreeClassifier(\n",
    "            criterion=\"gini\", class_weight={0: 0.67, 1: 0.33}, random_state=1\n",
    "        )\n",
    "    ],\n",
    "    \"n_estimators\": [10, 50, 100, 200],\n",
    "    \"max_features\": [0.7, 0.8, 0.9, 1],\n",
    "}\n",
    "grid = GridSearchCV(\n",
    "    BaggingClassifier(random_state=1, bootstrap=True),\n",
    "    param_grid=parameters,\n",
    "    scoring=\"f1\",\n",
    "    cv=5,\n",
    ")\n",
    "grid.fit(X_train, y_train)"
   ]
  },
  {
   "cell_type": "code",
   "execution_count": 89,
   "id": "3b641a98",
   "metadata": {},
   "outputs": [
    {
     "data": {
      "text/plain": [
       "BaggingClassifier(base_estimator=DecisionTreeClassifier(class_weight={0: 0.67,\n",
       "                                                                      1: 0.33},\n",
       "                                                        random_state=1),\n",
       "                  max_features=0.7, n_estimators=200, random_state=1)"
      ]
     },
     "execution_count": 89,
     "metadata": {},
     "output_type": "execute_result"
    },
    {
     "data": {
      "application/javascript": [
       "\n",
       "            setTimeout(function() {\n",
       "                var nbb_cell_id = 89;\n",
       "                var nbb_unformatted_code = \"# getting the best estimator\\nbagging_tuned = grid.best_estimator_\\nbagging_tuned.fit(X_train, y_train)\";\n",
       "                var nbb_formatted_code = \"# getting the best estimator\\nbagging_tuned = grid.best_estimator_\\nbagging_tuned.fit(X_train, y_train)\";\n",
       "                var nbb_cells = Jupyter.notebook.get_cells();\n",
       "                for (var i = 0; i < nbb_cells.length; ++i) {\n",
       "                    if (nbb_cells[i].input_prompt_number == nbb_cell_id) {\n",
       "                        if (nbb_cells[i].get_text() == nbb_unformatted_code) {\n",
       "                             nbb_cells[i].set_text(nbb_formatted_code);\n",
       "                        }\n",
       "                        break;\n",
       "                    }\n",
       "                }\n",
       "            }, 500);\n",
       "            "
      ],
      "text/plain": [
       "<IPython.core.display.Javascript object>"
      ]
     },
     "metadata": {},
     "output_type": "display_data"
    }
   ],
   "source": [
    "# getting the best estimator\n",
    "bagging_tuned = grid.best_estimator_\n",
    "bagging_tuned.fit(X_train, y_train)"
   ]
  },
  {
   "cell_type": "code",
   "execution_count": 90,
   "id": "100112f0",
   "metadata": {},
   "outputs": [
    {
     "data": {
      "image/png": "[encoded data removed]",
      "text/plain": [
       "<Figure size 432x288 with 2 Axes>"
      ]
     },
     "metadata": {
      "needs_background": "light"
     },
     "output_type": "display_data"
    },
    {
     "data": {
      "application/javascript": [
       "\n",
       "            setTimeout(function() {\n",
       "                var nbb_cell_id = 90;\n",
       "                var nbb_unformatted_code = \"confusion_matrix_sklearn(bagging_tuned, X_test, y_test)\";\n",
       "                var nbb_formatted_code = \"confusion_matrix_sklearn(bagging_tuned, X_test, y_test)\";\n",
       "                var nbb_cells = Jupyter.notebook.get_cells();\n",
       "                for (var i = 0; i < nbb_cells.length; ++i) {\n",
       "                    if (nbb_cells[i].input_prompt_number == nbb_cell_id) {\n",
       "                        if (nbb_cells[i].get_text() == nbb_unformatted_code) {\n",
       "                             nbb_cells[i].set_text(nbb_formatted_code);\n",
       "                        }\n",
       "                        break;\n",
       "                    }\n",
       "                }\n",
       "            }, 500);\n",
       "            "
      ],
      "text/plain": [
       "<IPython.core.display.Javascript object>"
      ]
     },
     "metadata": {},
     "output_type": "display_data"
    }
   ],
   "source": [
    "confusion_matrix_sklearn(bagging_tuned, X_test, y_test)"
   ]
  },
  {
   "cell_type": "code",
   "execution_count": 91,
   "id": "b4c62c85",
   "metadata": {},
   "outputs": [
    {
     "name": "stdout",
     "output_type": "stream",
     "text": [
      "Training performance \n",
      "    Accuracy  Recall  Precision   F1\n",
      "0       1.0     1.0        1.0  1.0\n"
     ]
    },
    {
     "data": {
      "application/javascript": [
       "\n",
       "            setTimeout(function() {\n",
       "                var nbb_cell_id = 91;\n",
       "                var nbb_unformatted_code = \"bagging_tuned_model_train_perf = model_performance_classification_sklearn(\\n    bagging_tuned, X_train, y_train\\n)\\nprint(\\\"Training performance \\\\n\\\", bagging_tuned_model_train_perf)\";\n",
       "                var nbb_formatted_code = \"bagging_tuned_model_train_perf = model_performance_classification_sklearn(\\n    bagging_tuned, X_train, y_train\\n)\\nprint(\\\"Training performance \\\\n\\\", bagging_tuned_model_train_perf)\";\n",
       "                var nbb_cells = Jupyter.notebook.get_cells();\n",
       "                for (var i = 0; i < nbb_cells.length; ++i) {\n",
       "                    if (nbb_cells[i].input_prompt_number == nbb_cell_id) {\n",
       "                        if (nbb_cells[i].get_text() == nbb_unformatted_code) {\n",
       "                             nbb_cells[i].set_text(nbb_formatted_code);\n",
       "                        }\n",
       "                        break;\n",
       "                    }\n",
       "                }\n",
       "            }, 500);\n",
       "            "
      ],
      "text/plain": [
       "<IPython.core.display.Javascript object>"
      ]
     },
     "metadata": {},
     "output_type": "display_data"
    }
   ],
   "source": [
    "bagging_tuned_model_train_perf = model_performance_classification_sklearn(\n",
    "    bagging_tuned, X_train, y_train\n",
    ")\n",
    "print(\"Training performance \\n\", bagging_tuned_model_train_perf)"
   ]
  },
  {
   "cell_type": "code",
   "execution_count": 92,
   "id": "d1e1e66a",
   "metadata": {},
   "outputs": [
    {
     "name": "stdout",
     "output_type": "stream",
     "text": [
      "Testing performance \n",
      "    Accuracy    Recall  Precision        F1\n",
      "0  0.733124  0.887109   0.759584  0.818408\n"
     ]
    },
    {
     "data": {
      "application/javascript": [
       "\n",
       "            setTimeout(function() {\n",
       "                var nbb_cell_id = 92;\n",
       "                var nbb_unformatted_code = \"bagging_tuned_model_test_perf = model_performance_classification_sklearn(\\n    bagging_tuned, X_test, y_test\\n)\\nprint(\\\"Testing performance \\\\n\\\", bagging_tuned_model_test_perf)\";\n",
       "                var nbb_formatted_code = \"bagging_tuned_model_test_perf = model_performance_classification_sklearn(\\n    bagging_tuned, X_test, y_test\\n)\\nprint(\\\"Testing performance \\\\n\\\", bagging_tuned_model_test_perf)\";\n",
       "                var nbb_cells = Jupyter.notebook.get_cells();\n",
       "                for (var i = 0; i < nbb_cells.length; ++i) {\n",
       "                    if (nbb_cells[i].input_prompt_number == nbb_cell_id) {\n",
       "                        if (nbb_cells[i].get_text() == nbb_unformatted_code) {\n",
       "                             nbb_cells[i].set_text(nbb_formatted_code);\n",
       "                        }\n",
       "                        break;\n",
       "                    }\n",
       "                }\n",
       "            }, 500);\n",
       "            "
      ],
      "text/plain": [
       "<IPython.core.display.Javascript object>"
      ]
     },
     "metadata": {},
     "output_type": "display_data"
    }
   ],
   "source": [
    "bagging_tuned_model_test_perf = model_performance_classification_sklearn(\n",
    "    bagging_tuned, X_test, y_test\n",
    ")\n",
    "print(\"Testing performance \\n\", bagging_tuned_model_test_perf)"
   ]
  },
  {
   "cell_type": "markdown",
   "id": "50beabcf",
   "metadata": {},
   "source": [
    "#### Observations\n",
    "- Tuned Weighted Decision Tree Bagging Classsifier works well on training data, but is overfitting as the metrics did not generalize to the testing set.\n",
    "- With an `F1 score` of 81.8 it has a good predicting model."
   ]
  },
  {
   "cell_type": "markdown",
   "id": "3ca4b132",
   "metadata": {},
   "source": [
    "### Random Forest"
   ]
  },
  {
   "cell_type": "code",
   "execution_count": 93,
   "id": "f45e0766",
   "metadata": {},
   "outputs": [
    {
     "data": {
      "text/plain": [
       "RandomForestClassifier(max_features=0.6, max_samples=0.7, min_samples_leaf=5,\n",
       "                       n_estimators=500, random_state=1)"
      ]
     },
     "execution_count": 93,
     "metadata": {},
     "output_type": "execute_result"
    },
    {
     "data": {
      "application/javascript": [
       "\n",
       "            setTimeout(function() {\n",
       "                var nbb_cell_id = 93;\n",
       "                var nbb_unformatted_code = \"# set random forest classifier\\nrf_tuned = RandomForestClassifier(random_state=1)\\n\\n# parameters to choose from in grid\\nparameters = {\\n    \\\"n_estimators\\\": [125, 250, 500],\\n    \\\"min_samples_leaf\\\": np.arange(1, 6, 1),\\n    \\\"max_features\\\": [0.6, 0.7, 0.8, 0.9],\\n    \\\"max_samples\\\": [0.7, 0.8, 0.9, None],\\n}\\n\\n# Run GridSearchCV\\ngrid = GridSearchCV(rf_tuned, param_grid=parameters, scoring=\\\"f1\\\", cv=5)\\ngrid = grid.fit(X_train, y_train)\\n\\n# set tuned model to best combination of paramters\\nrf_tuned = grid.best_estimator_\\n\\n# fit best algorithm to data\\nrf_tuned.fit(X_train, y_train)\";\n",
       "                var nbb_formatted_code = \"# set random forest classifier\\nrf_tuned = RandomForestClassifier(random_state=1)\\n\\n# parameters to choose from in grid\\nparameters = {\\n    \\\"n_estimators\\\": [125, 250, 500],\\n    \\\"min_samples_leaf\\\": np.arange(1, 6, 1),\\n    \\\"max_features\\\": [0.6, 0.7, 0.8, 0.9],\\n    \\\"max_samples\\\": [0.7, 0.8, 0.9, None],\\n}\\n\\n# Run GridSearchCV\\ngrid = GridSearchCV(rf_tuned, param_grid=parameters, scoring=\\\"f1\\\", cv=5)\\ngrid = grid.fit(X_train, y_train)\\n\\n# set tuned model to best combination of paramters\\nrf_tuned = grid.best_estimator_\\n\\n# fit best algorithm to data\\nrf_tuned.fit(X_train, y_train)\";\n",
       "                var nbb_cells = Jupyter.notebook.get_cells();\n",
       "                for (var i = 0; i < nbb_cells.length; ++i) {\n",
       "                    if (nbb_cells[i].input_prompt_number == nbb_cell_id) {\n",
       "                        if (nbb_cells[i].get_text() == nbb_unformatted_code) {\n",
       "                             nbb_cells[i].set_text(nbb_formatted_code);\n",
       "                        }\n",
       "                        break;\n",
       "                    }\n",
       "                }\n",
       "            }, 500);\n",
       "            "
      ],
      "text/plain": [
       "<IPython.core.display.Javascript object>"
      ]
     },
     "metadata": {},
     "output_type": "display_data"
    }
   ],
   "source": [
    "# set random forest classifier\n",
    "rf_tuned = RandomForestClassifier(random_state=1)\n",
    "\n",
    "# parameters to choose from in grid\n",
    "parameters = {\n",
    "    \"n_estimators\": [125, 250, 500],\n",
    "    \"min_samples_leaf\": np.arange(1, 6, 1),\n",
    "    \"max_features\": [0.6, 0.7, 0.8, 0.9],\n",
    "    \"max_samples\": [0.7, 0.8, 0.9, None],\n",
    "}\n",
    "\n",
    "# Run GridSearchCV\n",
    "grid = GridSearchCV(rf_tuned, param_grid=parameters, scoring=\"f1\", cv=5)\n",
    "grid = grid.fit(X_train, y_train)\n",
    "\n",
    "# set tuned model to best combination of paramters\n",
    "rf_tuned = grid.best_estimator_\n",
    "\n",
    "# fit best algorithm to data\n",
    "rf_tuned.fit(X_train, y_train)"
   ]
  },
  {
   "cell_type": "code",
   "execution_count": 94,
   "id": "71d9d9db",
   "metadata": {},
   "outputs": [
    {
     "data": {
      "image/png": "[encoded data removed]",
      "text/plain": [
       "<Figure size 432x288 with 2 Axes>"
      ]
     },
     "metadata": {
      "needs_background": "light"
     },
     "output_type": "display_data"
    },
    {
     "data": {
      "application/javascript": [
       "\n",
       "            setTimeout(function() {\n",
       "                var nbb_cell_id = 94;\n",
       "                var nbb_unformatted_code = \"confusion_matrix_sklearn(rf_tuned, X_test, y_test)\";\n",
       "                var nbb_formatted_code = \"confusion_matrix_sklearn(rf_tuned, X_test, y_test)\";\n",
       "                var nbb_cells = Jupyter.notebook.get_cells();\n",
       "                for (var i = 0; i < nbb_cells.length; ++i) {\n",
       "                    if (nbb_cells[i].input_prompt_number == nbb_cell_id) {\n",
       "                        if (nbb_cells[i].get_text() == nbb_unformatted_code) {\n",
       "                             nbb_cells[i].set_text(nbb_formatted_code);\n",
       "                        }\n",
       "                        break;\n",
       "                    }\n",
       "                }\n",
       "            }, 500);\n",
       "            "
      ],
      "text/plain": [
       "<IPython.core.display.Javascript object>"
      ]
     },
     "metadata": {},
     "output_type": "display_data"
    }
   ],
   "source": [
    "confusion_matrix_sklearn(rf_tuned, X_test, y_test)"
   ]
  },
  {
   "cell_type": "code",
   "execution_count": 95,
   "id": "902ca86b",
   "metadata": {},
   "outputs": [
    {
     "name": "stdout",
     "output_type": "stream",
     "text": [
      "Training performance \n",
      "    Accuracy    Recall  Precision        F1\n",
      "0  0.833875  0.929284   0.838019  0.881295\n"
     ]
    },
    {
     "data": {
      "application/javascript": [
       "\n",
       "            setTimeout(function() {\n",
       "                var nbb_cell_id = 95;\n",
       "                var nbb_unformatted_code = \"rf_tuned_model_train_perf = model_performance_classification_sklearn(\\n    rf_tuned, X_train, y_train\\n)\\nprint(\\\"Training performance \\\\n\\\", rf_tuned_model_train_perf)\";\n",
       "                var nbb_formatted_code = \"rf_tuned_model_train_perf = model_performance_classification_sklearn(\\n    rf_tuned, X_train, y_train\\n)\\nprint(\\\"Training performance \\\\n\\\", rf_tuned_model_train_perf)\";\n",
       "                var nbb_cells = Jupyter.notebook.get_cells();\n",
       "                for (var i = 0; i < nbb_cells.length; ++i) {\n",
       "                    if (nbb_cells[i].input_prompt_number == nbb_cell_id) {\n",
       "                        if (nbb_cells[i].get_text() == nbb_unformatted_code) {\n",
       "                             nbb_cells[i].set_text(nbb_formatted_code);\n",
       "                        }\n",
       "                        break;\n",
       "                    }\n",
       "                }\n",
       "            }, 500);\n",
       "            "
      ],
      "text/plain": [
       "<IPython.core.display.Javascript object>"
      ]
     },
     "metadata": {},
     "output_type": "display_data"
    }
   ],
   "source": [
    "rf_tuned_model_train_perf = model_performance_classification_sklearn(\n",
    "    rf_tuned, X_train, y_train\n",
    ")\n",
    "print(\"Training performance \\n\", rf_tuned_model_train_perf)"
   ]
  },
  {
   "cell_type": "code",
   "execution_count": 96,
   "id": "7b4c5504",
   "metadata": {},
   "outputs": [
    {
     "name": "stdout",
     "output_type": "stream",
     "text": [
      "Testing performance \n",
      "    Accuracy    Recall  Precision        F1\n",
      "0  0.748561  0.865689   0.785364  0.823573\n"
     ]
    },
    {
     "data": {
      "application/javascript": [
       "\n",
       "            setTimeout(function() {\n",
       "                var nbb_cell_id = 96;\n",
       "                var nbb_unformatted_code = \"rf_tuned_model_test_perf = model_performance_classification_sklearn(\\n    rf_tuned, X_test, y_test\\n)\\nprint(\\\"Testing performance \\\\n\\\", rf_tuned_model_test_perf)\";\n",
       "                var nbb_formatted_code = \"rf_tuned_model_test_perf = model_performance_classification_sklearn(\\n    rf_tuned, X_test, y_test\\n)\\nprint(\\\"Testing performance \\\\n\\\", rf_tuned_model_test_perf)\";\n",
       "                var nbb_cells = Jupyter.notebook.get_cells();\n",
       "                for (var i = 0; i < nbb_cells.length; ++i) {\n",
       "                    if (nbb_cells[i].input_prompt_number == nbb_cell_id) {\n",
       "                        if (nbb_cells[i].get_text() == nbb_unformatted_code) {\n",
       "                             nbb_cells[i].set_text(nbb_formatted_code);\n",
       "                        }\n",
       "                        break;\n",
       "                    }\n",
       "                }\n",
       "            }, 500);\n",
       "            "
      ],
      "text/plain": [
       "<IPython.core.display.Javascript object>"
      ]
     },
     "metadata": {},
     "output_type": "display_data"
    }
   ],
   "source": [
    "rf_tuned_model_test_perf = model_performance_classification_sklearn(\n",
    "    rf_tuned, X_test, y_test\n",
    ")\n",
    "print(\"Testing performance \\n\", rf_tuned_model_test_perf)"
   ]
  },
  {
   "cell_type": "markdown",
   "id": "9ac342d5",
   "metadata": {},
   "source": [
    "#### Observations\n",
    "- Tuned Random Forest Classsifier works well on training data, but is slightly overfitting as the metrics on just on threshold of not generalizing to the testing set.\n",
    "- With an `F1 score` of 82.4 it has a good predicting model."
   ]
  },
  {
   "cell_type": "markdown",
   "id": "86b712f2",
   "metadata": {},
   "source": [
    "### AdaBoost"
   ]
  },
  {
   "cell_type": "code",
   "execution_count": 97,
   "id": "0adcbe48",
   "metadata": {},
   "outputs": [
    {
     "data": {
      "text/plain": [
       "AdaBoostClassifier(learning_rate=1, n_estimators=10, random_state=1)"
      ]
     },
     "execution_count": 97,
     "metadata": {},
     "output_type": "execute_result"
    },
    {
     "data": {
      "application/javascript": [
       "\n",
       "            setTimeout(function() {\n",
       "                var nbb_cell_id = 97;\n",
       "                var nbb_unformatted_code = \"# Choose the type of classifier.\\nab_tuned = AdaBoostClassifier(random_state=1)\\n\\n# Grid of parameters to choose from\\nparameters = {\\n    \\\"n_estimators\\\": np.arange(10, 100, 250),\\n    \\\"learning_rate\\\": [1, 0.1, 0.5, 0.01],\\n}\\n\\n# Run the grid search\\ngrid = GridSearchCV(ab_tuned, parameters, scoring=\\\"f1\\\", cv=5)\\ngrid = grid.fit(X_train, y_train)\\n\\n# Set the clf to the best combination of parameters\\nab_tuned = grid.best_estimator_\\n\\n# Fit the best algorithm to the data.\\nab_tuned.fit(X_train, y_train)\";\n",
       "                var nbb_formatted_code = \"# Choose the type of classifier.\\nab_tuned = AdaBoostClassifier(random_state=1)\\n\\n# Grid of parameters to choose from\\nparameters = {\\n    \\\"n_estimators\\\": np.arange(10, 100, 250),\\n    \\\"learning_rate\\\": [1, 0.1, 0.5, 0.01],\\n}\\n\\n# Run the grid search\\ngrid = GridSearchCV(ab_tuned, parameters, scoring=\\\"f1\\\", cv=5)\\ngrid = grid.fit(X_train, y_train)\\n\\n# Set the clf to the best combination of parameters\\nab_tuned = grid.best_estimator_\\n\\n# Fit the best algorithm to the data.\\nab_tuned.fit(X_train, y_train)\";\n",
       "                var nbb_cells = Jupyter.notebook.get_cells();\n",
       "                for (var i = 0; i < nbb_cells.length; ++i) {\n",
       "                    if (nbb_cells[i].input_prompt_number == nbb_cell_id) {\n",
       "                        if (nbb_cells[i].get_text() == nbb_unformatted_code) {\n",
       "                             nbb_cells[i].set_text(nbb_formatted_code);\n",
       "                        }\n",
       "                        break;\n",
       "                    }\n",
       "                }\n",
       "            }, 500);\n",
       "            "
      ],
      "text/plain": [
       "<IPython.core.display.Javascript object>"
      ]
     },
     "metadata": {},
     "output_type": "display_data"
    }
   ],
   "source": [
    "# Choose the type of classifier.\n",
    "ab_tuned = AdaBoostClassifier(random_state=1)\n",
    "\n",
    "# Grid of parameters to choose from\n",
    "parameters = {\n",
    "    \"n_estimators\": np.arange(10, 100, 250),\n",
    "    \"learning_rate\": [1, 0.1, 0.5, 0.01],\n",
    "}\n",
    "\n",
    "# Run the grid search\n",
    "grid = GridSearchCV(ab_tuned, parameters, scoring=\"f1\", cv=5)\n",
    "grid = grid.fit(X_train, y_train)\n",
    "\n",
    "# Set the clf to the best combination of parameters\n",
    "ab_tuned = grid.best_estimator_\n",
    "\n",
    "# Fit the best algorithm to the data.\n",
    "ab_tuned.fit(X_train, y_train)"
   ]
  },
  {
   "cell_type": "code",
   "execution_count": 98,
   "id": "21373658",
   "metadata": {},
   "outputs": [
    {
     "data": {
      "image/png": "[encoded data removed]",
      "text/plain": [
       "<Figure size 432x288 with 2 Axes>"
      ]
     },
     "metadata": {
      "needs_background": "light"
     },
     "output_type": "display_data"
    },
    {
     "data": {
      "application/javascript": [
       "\n",
       "            setTimeout(function() {\n",
       "                var nbb_cell_id = 98;\n",
       "                var nbb_unformatted_code = \"confusion_matrix_sklearn(ab_tuned, X_test, y_test)\";\n",
       "                var nbb_formatted_code = \"confusion_matrix_sklearn(ab_tuned, X_test, y_test)\";\n",
       "                var nbb_cells = Jupyter.notebook.get_cells();\n",
       "                for (var i = 0; i < nbb_cells.length; ++i) {\n",
       "                    if (nbb_cells[i].input_prompt_number == nbb_cell_id) {\n",
       "                        if (nbb_cells[i].get_text() == nbb_unformatted_code) {\n",
       "                             nbb_cells[i].set_text(nbb_formatted_code);\n",
       "                        }\n",
       "                        break;\n",
       "                    }\n",
       "                }\n",
       "            }, 500);\n",
       "            "
      ],
      "text/plain": [
       "<IPython.core.display.Javascript object>"
      ]
     },
     "metadata": {},
     "output_type": "display_data"
    }
   ],
   "source": [
    "confusion_matrix_sklearn(ab_tuned, X_test, y_test)"
   ]
  },
  {
   "cell_type": "code",
   "execution_count": 99,
   "id": "9a696db5",
   "metadata": {},
   "outputs": [
    {
     "name": "stdout",
     "output_type": "stream",
     "text": [
      "Training performance \n",
      "    Accuracy    Recall  Precision        F1\n",
      "0   0.73688  0.877239   0.762167  0.815664\n"
     ]
    },
    {
     "data": {
      "application/javascript": [
       "\n",
       "            setTimeout(function() {\n",
       "                var nbb_cell_id = 99;\n",
       "                var nbb_unformatted_code = \"ab_tuned_model_train_perf = model_performance_classification_sklearn(\\n    ab_tuned, X_train, y_train\\n)\\nprint(\\\"Training performance \\\\n\\\", ab_tuned_model_train_perf)\";\n",
       "                var nbb_formatted_code = \"ab_tuned_model_train_perf = model_performance_classification_sklearn(\\n    ab_tuned, X_train, y_train\\n)\\nprint(\\\"Training performance \\\\n\\\", ab_tuned_model_train_perf)\";\n",
       "                var nbb_cells = Jupyter.notebook.get_cells();\n",
       "                for (var i = 0; i < nbb_cells.length; ++i) {\n",
       "                    if (nbb_cells[i].input_prompt_number == nbb_cell_id) {\n",
       "                        if (nbb_cells[i].get_text() == nbb_unformatted_code) {\n",
       "                             nbb_cells[i].set_text(nbb_formatted_code);\n",
       "                        }\n",
       "                        break;\n",
       "                    }\n",
       "                }\n",
       "            }, 500);\n",
       "            "
      ],
      "text/plain": [
       "<IPython.core.display.Javascript object>"
      ]
     },
     "metadata": {},
     "output_type": "display_data"
    }
   ],
   "source": [
    "ab_tuned_model_train_perf = model_performance_classification_sklearn(\n",
    "    ab_tuned, X_train, y_train\n",
    ")\n",
    "print(\"Training performance \\n\", ab_tuned_model_train_perf)"
   ]
  },
  {
   "cell_type": "code",
   "execution_count": 100,
   "id": "5f1c3656",
   "metadata": {},
   "outputs": [
    {
     "name": "stdout",
     "output_type": "stream",
     "text": [
      "Testing performance \n",
      "    Accuracy    Recall  Precision        F1\n",
      "0   0.73688  0.877239   0.762167  0.815664\n"
     ]
    },
    {
     "data": {
      "application/javascript": [
       "\n",
       "            setTimeout(function() {\n",
       "                var nbb_cell_id = 100;\n",
       "                var nbb_unformatted_code = \"ab_tuned_model_test_perf = model_performance_classification_sklearn(\\n    ab_tuned, X_test, y_test\\n)\\nprint(\\\"Testing performance \\\\n\\\", ab_tuned_model_train_perf)\";\n",
       "                var nbb_formatted_code = \"ab_tuned_model_test_perf = model_performance_classification_sklearn(\\n    ab_tuned, X_test, y_test\\n)\\nprint(\\\"Testing performance \\\\n\\\", ab_tuned_model_train_perf)\";\n",
       "                var nbb_cells = Jupyter.notebook.get_cells();\n",
       "                for (var i = 0; i < nbb_cells.length; ++i) {\n",
       "                    if (nbb_cells[i].input_prompt_number == nbb_cell_id) {\n",
       "                        if (nbb_cells[i].get_text() == nbb_unformatted_code) {\n",
       "                             nbb_cells[i].set_text(nbb_formatted_code);\n",
       "                        }\n",
       "                        break;\n",
       "                    }\n",
       "                }\n",
       "            }, 500);\n",
       "            "
      ],
      "text/plain": [
       "<IPython.core.display.Javascript object>"
      ]
     },
     "metadata": {},
     "output_type": "display_data"
    }
   ],
   "source": [
    "ab_tuned_model_test_perf = model_performance_classification_sklearn(\n",
    "    ab_tuned, X_test, y_test\n",
    ")\n",
    "print(\"Testing performance \\n\", ab_tuned_model_train_perf)"
   ]
  },
  {
   "cell_type": "markdown",
   "id": "286a19b7",
   "metadata": {},
   "source": [
    "#### Observations\n",
    "- Tuned AdaBoost Classsifier works well on training data, and is generalizing the data very well, exactly.\n",
    "- With an `F1 score` of 81.6 it has a good predicting model."
   ]
  },
  {
   "cell_type": "markdown",
   "id": "edcd9e13",
   "metadata": {},
   "source": [
    "### Gradient Boosting "
   ]
  },
  {
   "cell_type": "code",
   "execution_count": 101,
   "id": "a3c70cf1",
   "metadata": {},
   "outputs": [
    {
     "data": {
      "text/plain": [
       "GradientBoostingClassifier(max_features=0.7, n_estimators=50, random_state=1,\n",
       "                           subsample=0.9)"
      ]
     },
     "execution_count": 101,
     "metadata": {},
     "output_type": "execute_result"
    },
    {
     "data": {
      "application/javascript": [
       "\n",
       "            setTimeout(function() {\n",
       "                var nbb_cell_id = 101;\n",
       "                var nbb_unformatted_code = \"# Choose the type of classifier.\\ngb_tuned = GradientBoostingClassifier(random_state=1)\\n\\n# Grid of parameters to choose from\\nparameters = {\\n    \\\"n_estimators\\\": np.arange(50, 200, 300),\\n    \\\"subsample\\\": [0.7, 0.8, 0.9, 1],\\n    \\\"max_features\\\": [0.7, 0.8, 0.9, 1],\\n    \\\"max_depth\\\": [3, 5, 7, 10],\\n}\\n\\n# Run the grid search\\ngrid = GridSearchCV(gb_tuned, parameters, scoring=\\\"f1\\\", cv=5)\\ngrid = grid.fit(X_train, y_train)\\n\\n# Set the clf to the best combination of parameters\\ngb_tuned = grid.best_estimator_\\n\\n# Fit the best algorithm to the data.\\ngb_tuned.fit(X_train, y_train)\";\n",
       "                var nbb_formatted_code = \"# Choose the type of classifier.\\ngb_tuned = GradientBoostingClassifier(random_state=1)\\n\\n# Grid of parameters to choose from\\nparameters = {\\n    \\\"n_estimators\\\": np.arange(50, 200, 300),\\n    \\\"subsample\\\": [0.7, 0.8, 0.9, 1],\\n    \\\"max_features\\\": [0.7, 0.8, 0.9, 1],\\n    \\\"max_depth\\\": [3, 5, 7, 10],\\n}\\n\\n# Run the grid search\\ngrid = GridSearchCV(gb_tuned, parameters, scoring=\\\"f1\\\", cv=5)\\ngrid = grid.fit(X_train, y_train)\\n\\n# Set the clf to the best combination of parameters\\ngb_tuned = grid.best_estimator_\\n\\n# Fit the best algorithm to the data.\\ngb_tuned.fit(X_train, y_train)\";\n",
       "                var nbb_cells = Jupyter.notebook.get_cells();\n",
       "                for (var i = 0; i < nbb_cells.length; ++i) {\n",
       "                    if (nbb_cells[i].input_prompt_number == nbb_cell_id) {\n",
       "                        if (nbb_cells[i].get_text() == nbb_unformatted_code) {\n",
       "                             nbb_cells[i].set_text(nbb_formatted_code);\n",
       "                        }\n",
       "                        break;\n",
       "                    }\n",
       "                }\n",
       "            }, 500);\n",
       "            "
      ],
      "text/plain": [
       "<IPython.core.display.Javascript object>"
      ]
     },
     "metadata": {},
     "output_type": "display_data"
    }
   ],
   "source": [
    "# Choose the type of classifier.\n",
    "gb_tuned = GradientBoostingClassifier(random_state=1)\n",
    "\n",
    "# Grid of parameters to choose from\n",
    "parameters = {\n",
    "    \"n_estimators\": np.arange(50, 200, 300),\n",
    "    \"subsample\": [0.7, 0.8, 0.9, 1],\n",
    "    \"max_features\": [0.7, 0.8, 0.9, 1],\n",
    "    \"max_depth\": [3, 5, 7, 10],\n",
    "}\n",
    "\n",
    "# Run the grid search\n",
    "grid = GridSearchCV(gb_tuned, parameters, scoring=\"f1\", cv=5)\n",
    "grid = grid.fit(X_train, y_train)\n",
    "\n",
    "# Set the clf to the best combination of parameters\n",
    "gb_tuned = grid.best_estimator_\n",
    "\n",
    "# Fit the best algorithm to the data.\n",
    "gb_tuned.fit(X_train, y_train)"
   ]
  },
  {
   "cell_type": "code",
   "execution_count": 102,
   "id": "a0ecefe5",
   "metadata": {},
   "outputs": [
    {
     "data": {
      "image/png": "[encoded data removed]",
      "text/plain": [
       "<Figure size 432x288 with 2 Axes>"
      ]
     },
     "metadata": {
      "needs_background": "light"
     },
     "output_type": "display_data"
    },
    {
     "data": {
      "application/javascript": [
       "\n",
       "            setTimeout(function() {\n",
       "                var nbb_cell_id = 102;\n",
       "                var nbb_unformatted_code = \"confusion_matrix_sklearn(gb_tuned, X_test, y_test)\";\n",
       "                var nbb_formatted_code = \"confusion_matrix_sklearn(gb_tuned, X_test, y_test)\";\n",
       "                var nbb_cells = Jupyter.notebook.get_cells();\n",
       "                for (var i = 0; i < nbb_cells.length; ++i) {\n",
       "                    if (nbb_cells[i].input_prompt_number == nbb_cell_id) {\n",
       "                        if (nbb_cells[i].get_text() == nbb_unformatted_code) {\n",
       "                             nbb_cells[i].set_text(nbb_formatted_code);\n",
       "                        }\n",
       "                        break;\n",
       "                    }\n",
       "                }\n",
       "            }, 500);\n",
       "            "
      ],
      "text/plain": [
       "<IPython.core.display.Javascript object>"
      ]
     },
     "metadata": {},
     "output_type": "display_data"
    }
   ],
   "source": [
    "confusion_matrix_sklearn(gb_tuned, X_test, y_test)"
   ]
  },
  {
   "cell_type": "code",
   "execution_count": 103,
   "id": "b5aa7c97",
   "metadata": {},
   "outputs": [
    {
     "name": "stdout",
     "output_type": "stream",
     "text": [
      "Training performance \n",
      "    Accuracy    Recall  Precision        F1\n",
      "0  0.750561  0.873268    0.77802  0.822897\n"
     ]
    },
    {
     "data": {
      "application/javascript": [
       "\n",
       "            setTimeout(function() {\n",
       "                var nbb_cell_id = 103;\n",
       "                var nbb_unformatted_code = \"gb_tuned_model_train_perf = model_performance_classification_sklearn(\\n    gb_tuned, X_train, y_train\\n)\\nprint(\\\"Training performance \\\\n\\\", gb_tuned_model_train_perf)\";\n",
       "                var nbb_formatted_code = \"gb_tuned_model_train_perf = model_performance_classification_sklearn(\\n    gb_tuned, X_train, y_train\\n)\\nprint(\\\"Training performance \\\\n\\\", gb_tuned_model_train_perf)\";\n",
       "                var nbb_cells = Jupyter.notebook.get_cells();\n",
       "                for (var i = 0; i < nbb_cells.length; ++i) {\n",
       "                    if (nbb_cells[i].input_prompt_number == nbb_cell_id) {\n",
       "                        if (nbb_cells[i].get_text() == nbb_unformatted_code) {\n",
       "                             nbb_cells[i].set_text(nbb_formatted_code);\n",
       "                        }\n",
       "                        break;\n",
       "                    }\n",
       "                }\n",
       "            }, 500);\n",
       "            "
      ],
      "text/plain": [
       "<IPython.core.display.Javascript object>"
      ]
     },
     "metadata": {},
     "output_type": "display_data"
    }
   ],
   "source": [
    "gb_tuned_model_train_perf = model_performance_classification_sklearn(\n",
    "    gb_tuned, X_train, y_train\n",
    ")\n",
    "print(\"Training performance \\n\", gb_tuned_model_train_perf)"
   ]
  },
  {
   "cell_type": "code",
   "execution_count": 104,
   "id": "dac4879a",
   "metadata": {},
   "outputs": [
    {
     "name": "stdout",
     "output_type": "stream",
     "text": [
      "Testing performance \n",
      "    Accuracy   Recall  Precision        F1\n",
      "0  0.751832  0.86897     0.7871  0.826011\n"
     ]
    },
    {
     "data": {
      "application/javascript": [
       "\n",
       "            setTimeout(function() {\n",
       "                var nbb_cell_id = 104;\n",
       "                var nbb_unformatted_code = \"gb_tuned_model_test_perf = model_performance_classification_sklearn(\\n    gb_tuned, X_test, y_test\\n)\\nprint(\\\"Testing performance \\\\n\\\", gb_tuned_model_test_perf)\";\n",
       "                var nbb_formatted_code = \"gb_tuned_model_test_perf = model_performance_classification_sklearn(\\n    gb_tuned, X_test, y_test\\n)\\nprint(\\\"Testing performance \\\\n\\\", gb_tuned_model_test_perf)\";\n",
       "                var nbb_cells = Jupyter.notebook.get_cells();\n",
       "                for (var i = 0; i < nbb_cells.length; ++i) {\n",
       "                    if (nbb_cells[i].input_prompt_number == nbb_cell_id) {\n",
       "                        if (nbb_cells[i].get_text() == nbb_unformatted_code) {\n",
       "                             nbb_cells[i].set_text(nbb_formatted_code);\n",
       "                        }\n",
       "                        break;\n",
       "                    }\n",
       "                }\n",
       "            }, 500);\n",
       "            "
      ],
      "text/plain": [
       "<IPython.core.display.Javascript object>"
      ]
     },
     "metadata": {},
     "output_type": "display_data"
    }
   ],
   "source": [
    "gb_tuned_model_test_perf = model_performance_classification_sklearn(\n",
    "    gb_tuned, X_test, y_test\n",
    ")\n",
    "print(\"Testing performance \\n\", gb_tuned_model_test_perf)"
   ]
  },
  {
   "cell_type": "markdown",
   "id": "f57a6c13",
   "metadata": {},
   "source": [
    "#### Observations\n",
    "- Tuned GradientBoosting Classsifier works well on training data, and is generalizing the data very well, almost exactly.\n",
    "- With an `F1 score` of 82.6 it has a good predicting model."
   ]
  },
  {
   "cell_type": "markdown",
   "id": "2e7f8f4f",
   "metadata": {},
   "source": [
    "### XGBoost"
   ]
  },
  {
   "cell_type": "code",
   "execution_count": 105,
   "id": "4712f5a1",
   "metadata": {},
   "outputs": [
    {
     "data": {
      "text/plain": [
       "XGBClassifier(base_score=0.5, booster='gbtree', colsample_bylevel=1,\n",
       "              colsample_bynode=1, colsample_bytree=1,\n",
       "              disable_default_eval_metric=True, enable_categorical=False,\n",
       "              gamma=5, gpu_id=-1, importance_type=None,\n",
       "              interaction_constraints='', learning_rate=0.300000012,\n",
       "              max_delta_step=0, max_depth=6, min_child_weight=1, missing=nan,\n",
       "              monotone_constraints='()', n_estimators=50, n_jobs=4,\n",
       "              num_parallel_tree=1, predictor='auto', random_state=1,\n",
       "              reg_alpha=0, reg_lambda=1, scale_pos_weight=1, subsample=1,\n",
       "              tree_method='exact', validate_parameters=1, verbosity=None)"
      ]
     },
     "execution_count": 105,
     "metadata": {},
     "output_type": "execute_result"
    },
    {
     "data": {
      "application/javascript": [
       "\n",
       "            setTimeout(function() {\n",
       "                var nbb_cell_id = 105;\n",
       "                var nbb_unformatted_code = \"# Choose the type of classifier.\\nxgb_tuned = XGBClassifier(disable_default_eval_metric=True, random_state=1)\\n\\n# Grid of parameters to choose from\\nparameters = {\\n    \\\"n_estimators\\\": [50, 100, 150, 200],\\n    \\\"subsample\\\": [0.7, 0.8, 0.9, 1],\\n    \\\"gamma\\\": [0, 1, 3, 5],\\n    \\\"colsample_bytree\\\": [0.7, 0.8, 0.9, 1],\\n    \\\"colsample_bylevel\\\": [0.7, 0.8, 0.9, 1],\\n}\\n\\n# Run the grid search\\ngrid = GridSearchCV(xgb_tuned, parameters, scoring=\\\"f1\\\", cv=5)\\ngrid = grid.fit(X_train, y_train)\\n\\n# Set the clf to the best combination of parameters\\nxgb_tuned = grid.best_estimator_\\n\\n# Fit the best algorithm to the data.\\nxgb_tuned.fit(X_train, y_train)\";\n",
       "                var nbb_formatted_code = \"# Choose the type of classifier.\\nxgb_tuned = XGBClassifier(disable_default_eval_metric=True, random_state=1)\\n\\n# Grid of parameters to choose from\\nparameters = {\\n    \\\"n_estimators\\\": [50, 100, 150, 200],\\n    \\\"subsample\\\": [0.7, 0.8, 0.9, 1],\\n    \\\"gamma\\\": [0, 1, 3, 5],\\n    \\\"colsample_bytree\\\": [0.7, 0.8, 0.9, 1],\\n    \\\"colsample_bylevel\\\": [0.7, 0.8, 0.9, 1],\\n}\\n\\n# Run the grid search\\ngrid = GridSearchCV(xgb_tuned, parameters, scoring=\\\"f1\\\", cv=5)\\ngrid = grid.fit(X_train, y_train)\\n\\n# Set the clf to the best combination of parameters\\nxgb_tuned = grid.best_estimator_\\n\\n# Fit the best algorithm to the data.\\nxgb_tuned.fit(X_train, y_train)\";\n",
       "                var nbb_cells = Jupyter.notebook.get_cells();\n",
       "                for (var i = 0; i < nbb_cells.length; ++i) {\n",
       "                    if (nbb_cells[i].input_prompt_number == nbb_cell_id) {\n",
       "                        if (nbb_cells[i].get_text() == nbb_unformatted_code) {\n",
       "                             nbb_cells[i].set_text(nbb_formatted_code);\n",
       "                        }\n",
       "                        break;\n",
       "                    }\n",
       "                }\n",
       "            }, 500);\n",
       "            "
      ],
      "text/plain": [
       "<IPython.core.display.Javascript object>"
      ]
     },
     "metadata": {},
     "output_type": "display_data"
    }
   ],
   "source": [
    "# Choose the type of classifier.\n",
    "xgb_tuned = XGBClassifier(disable_default_eval_metric=True, random_state=1)\n",
    "\n",
    "# Grid of parameters to choose from\n",
    "parameters = {\n",
    "    \"n_estimators\": [50, 100, 150, 200],\n",
    "    \"subsample\": [0.7, 0.8, 0.9, 1],\n",
    "    \"gamma\": [0, 1, 3, 5],\n",
    "    \"colsample_bytree\": [0.7, 0.8, 0.9, 1],\n",
    "    \"colsample_bylevel\": [0.7, 0.8, 0.9, 1],\n",
    "}\n",
    "\n",
    "# Run the grid search\n",
    "grid = GridSearchCV(xgb_tuned, parameters, scoring=\"f1\", cv=5)\n",
    "grid = grid.fit(X_train, y_train)\n",
    "\n",
    "# Set the clf to the best combination of parameters\n",
    "xgb_tuned = grid.best_estimator_\n",
    "\n",
    "# Fit the best algorithm to the data.\n",
    "xgb_tuned.fit(X_train, y_train)"
   ]
  },
  {
   "cell_type": "code",
   "execution_count": 106,
   "id": "56db1636",
   "metadata": {},
   "outputs": [
    {
     "data": {
      "image/png": "[encoded data removed]",
      "text/plain": [
       "<Figure size 432x288 with 2 Axes>"
      ]
     },
     "metadata": {
      "needs_background": "light"
     },
     "output_type": "display_data"
    },
    {
     "data": {
      "application/javascript": [
       "\n",
       "            setTimeout(function() {\n",
       "                var nbb_cell_id = 106;\n",
       "                var nbb_unformatted_code = \"confusion_matrix_sklearn(xgb_tuned, X_test, y_test)\";\n",
       "                var nbb_formatted_code = \"confusion_matrix_sklearn(xgb_tuned, X_test, y_test)\";\n",
       "                var nbb_cells = Jupyter.notebook.get_cells();\n",
       "                for (var i = 0; i < nbb_cells.length; ++i) {\n",
       "                    if (nbb_cells[i].input_prompt_number == nbb_cell_id) {\n",
       "                        if (nbb_cells[i].get_text() == nbb_unformatted_code) {\n",
       "                             nbb_cells[i].set_text(nbb_formatted_code);\n",
       "                        }\n",
       "                        break;\n",
       "                    }\n",
       "                }\n",
       "            }, 500);\n",
       "            "
      ],
      "text/plain": [
       "<IPython.core.display.Javascript object>"
      ]
     },
     "metadata": {},
     "output_type": "display_data"
    }
   ],
   "source": [
    "confusion_matrix_sklearn(xgb_tuned, X_test, y_test)"
   ]
  },
  {
   "cell_type": "code",
   "execution_count": 107,
   "id": "2898123d",
   "metadata": {},
   "outputs": [
    {
     "name": "stdout",
     "output_type": "stream",
     "text": [
      "Training performance \n",
      "    Accuracy    Recall  Precision       F1\n",
      "0   0.76895  0.885096   0.791418  0.83564\n"
     ]
    },
    {
     "data": {
      "application/javascript": [
       "\n",
       "            setTimeout(function() {\n",
       "                var nbb_cell_id = 107;\n",
       "                var nbb_unformatted_code = \"xgb_tuned_model_train_perf = model_performance_classification_sklearn(\\n    xgb_tuned, X_train, y_train\\n)\\nprint(\\\"Training performance \\\\n\\\", xgb_tuned_model_train_perf)\";\n",
       "                var nbb_formatted_code = \"xgb_tuned_model_train_perf = model_performance_classification_sklearn(\\n    xgb_tuned, X_train, y_train\\n)\\nprint(\\\"Training performance \\\\n\\\", xgb_tuned_model_train_perf)\";\n",
       "                var nbb_cells = Jupyter.notebook.get_cells();\n",
       "                for (var i = 0; i < nbb_cells.length; ++i) {\n",
       "                    if (nbb_cells[i].input_prompt_number == nbb_cell_id) {\n",
       "                        if (nbb_cells[i].get_text() == nbb_unformatted_code) {\n",
       "                             nbb_cells[i].set_text(nbb_formatted_code);\n",
       "                        }\n",
       "                        break;\n",
       "                    }\n",
       "                }\n",
       "            }, 500);\n",
       "            "
      ],
      "text/plain": [
       "<IPython.core.display.Javascript object>"
      ]
     },
     "metadata": {},
     "output_type": "display_data"
    }
   ],
   "source": [
    "xgb_tuned_model_train_perf = model_performance_classification_sklearn(\n",
    "    xgb_tuned, X_train, y_train\n",
    ")\n",
    "print(\"Training performance \\n\", xgb_tuned_model_train_perf)"
   ]
  },
  {
   "cell_type": "code",
   "execution_count": 108,
   "id": "a2524c29",
   "metadata": {},
   "outputs": [
    {
     "name": "stdout",
     "output_type": "stream",
     "text": [
      "Testing performance \n",
      "    Accuracy    Recall  Precision        F1\n",
      "0  0.744898  0.861829   0.783509  0.820805\n"
     ]
    },
    {
     "data": {
      "application/javascript": [
       "\n",
       "            setTimeout(function() {\n",
       "                var nbb_cell_id = 108;\n",
       "                var nbb_unformatted_code = \"xgb_tuned_model_test_perf = model_performance_classification_sklearn(\\n    xgb_tuned, X_test, y_test\\n)\\nprint(\\\"Testing performance \\\\n\\\", xgb_tuned_model_test_perf)\";\n",
       "                var nbb_formatted_code = \"xgb_tuned_model_test_perf = model_performance_classification_sklearn(\\n    xgb_tuned, X_test, y_test\\n)\\nprint(\\\"Testing performance \\\\n\\\", xgb_tuned_model_test_perf)\";\n",
       "                var nbb_cells = Jupyter.notebook.get_cells();\n",
       "                for (var i = 0; i < nbb_cells.length; ++i) {\n",
       "                    if (nbb_cells[i].input_prompt_number == nbb_cell_id) {\n",
       "                        if (nbb_cells[i].get_text() == nbb_unformatted_code) {\n",
       "                             nbb_cells[i].set_text(nbb_formatted_code);\n",
       "                        }\n",
       "                        break;\n",
       "                    }\n",
       "                }\n",
       "            }, 500);\n",
       "            "
      ],
      "text/plain": [
       "<IPython.core.display.Javascript object>"
      ]
     },
     "metadata": {},
     "output_type": "display_data"
    }
   ],
   "source": [
    "xgb_tuned_model_test_perf = model_performance_classification_sklearn(\n",
    "    xgb_tuned, X_test, y_test\n",
    ")\n",
    "print(\"Testing performance \\n\", xgb_tuned_model_test_perf)"
   ]
  },
  {
   "cell_type": "markdown",
   "id": "07170117",
   "metadata": {},
   "source": [
    "#### Observations\n",
    "- Tuned XGBoosting Classsifier works well on training data, and is generalizing the data very well, almost exactly.\n",
    "- With an `F1 score` of 82 it has a good predicting model."
   ]
  },
  {
   "cell_type": "markdown",
   "id": "dc9d0f97",
   "metadata": {},
   "source": [
    "### Stacking Model"
   ]
  },
  {
   "cell_type": "code",
   "execution_count": 109,
   "id": "c08e3783",
   "metadata": {},
   "outputs": [
    {
     "data": {
      "application/javascript": [
       "\n",
       "            setTimeout(function() {\n",
       "                var nbb_cell_id = 109;\n",
       "                var nbb_unformatted_code = \"estimators = [\\n    (\\\"Decision Tree\\\", dtree_tuned),\\n    (\\\"Random Forest\\\", rf_tuned),\\n    (\\\"Gradient Boosting\\\", gb_tuned),\\n]\\nfinal_estimator = XGBClassifier(random_state=1)\";\n",
       "                var nbb_formatted_code = \"estimators = [\\n    (\\\"Decision Tree\\\", dtree_tuned),\\n    (\\\"Random Forest\\\", rf_tuned),\\n    (\\\"Gradient Boosting\\\", gb_tuned),\\n]\\nfinal_estimator = XGBClassifier(random_state=1)\";\n",
       "                var nbb_cells = Jupyter.notebook.get_cells();\n",
       "                for (var i = 0; i < nbb_cells.length; ++i) {\n",
       "                    if (nbb_cells[i].input_prompt_number == nbb_cell_id) {\n",
       "                        if (nbb_cells[i].get_text() == nbb_unformatted_code) {\n",
       "                             nbb_cells[i].set_text(nbb_formatted_code);\n",
       "                        }\n",
       "                        break;\n",
       "                    }\n",
       "                }\n",
       "            }, 500);\n",
       "            "
      ],
      "text/plain": [
       "<IPython.core.display.Javascript object>"
      ]
     },
     "metadata": {},
     "output_type": "display_data"
    }
   ],
   "source": [
    "estimators = [\n",
    "    (\"Decision Tree\", dtree_tuned),\n",
    "    (\"Random Forest\", rf_tuned),\n",
    "    (\"Gradient Boosting\", gb_tuned),\n",
    "]\n",
    "final_estimator = XGBClassifier(random_state=1)"
   ]
  },
  {
   "cell_type": "code",
   "execution_count": 110,
   "id": "5761b4db",
   "metadata": {},
   "outputs": [
    {
     "name": "stdout",
     "output_type": "stream",
     "text": [
      "[16:50:19] WARNING: C:/Users/Administrator/workspace/xgboost-win64_release_1.5.1/src/learner.cc:1115: Starting in XGBoost 1.3.0, the default evaluation metric used with the objective 'binary:logistic' was changed from 'error' to 'logloss'. Explicitly set eval_metric if you'd like to restore the old behavior.\n"
     ]
    },
    {
     "data": {
      "text/plain": [
       "StackingClassifier(cv=5,\n",
       "                   estimators=[('Decision Tree',\n",
       "                                DecisionTreeClassifier(min_impurity_decrease=0.0001,\n",
       "                                                       min_samples_leaf=4,\n",
       "                                                       random_state=1)),\n",
       "                               ('Random Forest',\n",
       "                                RandomForestClassifier(max_features=0.6,\n",
       "                                                       max_samples=0.7,\n",
       "                                                       min_samples_leaf=5,\n",
       "                                                       n_estimators=500,\n",
       "                                                       random_state=1)),\n",
       "                               ('Gradient Boosting',\n",
       "                                GradientBoostingClassifier(max_features=0.7,\n",
       "                                                           n_estimators=50,\n",
       "                                                           rando...\n",
       "                                                 interaction_constraints=None,\n",
       "                                                 learning_rate=None,\n",
       "                                                 max_delta_step=None,\n",
       "                                                 max_depth=None,\n",
       "                                                 min_child_weight=None,\n",
       "                                                 missing=nan,\n",
       "                                                 monotone_constraints=None,\n",
       "                                                 n_estimators=100, n_jobs=None,\n",
       "                                                 num_parallel_tree=None,\n",
       "                                                 predictor=None, random_state=1,\n",
       "                                                 reg_alpha=None,\n",
       "                                                 reg_lambda=None,\n",
       "                                                 scale_pos_weight=None,\n",
       "                                                 subsample=None,\n",
       "                                                 tree_method=None,\n",
       "                                                 validate_parameters=None,\n",
       "                                                 verbosity=None))"
      ]
     },
     "execution_count": 110,
     "metadata": {},
     "output_type": "execute_result"
    },
    {
     "data": {
      "application/javascript": [
       "\n",
       "            setTimeout(function() {\n",
       "                var nbb_cell_id = 110;\n",
       "                var nbb_unformatted_code = \"stacking_estimator = StackingClassifier(\\n    estimators=estimators, final_estimator=final_estimator, cv=5\\n)\\nstacking_estimator.fit(X_train, y_train)\";\n",
       "                var nbb_formatted_code = \"stacking_estimator = StackingClassifier(\\n    estimators=estimators, final_estimator=final_estimator, cv=5\\n)\\nstacking_estimator.fit(X_train, y_train)\";\n",
       "                var nbb_cells = Jupyter.notebook.get_cells();\n",
       "                for (var i = 0; i < nbb_cells.length; ++i) {\n",
       "                    if (nbb_cells[i].input_prompt_number == nbb_cell_id) {\n",
       "                        if (nbb_cells[i].get_text() == nbb_unformatted_code) {\n",
       "                             nbb_cells[i].set_text(nbb_formatted_code);\n",
       "                        }\n",
       "                        break;\n",
       "                    }\n",
       "                }\n",
       "            }, 500);\n",
       "            "
      ],
      "text/plain": [
       "<IPython.core.display.Javascript object>"
      ]
     },
     "metadata": {},
     "output_type": "display_data"
    }
   ],
   "source": [
    "stacking_estimator = StackingClassifier(\n",
    "    estimators=estimators, final_estimator=final_estimator, cv=5\n",
    ")\n",
    "stacking_estimator.fit(X_train, y_train)"
   ]
  },
  {
   "cell_type": "code",
   "execution_count": 111,
   "id": "41273e10",
   "metadata": {},
   "outputs": [
    {
     "name": "stdout",
     "output_type": "stream",
     "text": [
      "Training performance \n",
      "    Accuracy    Recall  Precision        F1\n",
      "0  0.754766  0.879689   0.779225  0.826415\n"
     ]
    },
    {
     "data": {
      "application/javascript": [
       "\n",
       "            setTimeout(function() {\n",
       "                var nbb_cell_id = 111;\n",
       "                var nbb_unformatted_code = \"stacking_estimator_model_train_perf = model_performance_classification_sklearn(\\n    stacking_estimator, X_train, y_train\\n)\\nprint(\\\"Training performance \\\\n\\\", stacking_estimator_model_train_perf)\";\n",
       "                var nbb_formatted_code = \"stacking_estimator_model_train_perf = model_performance_classification_sklearn(\\n    stacking_estimator, X_train, y_train\\n)\\nprint(\\\"Training performance \\\\n\\\", stacking_estimator_model_train_perf)\";\n",
       "                var nbb_cells = Jupyter.notebook.get_cells();\n",
       "                for (var i = 0; i < nbb_cells.length; ++i) {\n",
       "                    if (nbb_cells[i].input_prompt_number == nbb_cell_id) {\n",
       "                        if (nbb_cells[i].get_text() == nbb_unformatted_code) {\n",
       "                             nbb_cells[i].set_text(nbb_formatted_code);\n",
       "                        }\n",
       "                        break;\n",
       "                    }\n",
       "                }\n",
       "            }, 500);\n",
       "            "
      ],
      "text/plain": [
       "<IPython.core.display.Javascript object>"
      ]
     },
     "metadata": {},
     "output_type": "display_data"
    }
   ],
   "source": [
    "stacking_estimator_model_train_perf = model_performance_classification_sklearn(\n",
    "    stacking_estimator, X_train, y_train\n",
    ")\n",
    "print(\"Training performance \\n\", stacking_estimator_model_train_perf)"
   ]
  },
  {
   "cell_type": "code",
   "execution_count": 112,
   "id": "11e2f218",
   "metadata": {},
   "outputs": [
    {
     "name": "stdout",
     "output_type": "stream",
     "text": [
      "Testing performance \n",
      "    Accuracy    Recall  Precision        F1\n",
      "0  0.742412  0.857584   0.783084  0.818642\n"
     ]
    },
    {
     "data": {
      "application/javascript": [
       "\n",
       "            setTimeout(function() {\n",
       "                var nbb_cell_id = 112;\n",
       "                var nbb_unformatted_code = \"stacking_estimator_model_test_perf = model_performance_classification_sklearn(\\n    stacking_estimator, X_test, y_test\\n)\\nprint(\\\"Testing performance \\\\n\\\", stacking_estimator_model_test_perf)\";\n",
       "                var nbb_formatted_code = \"stacking_estimator_model_test_perf = model_performance_classification_sklearn(\\n    stacking_estimator, X_test, y_test\\n)\\nprint(\\\"Testing performance \\\\n\\\", stacking_estimator_model_test_perf)\";\n",
       "                var nbb_cells = Jupyter.notebook.get_cells();\n",
       "                for (var i = 0; i < nbb_cells.length; ++i) {\n",
       "                    if (nbb_cells[i].input_prompt_number == nbb_cell_id) {\n",
       "                        if (nbb_cells[i].get_text() == nbb_unformatted_code) {\n",
       "                             nbb_cells[i].set_text(nbb_formatted_code);\n",
       "                        }\n",
       "                        break;\n",
       "                    }\n",
       "                }\n",
       "            }, 500);\n",
       "            "
      ],
      "text/plain": [
       "<IPython.core.display.Javascript object>"
      ]
     },
     "metadata": {},
     "output_type": "display_data"
    }
   ],
   "source": [
    "stacking_estimator_model_test_perf = model_performance_classification_sklearn(\n",
    "    stacking_estimator, X_test, y_test\n",
    ")\n",
    "print(\"Testing performance \\n\", stacking_estimator_model_test_perf)"
   ]
  },
  {
   "cell_type": "markdown",
   "id": "c7c0d845",
   "metadata": {},
   "source": [
    "#### Observations\n",
    "- Stacking Model works well on training data, and is generalizing the data very well.\n",
    "- With an `F1 score` of 81.9 it has a good predicting model."
   ]
  },
  {
   "cell_type": "markdown",
   "id": "75aa3453",
   "metadata": {},
   "source": [
    "## Model Performance Comparison and Conclusions"
   ]
  },
  {
   "cell_type": "code",
   "execution_count": 113,
   "id": "671d05d1",
   "metadata": {},
   "outputs": [
    {
     "name": "stdout",
     "output_type": "stream",
     "text": [
      "Training performance comparison:\n"
     ]
    },
    {
     "data": {
      "text/html": [
       "<div>\n",
       "<style scoped>\n",
       "    .dataframe tbody tr th:only-of-type {\n",
       "        vertical-align: middle;\n",
       "    }\n",
       "\n",
       "    .dataframe tbody tr th {\n",
       "        vertical-align: top;\n",
       "    }\n",
       "\n",
       "    .dataframe thead th {\n",
       "        text-align: right;\n",
       "    }\n",
       "</style>\n",
       "<table border=\"1\" class=\"dataframe\">\n",
       "  <thead>\n",
       "    <tr style=\"text-align: right;\">\n",
       "      <th></th>\n",
       "      <th>Decision Tree</th>\n",
       "      <th>Decision Tree Tuned</th>\n",
       "      <th>Bagging Classifier</th>\n",
       "      <th>Bagging w/ Weighted Decision Tree</th>\n",
       "      <th>Bagging Tuned</th>\n",
       "      <th>Random Forest</th>\n",
       "      <th>Random Forest Tuned</th>\n",
       "      <th>Adaboost Classifier</th>\n",
       "      <th>Adaboost Tuned</th>\n",
       "      <th>Gradient Boost Classifier</th>\n",
       "      <th>Gradient Boost Tuned</th>\n",
       "      <th>XGB Classifier</th>\n",
       "      <th>XGB Tuned</th>\n",
       "      <th>Stacking Model</th>\n",
       "    </tr>\n",
       "  </thead>\n",
       "  <tbody>\n",
       "    <tr>\n",
       "      <th>Accuracy</th>\n",
       "      <td>1.0</td>\n",
       "      <td>0.788686</td>\n",
       "      <td>0.984694</td>\n",
       "      <td>0.986824</td>\n",
       "      <td>1.0</td>\n",
       "      <td>0.999944</td>\n",
       "      <td>0.833875</td>\n",
       "      <td>0.737441</td>\n",
       "      <td>0.736880</td>\n",
       "      <td>0.755607</td>\n",
       "      <td>0.750561</td>\n",
       "      <td>0.832081</td>\n",
       "      <td>0.768950</td>\n",
       "      <td>0.754766</td>\n",
       "    </tr>\n",
       "    <tr>\n",
       "      <th>Recall</th>\n",
       "      <td>1.0</td>\n",
       "      <td>0.879858</td>\n",
       "      <td>0.985553</td>\n",
       "      <td>0.989270</td>\n",
       "      <td>1.0</td>\n",
       "      <td>1.000000</td>\n",
       "      <td>0.929284</td>\n",
       "      <td>0.885941</td>\n",
       "      <td>0.877239</td>\n",
       "      <td>0.876479</td>\n",
       "      <td>0.873268</td>\n",
       "      <td>0.926580</td>\n",
       "      <td>0.885096</td>\n",
       "      <td>0.879689</td>\n",
       "    </tr>\n",
       "    <tr>\n",
       "      <th>Precision</th>\n",
       "      <td>1.0</td>\n",
       "      <td>0.816080</td>\n",
       "      <td>0.991332</td>\n",
       "      <td>0.990861</td>\n",
       "      <td>1.0</td>\n",
       "      <td>0.999916</td>\n",
       "      <td>0.838019</td>\n",
       "      <td>0.758810</td>\n",
       "      <td>0.762167</td>\n",
       "      <td>0.781704</td>\n",
       "      <td>0.778020</td>\n",
       "      <td>0.837623</td>\n",
       "      <td>0.791418</td>\n",
       "      <td>0.779225</td>\n",
       "    </tr>\n",
       "    <tr>\n",
       "      <th>F1</th>\n",
       "      <td>1.0</td>\n",
       "      <td>0.846770</td>\n",
       "      <td>0.988434</td>\n",
       "      <td>0.990065</td>\n",
       "      <td>1.0</td>\n",
       "      <td>0.999958</td>\n",
       "      <td>0.881295</td>\n",
       "      <td>0.817462</td>\n",
       "      <td>0.815664</td>\n",
       "      <td>0.826383</td>\n",
       "      <td>0.822897</td>\n",
       "      <td>0.879859</td>\n",
       "      <td>0.835640</td>\n",
       "      <td>0.826415</td>\n",
       "    </tr>\n",
       "  </tbody>\n",
       "</table>\n",
       "</div>"
      ],
      "text/plain": [
       "           Decision Tree  Decision Tree Tuned  Bagging Classifier  \\\n",
       "Accuracy             1.0             0.788686            0.984694   \n",
       "Recall               1.0             0.879858            0.985553   \n",
       "Precision            1.0             0.816080            0.991332   \n",
       "F1                   1.0             0.846770            0.988434   \n",
       "\n",
       "           Bagging w/ Weighted Decision Tree  Bagging Tuned  Random Forest  \\\n",
       "Accuracy                            0.986824            1.0       0.999944   \n",
       "Recall                              0.989270            1.0       1.000000   \n",
       "Precision                           0.990861            1.0       0.999916   \n",
       "F1                                  0.990065            1.0       0.999958   \n",
       "\n",
       "           Random Forest Tuned  Adaboost Classifier  Adaboost Tuned  \\\n",
       "Accuracy              0.833875             0.737441        0.736880   \n",
       "Recall                0.929284             0.885941        0.877239   \n",
       "Precision             0.838019             0.758810        0.762167   \n",
       "F1                    0.881295             0.817462        0.815664   \n",
       "\n",
       "           Gradient Boost Classifier  Gradient Boost Tuned  XGB Classifier  \\\n",
       "Accuracy                    0.755607              0.750561        0.832081   \n",
       "Recall                      0.876479              0.873268        0.926580   \n",
       "Precision                   0.781704              0.778020        0.837623   \n",
       "F1                          0.826383              0.822897        0.879859   \n",
       "\n",
       "           XGB Tuned  Stacking Model  \n",
       "Accuracy    0.768950        0.754766  \n",
       "Recall      0.885096        0.879689  \n",
       "Precision   0.791418        0.779225  \n",
       "F1          0.835640        0.826415  "
      ]
     },
     "execution_count": 113,
     "metadata": {},
     "output_type": "execute_result"
    },
    {
     "data": {
      "application/javascript": [
       "\n",
       "            setTimeout(function() {\n",
       "                var nbb_cell_id = 113;\n",
       "                var nbb_unformatted_code = \"# training performance comparison\\n\\nmodels_train_comp_df = pd.concat(\\n    [\\n        dtree_classifier_train_perf.T,\\n        dtree_tuned_train_perf.T,\\n        bagging_classifier_train_perf.T,\\n        bagging_wt_model_train_perf.T,\\n        bagging_tuned_model_train_perf.T,\\n        rf_model_train_perf.T,\\n        rf_tuned_model_train_perf.T,\\n        ab_classifier_model_train_perf.T,\\n        ab_tuned_model_train_perf.T,\\n        gb_classifier_model_train_perf.T,\\n        gb_tuned_model_train_perf.T,\\n        xgb_classifier_model_train_perf.T,\\n        xgb_tuned_model_train_perf.T,\\n        stacking_estimator_model_train_perf.T,\\n    ],\\n    axis=1,\\n)\\n\\nmodels_train_comp_df.columns = [\\n    \\\"Decision Tree\\\",\\n    \\\"Decision Tree Tuned\\\",\\n    \\\"Bagging Classifier\\\",\\n    \\\"Bagging w/ Weighted Decision Tree\\\",\\n    \\\"Bagging Tuned\\\",\\n    \\\"Random Forest\\\",\\n    \\\"Random Forest Tuned\\\",\\n    \\\"Adaboost Classifier\\\",\\n    \\\"Adaboost Tuned\\\",\\n    \\\"Gradient Boost Classifier\\\",\\n    \\\"Gradient Boost Tuned\\\",\\n    \\\"XGB Classifier\\\",\\n    \\\"XGB Tuned\\\",\\n    \\\"Stacking Model\\\",\\n]\\n\\nprint(\\\"Training performance comparison:\\\")\\nmodels_train_comp_df\";\n",
       "                var nbb_formatted_code = \"# training performance comparison\\n\\nmodels_train_comp_df = pd.concat(\\n    [\\n        dtree_classifier_train_perf.T,\\n        dtree_tuned_train_perf.T,\\n        bagging_classifier_train_perf.T,\\n        bagging_wt_model_train_perf.T,\\n        bagging_tuned_model_train_perf.T,\\n        rf_model_train_perf.T,\\n        rf_tuned_model_train_perf.T,\\n        ab_classifier_model_train_perf.T,\\n        ab_tuned_model_train_perf.T,\\n        gb_classifier_model_train_perf.T,\\n        gb_tuned_model_train_perf.T,\\n        xgb_classifier_model_train_perf.T,\\n        xgb_tuned_model_train_perf.T,\\n        stacking_estimator_model_train_perf.T,\\n    ],\\n    axis=1,\\n)\\n\\nmodels_train_comp_df.columns = [\\n    \\\"Decision Tree\\\",\\n    \\\"Decision Tree Tuned\\\",\\n    \\\"Bagging Classifier\\\",\\n    \\\"Bagging w/ Weighted Decision Tree\\\",\\n    \\\"Bagging Tuned\\\",\\n    \\\"Random Forest\\\",\\n    \\\"Random Forest Tuned\\\",\\n    \\\"Adaboost Classifier\\\",\\n    \\\"Adaboost Tuned\\\",\\n    \\\"Gradient Boost Classifier\\\",\\n    \\\"Gradient Boost Tuned\\\",\\n    \\\"XGB Classifier\\\",\\n    \\\"XGB Tuned\\\",\\n    \\\"Stacking Model\\\",\\n]\\n\\nprint(\\\"Training performance comparison:\\\")\\nmodels_train_comp_df\";\n",
       "                var nbb_cells = Jupyter.notebook.get_cells();\n",
       "                for (var i = 0; i < nbb_cells.length; ++i) {\n",
       "                    if (nbb_cells[i].input_prompt_number == nbb_cell_id) {\n",
       "                        if (nbb_cells[i].get_text() == nbb_unformatted_code) {\n",
       "                             nbb_cells[i].set_text(nbb_formatted_code);\n",
       "                        }\n",
       "                        break;\n",
       "                    }\n",
       "                }\n",
       "            }, 500);\n",
       "            "
      ],
      "text/plain": [
       "<IPython.core.display.Javascript object>"
      ]
     },
     "metadata": {},
     "output_type": "display_data"
    }
   ],
   "source": [
    "# training performance comparison\n",
    "\n",
    "models_train_comp_df = pd.concat(\n",
    "    [\n",
    "        dtree_classifier_train_perf.T,\n",
    "        dtree_tuned_train_perf.T,\n",
    "        bagging_classifier_train_perf.T,\n",
    "        bagging_wt_model_train_perf.T,\n",
    "        bagging_tuned_model_train_perf.T,\n",
    "        rf_model_train_perf.T,\n",
    "        rf_tuned_model_train_perf.T,\n",
    "        ab_classifier_model_train_perf.T,\n",
    "        ab_tuned_model_train_perf.T,\n",
    "        gb_classifier_model_train_perf.T,\n",
    "        gb_tuned_model_train_perf.T,\n",
    "        xgb_classifier_model_train_perf.T,\n",
    "        xgb_tuned_model_train_perf.T,\n",
    "        stacking_estimator_model_train_perf.T,\n",
    "    ],\n",
    "    axis=1,\n",
    ")\n",
    "\n",
    "models_train_comp_df.columns = [\n",
    "    \"Decision Tree\",\n",
    "    \"Decision Tree Tuned\",\n",
    "    \"Bagging Classifier\",\n",
    "    \"Bagging w/ Weighted Decision Tree\",\n",
    "    \"Bagging Tuned\",\n",
    "    \"Random Forest\",\n",
    "    \"Random Forest Tuned\",\n",
    "    \"Adaboost Classifier\",\n",
    "    \"Adaboost Tuned\",\n",
    "    \"Gradient Boost Classifier\",\n",
    "    \"Gradient Boost Tuned\",\n",
    "    \"XGB Classifier\",\n",
    "    \"XGB Tuned\",\n",
    "    \"Stacking Model\",\n",
    "]\n",
    "\n",
    "print(\"Training performance comparison:\")\n",
    "models_train_comp_df"
   ]
  },
  {
   "cell_type": "code",
   "execution_count": 114,
   "id": "49889fe5",
   "metadata": {},
   "outputs": [
    {
     "name": "stdout",
     "output_type": "stream",
     "text": [
      "Testing performance comparison:\n"
     ]
    },
    {
     "data": {
      "text/html": [
       "<div>\n",
       "<style scoped>\n",
       "    .dataframe tbody tr th:only-of-type {\n",
       "        vertical-align: middle;\n",
       "    }\n",
       "\n",
       "    .dataframe tbody tr th {\n",
       "        vertical-align: top;\n",
       "    }\n",
       "\n",
       "    .dataframe thead th {\n",
       "        text-align: right;\n",
       "    }\n",
       "</style>\n",
       "<table border=\"1\" class=\"dataframe\">\n",
       "  <thead>\n",
       "    <tr style=\"text-align: right;\">\n",
       "      <th></th>\n",
       "      <th>Decision Tree</th>\n",
       "      <th>Decision Tree Tuned</th>\n",
       "      <th>Bagging Classifier</th>\n",
       "      <th>Bagging w/ Weighted Decision Tree</th>\n",
       "      <th>Bagging Tuned</th>\n",
       "      <th>Random Forest</th>\n",
       "      <th>Random Forest Tuned</th>\n",
       "      <th>Adaboost Classifier</th>\n",
       "      <th>Adaboost Tuned</th>\n",
       "      <th>Gradient Boost Classifier</th>\n",
       "      <th>Gradient Boost Tuned</th>\n",
       "      <th>XGB Classifier</th>\n",
       "      <th>XGB Tuned</th>\n",
       "      <th>Stacking Model</th>\n",
       "    </tr>\n",
       "  </thead>\n",
       "  <tbody>\n",
       "    <tr>\n",
       "      <th>Accuracy</th>\n",
       "      <td>0.661826</td>\n",
       "      <td>0.727630</td>\n",
       "      <td>0.697148</td>\n",
       "      <td>0.704082</td>\n",
       "      <td>0.733124</td>\n",
       "      <td>0.728938</td>\n",
       "      <td>0.748561</td>\n",
       "      <td>0.738488</td>\n",
       "      <td>0.740712</td>\n",
       "      <td>0.751308</td>\n",
       "      <td>0.751832</td>\n",
       "      <td>0.736133</td>\n",
       "      <td>0.744898</td>\n",
       "      <td>0.742412</td>\n",
       "    </tr>\n",
       "    <tr>\n",
       "      <th>Recall</th>\n",
       "      <td>0.742570</td>\n",
       "      <td>0.828638</td>\n",
       "      <td>0.771517</td>\n",
       "      <td>0.791007</td>\n",
       "      <td>0.887109</td>\n",
       "      <td>0.836743</td>\n",
       "      <td>0.865689</td>\n",
       "      <td>0.885951</td>\n",
       "      <td>0.876689</td>\n",
       "      <td>0.870513</td>\n",
       "      <td>0.868970</td>\n",
       "      <td>0.854110</td>\n",
       "      <td>0.861829</td>\n",
       "      <td>0.857584</td>\n",
       "    </tr>\n",
       "    <tr>\n",
       "      <th>Precision</th>\n",
       "      <td>0.754658</td>\n",
       "      <td>0.782434</td>\n",
       "      <td>0.779489</td>\n",
       "      <td>0.776620</td>\n",
       "      <td>0.759584</td>\n",
       "      <td>0.779576</td>\n",
       "      <td>0.785364</td>\n",
       "      <td>0.765294</td>\n",
       "      <td>0.771831</td>\n",
       "      <td>0.785752</td>\n",
       "      <td>0.787100</td>\n",
       "      <td>0.778266</td>\n",
       "      <td>0.783509</td>\n",
       "      <td>0.783084</td>\n",
       "    </tr>\n",
       "    <tr>\n",
       "      <th>F1</th>\n",
       "      <td>0.748565</td>\n",
       "      <td>0.804873</td>\n",
       "      <td>0.775482</td>\n",
       "      <td>0.783748</td>\n",
       "      <td>0.818408</td>\n",
       "      <td>0.807148</td>\n",
       "      <td>0.823573</td>\n",
       "      <td>0.821215</td>\n",
       "      <td>0.820925</td>\n",
       "      <td>0.825964</td>\n",
       "      <td>0.826011</td>\n",
       "      <td>0.814426</td>\n",
       "      <td>0.820805</td>\n",
       "      <td>0.818642</td>\n",
       "    </tr>\n",
       "  </tbody>\n",
       "</table>\n",
       "</div>"
      ],
      "text/plain": [
       "           Decision Tree  Decision Tree Tuned  Bagging Classifier  \\\n",
       "Accuracy        0.661826             0.727630            0.697148   \n",
       "Recall          0.742570             0.828638            0.771517   \n",
       "Precision       0.754658             0.782434            0.779489   \n",
       "F1              0.748565             0.804873            0.775482   \n",
       "\n",
       "           Bagging w/ Weighted Decision Tree  Bagging Tuned  Random Forest  \\\n",
       "Accuracy                            0.704082       0.733124       0.728938   \n",
       "Recall                              0.791007       0.887109       0.836743   \n",
       "Precision                           0.776620       0.759584       0.779576   \n",
       "F1                                  0.783748       0.818408       0.807148   \n",
       "\n",
       "           Random Forest Tuned  Adaboost Classifier  Adaboost Tuned  \\\n",
       "Accuracy              0.748561             0.738488        0.740712   \n",
       "Recall                0.865689             0.885951        0.876689   \n",
       "Precision             0.785364             0.765294        0.771831   \n",
       "F1                    0.823573             0.821215        0.820925   \n",
       "\n",
       "           Gradient Boost Classifier  Gradient Boost Tuned  XGB Classifier  \\\n",
       "Accuracy                    0.751308              0.751832        0.736133   \n",
       "Recall                      0.870513              0.868970        0.854110   \n",
       "Precision                   0.785752              0.787100        0.778266   \n",
       "F1                          0.825964              0.826011        0.814426   \n",
       "\n",
       "           XGB Tuned  Stacking Model  \n",
       "Accuracy    0.744898        0.742412  \n",
       "Recall      0.861829        0.857584  \n",
       "Precision   0.783509        0.783084  \n",
       "F1          0.820805        0.818642  "
      ]
     },
     "execution_count": 114,
     "metadata": {},
     "output_type": "execute_result"
    },
    {
     "data": {
      "application/javascript": [
       "\n",
       "            setTimeout(function() {\n",
       "                var nbb_cell_id = 114;\n",
       "                var nbb_unformatted_code = \"# training performance comparison\\n\\nmodels_test_comp_df = pd.concat(\\n    [\\n        dtree_classifier_test_perf.T,\\n        dtree_tuned_test_perf.T,\\n        bagging_classifier_test_perf.T,\\n        bagging_wt_model_test_perf.T,\\n        bagging_tuned_model_test_perf.T,\\n        rf_model_test_perf.T,\\n        rf_tuned_model_test_perf.T,\\n        ab_classifier_model_test_perf.T,\\n        ab_tuned_model_test_perf.T,\\n        gb_classifier_model_test_perf.T,\\n        gb_tuned_model_test_perf.T,\\n        xgb_classifier_model_test_perf.T,\\n        xgb_tuned_model_test_perf.T,\\n        stacking_estimator_model_test_perf.T,\\n    ],\\n    axis=1,\\n)\\n\\nmodels_test_comp_df.columns = [\\n    \\\"Decision Tree\\\",\\n    \\\"Decision Tree Tuned\\\",\\n    \\\"Bagging Classifier\\\",\\n    \\\"Bagging w/ Weighted Decision Tree\\\",\\n    \\\"Bagging Tuned\\\",\\n    \\\"Random Forest\\\",\\n    \\\"Random Forest Tuned\\\",\\n    \\\"Adaboost Classifier\\\",\\n    \\\"Adaboost Tuned\\\",\\n    \\\"Gradient Boost Classifier\\\",\\n    \\\"Gradient Boost Tuned\\\",\\n    \\\"XGB Classifier\\\",\\n    \\\"XGB Tuned\\\",\\n    \\\"Stacking Model\\\",\\n]\\n\\nprint(\\\"Testing performance comparison:\\\")\\nmodels_test_comp_df\";\n",
       "                var nbb_formatted_code = \"# training performance comparison\\n\\nmodels_test_comp_df = pd.concat(\\n    [\\n        dtree_classifier_test_perf.T,\\n        dtree_tuned_test_perf.T,\\n        bagging_classifier_test_perf.T,\\n        bagging_wt_model_test_perf.T,\\n        bagging_tuned_model_test_perf.T,\\n        rf_model_test_perf.T,\\n        rf_tuned_model_test_perf.T,\\n        ab_classifier_model_test_perf.T,\\n        ab_tuned_model_test_perf.T,\\n        gb_classifier_model_test_perf.T,\\n        gb_tuned_model_test_perf.T,\\n        xgb_classifier_model_test_perf.T,\\n        xgb_tuned_model_test_perf.T,\\n        stacking_estimator_model_test_perf.T,\\n    ],\\n    axis=1,\\n)\\n\\nmodels_test_comp_df.columns = [\\n    \\\"Decision Tree\\\",\\n    \\\"Decision Tree Tuned\\\",\\n    \\\"Bagging Classifier\\\",\\n    \\\"Bagging w/ Weighted Decision Tree\\\",\\n    \\\"Bagging Tuned\\\",\\n    \\\"Random Forest\\\",\\n    \\\"Random Forest Tuned\\\",\\n    \\\"Adaboost Classifier\\\",\\n    \\\"Adaboost Tuned\\\",\\n    \\\"Gradient Boost Classifier\\\",\\n    \\\"Gradient Boost Tuned\\\",\\n    \\\"XGB Classifier\\\",\\n    \\\"XGB Tuned\\\",\\n    \\\"Stacking Model\\\",\\n]\\n\\nprint(\\\"Testing performance comparison:\\\")\\nmodels_test_comp_df\";\n",
       "                var nbb_cells = Jupyter.notebook.get_cells();\n",
       "                for (var i = 0; i < nbb_cells.length; ++i) {\n",
       "                    if (nbb_cells[i].input_prompt_number == nbb_cell_id) {\n",
       "                        if (nbb_cells[i].get_text() == nbb_unformatted_code) {\n",
       "                             nbb_cells[i].set_text(nbb_formatted_code);\n",
       "                        }\n",
       "                        break;\n",
       "                    }\n",
       "                }\n",
       "            }, 500);\n",
       "            "
      ],
      "text/plain": [
       "<IPython.core.display.Javascript object>"
      ]
     },
     "metadata": {},
     "output_type": "display_data"
    }
   ],
   "source": [
    "# training performance comparison\n",
    "\n",
    "models_test_comp_df = pd.concat(\n",
    "    [\n",
    "        dtree_classifier_test_perf.T,\n",
    "        dtree_tuned_test_perf.T,\n",
    "        bagging_classifier_test_perf.T,\n",
    "        bagging_wt_model_test_perf.T,\n",
    "        bagging_tuned_model_test_perf.T,\n",
    "        rf_model_test_perf.T,\n",
    "        rf_tuned_model_test_perf.T,\n",
    "        ab_classifier_model_test_perf.T,\n",
    "        ab_tuned_model_test_perf.T,\n",
    "        gb_classifier_model_test_perf.T,\n",
    "        gb_tuned_model_test_perf.T,\n",
    "        xgb_classifier_model_test_perf.T,\n",
    "        xgb_tuned_model_test_perf.T,\n",
    "        stacking_estimator_model_test_perf.T,\n",
    "    ],\n",
    "    axis=1,\n",
    ")\n",
    "\n",
    "models_test_comp_df.columns = [\n",
    "    \"Decision Tree\",\n",
    "    \"Decision Tree Tuned\",\n",
    "    \"Bagging Classifier\",\n",
    "    \"Bagging w/ Weighted Decision Tree\",\n",
    "    \"Bagging Tuned\",\n",
    "    \"Random Forest\",\n",
    "    \"Random Forest Tuned\",\n",
    "    \"Adaboost Classifier\",\n",
    "    \"Adaboost Tuned\",\n",
    "    \"Gradient Boost Classifier\",\n",
    "    \"Gradient Boost Tuned\",\n",
    "    \"XGB Classifier\",\n",
    "    \"XGB Tuned\",\n",
    "    \"Stacking Model\",\n",
    "]\n",
    "\n",
    "print(\"Testing performance comparison:\")\n",
    "models_test_comp_df"
   ]
  },
  {
   "cell_type": "code",
   "execution_count": 115,
   "id": "dd2debe7",
   "metadata": {},
   "outputs": [
    {
     "name": "stdout",
     "output_type": "stream",
     "text": [
      "                                        Imp\n",
      "education_of_employee_High School  0.295246\n",
      "has_job_experience                 0.170332\n",
      "prevailing_wage                    0.138349\n",
      "education_of_employee_Master's     0.105622\n",
      "education_of_employee_Doctorate    0.066893\n",
      "continent_Europe                   0.065243\n",
      "unit_of_wage_Year                  0.037523\n",
      "region_of_employment_Midwest       0.030088\n",
      "region_of_employment_West          0.023404\n",
      "continent_North America            0.016507\n",
      "region_of_employment_South         0.011248\n",
      "region_of_employment_Northeast     0.008847\n",
      "continent_Asia                     0.007076\n",
      "full_time_position                 0.005908\n",
      "no_of_employees                    0.005542\n",
      "continent_South America            0.004986\n",
      "yr_of_estab                        0.003460\n",
      "requires_job_training              0.002828\n",
      "continent_Oceania                  0.000684\n",
      "unit_of_wage_Week                  0.000215\n",
      "unit_of_wage_Month                 0.000000\n"
     ]
    },
    {
     "data": {
      "application/javascript": [
       "\n",
       "            setTimeout(function() {\n",
       "                var nbb_cell_id = 115;\n",
       "                var nbb_unformatted_code = \"# importance of features in the tree building ( The importance of a feature is computed as the\\n# (normalized) total reduction of the criterion brought by that feature. It is also known as the Gini importance )\\n\\nprint(\\n    pd.DataFrame(\\n        gb_tuned.feature_importances_, columns=[\\\"Imp\\\"], index=X_train.columns\\n    ).sort_values(by=\\\"Imp\\\", ascending=False)\\n)\";\n",
       "                var nbb_formatted_code = \"# importance of features in the tree building ( The importance of a feature is computed as the\\n# (normalized) total reduction of the criterion brought by that feature. It is also known as the Gini importance )\\n\\nprint(\\n    pd.DataFrame(\\n        gb_tuned.feature_importances_, columns=[\\\"Imp\\\"], index=X_train.columns\\n    ).sort_values(by=\\\"Imp\\\", ascending=False)\\n)\";\n",
       "                var nbb_cells = Jupyter.notebook.get_cells();\n",
       "                for (var i = 0; i < nbb_cells.length; ++i) {\n",
       "                    if (nbb_cells[i].input_prompt_number == nbb_cell_id) {\n",
       "                        if (nbb_cells[i].get_text() == nbb_unformatted_code) {\n",
       "                             nbb_cells[i].set_text(nbb_formatted_code);\n",
       "                        }\n",
       "                        break;\n",
       "                    }\n",
       "                }\n",
       "            }, 500);\n",
       "            "
      ],
      "text/plain": [
       "<IPython.core.display.Javascript object>"
      ]
     },
     "metadata": {},
     "output_type": "display_data"
    }
   ],
   "source": [
    "# importance of features in the tree building ( The importance of a feature is computed as the\n",
    "# (normalized) total reduction of the criterion brought by that feature. It is also known as the Gini importance )\n",
    "\n",
    "print(\n",
    "    pd.DataFrame(\n",
    "        gb_tuned.feature_importances_, columns=[\"Imp\"], index=X_train.columns\n",
    "    ).sort_values(by=\"Imp\", ascending=False)\n",
    ")"
   ]
  },
  {
   "cell_type": "code",
   "execution_count": 116,
   "id": "592aeecd",
   "metadata": {},
   "outputs": [
    {
     "data": {
      "image/png": "[encoded data removed]",
      "text/plain": [
       "<Figure size 864x864 with 1 Axes>"
      ]
     },
     "metadata": {
      "needs_background": "light"
     },
     "output_type": "display_data"
    },
    {
     "data": {
      "application/javascript": [
       "\n",
       "            setTimeout(function() {\n",
       "                var nbb_cell_id = 116;\n",
       "                var nbb_unformatted_code = \"feature_names = X_train.columns\\nimportances = gb_tuned.feature_importances_\\nindices = np.argsort(importances)\\n\\nplt.figure(figsize=(12, 12))\\nplt.title(\\\"Feature Importances\\\")\\nplt.barh(range(len(indices)), importances[indices], color=\\\"violet\\\", align=\\\"center\\\")\\nplt.yticks(range(len(indices)), [feature_names[i] for i in indices])\\nplt.xlabel(\\\"Relative Importance\\\")\\nplt.show()\";\n",
       "                var nbb_formatted_code = \"feature_names = X_train.columns\\nimportances = gb_tuned.feature_importances_\\nindices = np.argsort(importances)\\n\\nplt.figure(figsize=(12, 12))\\nplt.title(\\\"Feature Importances\\\")\\nplt.barh(range(len(indices)), importances[indices], color=\\\"violet\\\", align=\\\"center\\\")\\nplt.yticks(range(len(indices)), [feature_names[i] for i in indices])\\nplt.xlabel(\\\"Relative Importance\\\")\\nplt.show()\";\n",
       "                var nbb_cells = Jupyter.notebook.get_cells();\n",
       "                for (var i = 0; i < nbb_cells.length; ++i) {\n",
       "                    if (nbb_cells[i].input_prompt_number == nbb_cell_id) {\n",
       "                        if (nbb_cells[i].get_text() == nbb_unformatted_code) {\n",
       "                             nbb_cells[i].set_text(nbb_formatted_code);\n",
       "                        }\n",
       "                        break;\n",
       "                    }\n",
       "                }\n",
       "            }, 500);\n",
       "            "
      ],
      "text/plain": [
       "<IPython.core.display.Javascript object>"
      ]
     },
     "metadata": {},
     "output_type": "display_data"
    }
   ],
   "source": [
    "feature_names = X_train.columns\n",
    "importances = gb_tuned.feature_importances_\n",
    "indices = np.argsort(importances)\n",
    "\n",
    "plt.figure(figsize=(12, 12))\n",
    "plt.title(\"Feature Importances\")\n",
    "plt.barh(range(len(indices)), importances[indices], color=\"violet\", align=\"center\")\n",
    "plt.yticks(range(len(indices)), [feature_names[i] for i in indices])\n",
    "plt.xlabel(\"Relative Importance\")\n",
    "plt.show()"
   ]
  },
  {
   "cell_type": "markdown",
   "id": "fffc37af",
   "metadata": {},
   "source": [
    "## Actionable Insights and Recommendations"
   ]
  },
  {
   "cell_type": "markdown",
   "id": "c6503b8a",
   "metadata": {},
   "source": [
    "- The predictive model tcan estimate the visa status with almost a 75% certainty. Given the employees education, experience, country of origin, region relocating to, and wage, we can determine whether an employee will be approved for a visa or not.\n",
    "- This prediction will allow companies to determine whether or not they should put their time in a candidate, thus saving time and money. Knowing the prediction in advance will also help them select the best possible candidate, as they will not try for someone that will be denied and waste precious time.\n",
    "- This model can be used to input a candidates profile, and determine within a certain confidence level whether the cendidate will receive a certified status or not.\n",
    "- The most important factor is whether or not someone has only a high school level education. This makes up 30% of the knowledge needed ot predict the visa status. If the candidate has job experience, that makes up 17%. The prevailing wage makes up 14%, and if the candidate has a master's degree that makes up about 11%. These factors total to about 72% of the knowledge needed to determine visa status.\n",
    "- We can give a profile regarding approval rates for certain characteristics. Given the characteristics, the company can reduce the time needed to find certain candidates. These characteristics are as:\n",
    "    - Applicants with a doctorate are approved almsot 90% of the time. Master's at about 80%. Bachelor's almost 60%. High School diplomas are at about 30%.\n",
    "    - Approval ratings for continents. Europe is at about 80%, Africa is at about 70%, Asia is at about 68%, Oceania is at about 65%, North America is at about 63%, and Africe is at about 60%.\n",
    "    - Those with work experience are approved 70% of the time.\n",
    "- Targeting certain areas over others will increase productivity.\n",
    "- Targeting certain education levels will decrease the time used to find an employee.\n",
    "- Filter applicants based on work experience.\n",
    "- Filter out hourly wage applicants can also increase chances for certified visa status.\n",
    "- Filtering candidates based on prevailing wage will help increase visa status."
   ]
  }
 ],
 "metadata": {
  "kernelspec": {
   "display_name": "Python 3",
   "language": "python",
   "name": "python3"
  },
  "language_info": {
   "codemirror_mode": {
    "name": "ipython",
    "version": 3
   },
   "file_extension": ".py",
   "mimetype": "text/x-python",
   "name": "python",
   "nbconvert_exporter": "python",
   "pygments_lexer": "ipython3",
   "version": "3.8.8"
  }
 },
 "nbformat": 4,
 "nbformat_minor": 5
}
